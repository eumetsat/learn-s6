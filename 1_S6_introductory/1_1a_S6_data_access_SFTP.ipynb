{
 "cells": [
  {
   "cell_type": "markdown",
   "metadata": {},
   "source": [
    "<img src='https://gitlab.eumetsat.int/eumetlab/oceans/ocean-training/tools/frameworks/-/raw/main/img/Standard_banner.png' align='right' width='100%'/>"
   ]
  },
  {
   "cell_type": "markdown",
   "metadata": {},
   "source": [
    "<a href=\"../Index.ipynb\"><< Index</a>\n",
    "<br>\n",
    "<a href=\"./1_1b_S6_data_access_DS.ipynb\">Accessing Sentinel-6 data via Data Store >></a>"
   ]
  },
  {
   "cell_type": "markdown",
   "metadata": {},
   "source": [
    "<font color=\"#138D75\">**Copernicus Marine Training Service**</font> <br>\n",
    "**Copyright:** 2022 EUMETSAT <br>\n",
    "**License:** MIT <br>\n",
    "**Authors:** Ben Loveday (EUMETSAT/Innoflair UG), Hayley Evers-King (EUMETSAT), Vinca Rosmorduc (CLS)"
   ]
  },
  {
   "cell_type": "markdown",
   "metadata": {},
   "source": [
    "<div class=\"alert alert-block alert-success\">\n",
    "<h3>Learn Sentinel-6: Introductory</h3></div>"
   ]
  },
  {
   "cell_type": "markdown",
   "metadata": {},
   "source": [
    "<div class=\"alert alert-block alert-warning\">\n",
    "    \n",
    "<b>PREREQUISITES </b>\n",
    "    \n",
    "This notebook has the following prerequisites:\n",
    "- **<a href=\"https://eoportal.eumetsat.int/\" target=\"_blank\">A EUMETSAT Earth Observation Portal account</a>**\n",
    "- SFTP access - you can need to request this via your EOP account. You will receive an email with your username and password.\n",
    "\n",
    "There are no prerequisite notebooks for this module.\n",
    "</div>\n",
    "<hr>"
   ]
  },
  {
   "cell_type": "markdown",
   "metadata": {},
   "source": [
    "# 1.1a Accessing <font color=\"#FF000000\">operational</font> Sentinel-4 altimetry data via SFTP\n",
    "\n",
    "### Data available\n",
    "\n",
    "| Product Description  | Data Store collection ID| Product Navigator | \n",
    "|:--------------------:|:-----------------------:|:-------------:|\n",
    "| **Sentinel-6 Poseidon-4 Altimetry level-1B Low Resolution (NTC)** | EO:EUM:DAT:0118 | <a href=\"https://navigator.eumetsat.int/product/EO:EUM:DAT:0118?query=Altimetry%20NTC&filter=satellite__Sentinel-6&results=20&s=advanced\" target=\"_blank\">link</a> |\n",
    "| **Sentinel-6 Poseidon-4 Altimetry level-2 Low Resolution (NTC)** | EO:EUM:DAT:0120 | <a href=\"https://navigator.eumetsat.int/product/EO:EUM:DAT:0120?query=Altimetry%20NTC&filter=satellite__Sentinel-6&results=20&s=advanced\" target=\"_blank\">link</a> |\n",
    "| **Sentinel-6 Poseidon-4 Altimetry level-2 Low Resolution (NRT)** | EO:EUM:DAT:0122 | <a href=\"https://navigator.eumetsat.int/product/EO:EUM:DAT:0122?query=Altimetry%20NRT&filter=satellite__Sentinel-6&results=20&s=advanced\" target=\"_blank\">link</a> |\n",
    "| Sentinel-6 Poseidon-4 Altimetry level-1A High Resolution | EO:EUM:DAT:0124 | <a href=\"https://navigator.eumetsat.int/product/EO:EUM:DAT:0124?query=Altimetry&filter=satellite__Sentinel-6&results=20&s=advanced\" target=\"_blank\">link</a> |\n",
    "| **Sentinel-6 Poseidon-4 Altimetry level-1B High Resolution (NTC)** | EO:EUM:DAT:0126 | <a href=\"https://navigator.eumetsat.int/product/EO:EUM:DAT:0126?query=Altimetry%20NTC&filter=satellite__Sentinel-6&results=20&s=advanced\" target=\"_blank\">link</a> |\n",
    "| **Sentinel-6 Poseidon-4 Altimetry level-2 High Resolution (NTC)** | EO:EUM:DAT:0128 | <a href=\"https://navigator.eumetsat.int/product/EO:EUM:DAT:0128?query=Altimetry%20NTC&filter=satellite__Sentinel-6&results=20&s=advanced\" target=\"_blank\">link</a> |\n",
    "| **Sentinel-6 Poseidon-4 Altimetry level-2P High Resolution (NRT)** | EO:EUM:DAT:0134 | <a href=\"https://navigator.eumetsat.int/product/EO:EUM:DAT:0134?query=Altimetry%20STC%202P&filter=satellite__Sentinel-6&results=20&s=advanced\" target=\"_blank\">link</a> |\n",
    "| **Sentinel-6 Poseidon-4 Altimetry level-3 High Resolution (STC)** | EO:EUM:DAT:0139 | <a href=\"https://navigator.eumetsat.int/product/EO:EUM:DAT:0139?query=Wave%20STC%202P&filter=satellite__Sentinel-6&results=20&s=advanced\" target=\"_blank\">link</a> |\n",
    "| Sentinel-6 Climate Quality AMR-C level-2 | EO:EUM:DAT:0144 | <a href=\"https://navigator.eumetsat.int/product/EO:EUM:DAT:0144?query=&filter=satellite__Sentinel-6&results=24&s=advanced\" target=\"_blank\">link</a> |\n",
    "\n",
    "\n",
    "### Learning outcomes\n",
    "\n",
    "At the end of this notebook you will know;\n",
    "* how to download data using the <font color=\"#138D75\">**SFTP**</font> server\n",
    "\n",
    "### Outline\n",
    "\n",
    "Operational data from Sentinel-6 is currently available only via SFTP server. However, in the near future it will be available through the EUMETSAT Data Store, either via a web user interface (WebUI) or through code and command line interfaces with an Application Programming Interface (API). Reprocessed Sentinel-6 data is already available throug the Data Store (for more information see; **<a href=\"./1_1b_S6_data_access_DS.ipynb\">Accessing Sentinel-6 data via Data Store</a>**). Here, for now, we will show you how to fetch data using SFTP.\n",
    "\n",
    "<div class=\"alert alert-info\" role=\"alert\">\n",
    "\n",
    "## <a id='TOC_TOP'></a>Contents\n",
    "\n",
    "</div>\n",
    "\n",
    " 1. [The products we need](#section1)\n",
    " 1. [Downloading from the Sentinel-6 SFTP server](#section2)\n",
    "\n",
    "<hr>"
   ]
  },
  {
   "cell_type": "markdown",
   "metadata": {},
   "source": [
    "We begin by importing all of the libraries that we need to run this notebook. If you have built your python using the environment file provided in this repository, then you should have everything you need. For more information on building environment, please see the repository **<a href=\"../README.md\" target=\"_blank\">README</a>**."
   ]
  },
  {
   "cell_type": "code",
   "execution_count": 1,
   "metadata": {},
   "outputs": [],
   "source": [
    "import configparser\n",
    "import shutil\n",
    "import os\n",
    "import json\n",
    "import tarfile\n",
    "import glob\n",
    "import fnmatch\n",
    "import re\n",
    "import paramiko #for downloading via SFTP\n",
    "\n",
    "# Create a download directory for our Sentinel-6 products\n",
    "download_dir = os.path.join(os.getcwd(), \"products\")\n",
    "os.makedirs(download_dir, exist_ok=True)"
   ]
  },
  {
   "cell_type": "markdown",
   "metadata": {},
   "source": [
    "<div class=\"alert alert-info\" role=\"alert\">\n",
    "\n",
    "## 1. <a id='section1'></a>The products we need for this module\n",
    "[Back to top](#TOC_TOP)\n",
    "    \n",
    "</div>"
   ]
  },
  {
   "cell_type": "markdown",
   "metadata": {},
   "source": [
    "We need a number of Sentinel-6-4 level-1, level-2, level-2P and level-3 products for the notebooks within the introductory part of the **learn-s6** module. We will download these from the SFTP server, fetching the latest versions of the products we need based on the orbit below;"
   ]
  },
  {
   "cell_type": "code",
   "execution_count": 2,
   "metadata": {},
   "outputs": [],
   "source": [
    "selected_orbit = 213"
   ]
  },
  {
   "cell_type": "markdown",
   "metadata": {},
   "source": [
    "<hr>\n",
    "<div class=\"alert alert-info\" role=\"alert\">\n",
    "\n",
    "## 2. <a id='section3'></a>Downloading from the Sentinel-6 SFTP server\n",
    "[Back to top](#TOC_TOP)\n",
    "\n",
    "</div>\n",
    "\n",
    "To access Sentinel-6 data from the SFTP, we will use the `paramiko` library that we imported above. If you are working with the recommended Anaconda Python distribution and used the supplied environment file (environment.yml) to build this python environment (as detailed in the README), you will already have installed this. If not, you can install paramiko using;\n",
    "\n",
    "`conda install -c conda-forge paramiko`\n",
    "\n",
    "In order to allow us to download data from the SFTP server, we need to provide our credentials. We can do this in two ways; either by creating a file called `.eumetsat_sftp` in our home directory (*option 1 - recommended*) or by supplying our credentials directly in this script (*option 2*). \n",
    "\n",
    "#### Option 1: creating  `.eumetsat_sftp` in our home directory\n",
    "\n",
    "For most computer systems the home directory can be found at the path \\user\\username, /users/username, or /home/username depending on your operating system.\n",
    "\n",
    "In this file we need to add the following information exactly as follows;\n",
    "\n",
    "```\n",
    "{\n",
    "\"sftpURL\": \"files.eumetsat.int\",\n",
    "\"sftpUser\": \"<your_username>\",\n",
    "\"sftpPass\": \"<your_password>\"\n",
    "}\n",
    "```\n",
    "\n",
    "You must replace `<your_username>` and `<your_password>` with the information you received by email when you register for SFTP access (see the prerequisites box at the top of this page for more information.\n",
    "\n",
    "*Note: your username and password are permanent, so you only need to do this once, but you should take care to never share them*\n",
    "\n",
    "Make sure to save the file without any kind of extension.\n",
    "\n",
    "Once you have done this, you can read in your credentials using the commands in the following cell.\n",
    "\n",
    "#### Option 2: provide credentials directly\n",
    "\n",
    "You can provide your credentials directly as follows;\n",
    "\n",
    "`    ssh.connect(files.eumetsat.int, username=<your_username>, password=<your_password>)\n",
    "`\n",
    "\n",
    "*Note: this method is convenient in the short term, but is not really recommended as you have to put your username and password in this notebook, and run the risk of accidentally sharing them. This method also requires you to authenticate on a notebook-by-notebook basis.*\n",
    "\n",
    "Let's load our credentials using **option 1**"
   ]
  },
  {
   "cell_type": "code",
   "execution_count": 3,
   "metadata": {},
   "outputs": [],
   "source": [
    "# load credentials\n",
    "with open(os.path.join(os.path.expanduser(\"~\"),'.eumetsat_sftp')) as json_file:\n",
    "    credentials = json.load(json_file)"
   ]
  },
  {
   "cell_type": "markdown",
   "metadata": {},
   "source": [
    "Now we have our connection credentials, we can download our Sentinel-6 files from the SFTP server. In this case we will get:\n",
    "\n",
    "* the latest non-time critical Level-1 and Level-2 passes for our specified orbit\n",
    "* one of the latest near real-time Level-2P pass for our specified orbit\n",
    "* one of the latest short-time critical Level-3 aggregate products for the day corresponding to the Level-2P pass.\n",
    "\n",
    "All of these are downloaded via the short (but a bit complicated!) routine below"
   ]
  },
  {
   "cell_type": "code",
   "execution_count": 4,
   "metadata": {},
   "outputs": [
    {
     "name": "stdout",
     "output_type": "stream",
     "text": [
      "Fetching: S6A_P4_1B_HR______20230625T222845_20230625T232458_20230718T171046_3373_096_213_106_EUM__OPE_NT_F08.SEN6.tar\n",
      "Fetching: S6A_P4_2__LR______20230625T222845_20230625T232458_20230717T025141_3373_096_213_106_EUM__OPE_NT_F08.SEN6.tar\n",
      "Fetching: S6A_P4_1B_LR______20230625T222845_20230625T232458_20230716T063254_3373_096_213_106_EUM__OPE_NT_F08.SEN6.tar\n",
      "Fetching: S6A_P4_2__HR______20230625T222845_20230625T232458_20230718T171054_3373_096_213_106_EUM__OPE_NT_F08.SEN6.tar\n",
      "Fetching: S6A_P4_2__HR______20230715T191843_20230715T192843_20230715T214322_0600_098_213_107_EUM__OPE_NR_F08.SEN6.tar\n",
      "Fetching: S6A_P4_2__LR______20230715T190846_20230715T210410_20230715T212134_6924_098_213_107_EUM__OPE_NR_F08.SEN6.tar\n",
      "Fetching: S6A_P4_3__HR______20230709T000000_20230709T235959_20230716T111510__________________CNES_OPE_ST____.SEN6.tar\n",
      "Fetching: S6A_P4_2P_HR______20230715T182549_20230715T183046_20230715T202503_0297_098_213_107_CNES_OPE_NR_F08.SEN6.tar\n"
     ]
    }
   ],
   "source": [
    "with paramiko.SSHClient() as ssh:\n",
    "    ssh.set_missing_host_key_policy( paramiko.AutoAddPolicy() )\n",
    "    ssh.connect(credentials[\"sftpURL\"], username=credentials[\"sftpUser\"], password=credentials[\"sftpPass\"])\n",
    "    sftp = ssh.open_sftp()\n",
    "    \n",
    "    for directory, totfiles in zip(['/data/jcspdp/alt-ntc', '/data/jcspdp/alt-nrt', '/data/jcscnes/alt-l2p-l3'], [4, 2, 1]):\n",
    "        nfiles_NTC = 0\n",
    "        nfiles_NRT = 0\n",
    "        nfiles_STC = 0\n",
    "        acq_day = ''\n",
    "        cycles = []\n",
    "        sftp.chdir(directory)\n",
    "        remote_files = sftp.listdir()\n",
    "        \n",
    "        for remote_file in remote_files:\n",
    "            if '.tar' in remote_file and remote_file[75:78] == f'{selected_orbit}':\n",
    "                cycles.append(int(remote_file[71:74]))\n",
    "        \n",
    "        for remote_file in remote_files:\n",
    "            if fnmatch.fnmatch(remote_file, f'*P4*_{str(max(cycles)).zfill(3)}_{selected_orbit}_*NT*.tar') and \"1A\" not in remote_file and nfiles_NTC < totfiles:\n",
    "                print(f'Fetching: {remote_file}')\n",
    "                sftp.get(remote_file, os.path.join(download_dir, remote_file))\n",
    "                nfiles_NTC = nfiles_NTC + 1\n",
    "            elif (fnmatch.fnmatch(remote_file, f'*P4*_LR_*_{selected_orbit}_*NR*.tar')\n",
    "              or fnmatch.fnmatch(remote_file, f'*P4_2P*{selected_orbit}_*NR*.tar')\n",
    "              or fnmatch.fnmatch(remote_file, f'*P4*_HR_*_{selected_orbit}_*NR*.tar')) and nfiles_NRT < totfiles:\n",
    "                print(f'Fetching: {remote_file}')\n",
    "                sftp.get(remote_file, os.path.join(download_dir, remote_file))\n",
    "                nfiles_NRT = nfiles_NRT + 1\n",
    "                acq_day = f\"{remote_file[18:27]}000000_{remote_file[18:27]}235959\"\n",
    "            elif fnmatch.fnmatch(remote_file, f'*P4*{acq_day}*_________*ST*.tar') and nfiles_STC < totfiles:\n",
    "                print(f'Fetching: {remote_file}')\n",
    "                sftp.get(remote_file, os.path.join(download_dir, remote_file))\n",
    "                nfiles_STC = nfiles_STC + 1\n"
   ]
  },
  {
   "cell_type": "markdown",
   "metadata": {},
   "source": [
    "The products are downloaded as zipped files, so lets unzip them and remove the zips."
   ]
  },
  {
   "cell_type": "code",
   "execution_count": 5,
   "metadata": {},
   "outputs": [],
   "source": [
    "for fdst in glob.glob(os.path.join(download_dir, \"*.tar\")):\n",
    "    tar = tarfile.open(fdst, \"r:\")\n",
    "    tar.extractall(download_dir)\n",
    "    tar.close()\n",
    "    os.remove(fdst)"
   ]
  },
  {
   "cell_type": "markdown",
   "metadata": {},
   "source": [
    "Now we are ready to go. If you check the `./products` directory, you should see all the required SAFE format, \".SEN6\" directories. Now you can continue to work through the rest of the notebooks in this repository and learn more about working with Sentinel-6 data."
   ]
  },
  {
   "cell_type": "markdown",
   "metadata": {},
   "source": [
    "<hr>\n",
    "<a href=\"../Index.ipynb\"><< Index</a>\n",
    "<br>\n",
    "<a href=\"./1_1b_S6_data_access_DS.ipynb\">Accessing Sentinel-6 data via Data Store >></a>\n",
    "<hr>\n",
    "<a href=\"https://gitlab.eumetsat.int/eumetlab/ocean\">View on GitLab</a> | <a href=\"https://training.eumetsat.int/\">EUMETSAT Training</a> | <a href=mailto:ops@eumetsat.int>Contact helpdesk for support </a> | <a href=mailto:Copernicus.training@eumetsat.int>Contact our training team to collaborate on and reuse this material</a></span></p>"
   ]
  }
 ],
 "metadata": {
  "author": "Ben Loveday, Hayley Evers-King, Vinca Rosmorduc",
  "description": "This Jupyter Notebook shows how to access Sentinel-6 Poseidon-4 Radar Altimeter data via EUMETSAT SFTP.",
  "image": "../img/thumbs/1_1a_S6_data_access_SFTP_thumb.png",
  "kernelspec": {
   "display_name": "Python 3 (ipykernel)",
   "language": "python",
   "name": "python3"
  },
  "language_info": {
   "codemirror_mode": {
    "name": "ipython",
    "version": 3
   },
   "file_extension": ".py",
   "mimetype": "text/x-python",
   "name": "python",
   "nbconvert_exporter": "python",
   "pygments_lexer": "ipython3",
   "version": "3.9.16"
  },
  "services": {
   "eumetsat": {
    "binder": {
     "link": "https://mybinder.org/v2/git/https%3A%2F%2Fgitlab.eumetsat.int%2Feumetlab%2Foceans%2Focean-training%2Fsensors%2Flearn-s6/HEAD?urlpath=%2Ftree%2F1_S6_introductory%2F1_1a_S6_data_access_SFTP.ipynb",
     "service_contact": "ops@eumetsat.int",
     "service_provider": "EUMETSAT"
    },
    "git": {
     "link": "https://gitlab.eumetsat.int/eumetlab/oceans/ocean-training/sensors/learn-s6/-/blob/main/1_S6_introductory/1_1a_S6_data_access_SFTP.ipynb",
     "service_contact": "ops@eumetsat.int",
     "service_provider": "EUMETSAT"
    }
   },
   "wekeo": {
    "git": {
     "link": "",
     "service_contact": "ops@eumetsat.int",
     "service_provider": "EUMETSAT"
    },
    "url": {
     "link": "",
     "service_contact": "ops@eumetsat.int",
     "service_provider": "EUMETSAT"
    }
   }
  },
  "tags": {
   "domain": "Marine",
   "platform": [
    "Sentinel-6"
   ],
   "sensor": "Poseidon-4",
   "service": "EUMETSAT",
   "subtheme": [
    "Maritime safety",
    "Ocean dynamics"
   ],
   "tags": [
    "Sea surface height",
    "Significant wave height",
    "Wind speed",
    "Altimetry waveforms"
   ]
  },
  "title": "Accessing Sentinel-6 Poseidon-4 data via EUMETSAT SFTP"
 },
 "nbformat": 4,
 "nbformat_minor": 4
}
