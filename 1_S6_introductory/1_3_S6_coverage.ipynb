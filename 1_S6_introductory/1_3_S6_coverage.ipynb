{
 "cells": [
  {
   "cell_type": "markdown",
   "metadata": {},
   "source": [
    "<img src='https://gitlab.eumetsat.int/eumetlab/oceans/ocean-training/tools/frameworks/-/raw/main/img/Standard_banner.png' align='right' width='100%'/>"
   ]
  },
  {
   "cell_type": "markdown",
   "metadata": {},
   "source": [
    "<a href=\"../Index.ipynb\"><< Index</a>\n",
    "<br>\n",
    "<a href=\"./1_2_S6_file_structure.ipynb\"><< Poseidon-4 file structure</a>&nbsp;&nbsp;&nbsp;&nbsp;&nbsp;<a href=\"./1_4_S6_tracks.ipynb\">Poseidon-4 tracks >></a>"
   ]
  },
  {
   "cell_type": "markdown",
   "metadata": {},
   "source": [
    "<font color=\"#138D75\">**Copernicus Marine Training Service**</font> <br>\n",
    "**Copyright:** 2022 EUMETSAT <br>\n",
    "**License:** MIT"
   ]
  },
  {
   "cell_type": "markdown",
   "metadata": {},
   "source": [
    "<div class=\"alert alert-block alert-success\">\n",
    "<h3>Learn Sentinel-6: Introductory</h3></div>"
   ]
  },
  {
   "cell_type": "markdown",
   "metadata": {},
   "source": [
    "<div class=\"alert alert-block alert-warning\">\n",
    "    \n",
    "<b>PREREQUISITES </b>\n",
    "    \n",
    "The following modules are prerequisites for this notebook:\n",
    "- **<a href=\"1_1_S6_data_access_SFTP.ipynb\" target=\"_blank\">1_1_S6_data_access_SFTP</a>**; this will download the required Poseidon-4 products for this notebook.\n",
    "\n",
    "</div>\n",
    "<hr>"
   ]
  },
  {
   "cell_type": "markdown",
   "metadata": {},
   "source": [
    "# 1.3 Determining Poseidon-4 product coverage\n",
    "\n",
    "### Data used\n",
    "\n",
    "| Product Description  | Data Store collection ID| Product Navigator | \n",
    "|:--------------------:|:-----------------------:|:-------------:|\n",
    "| Sentinel-6 Poseidon-4 Altimetry level-2 Low Resolution (NRT) | EO:EUM:DAT:0122 | <a href=\"https://navigator.eumetsat.int/product/EO:EUM:DAT:0122?query=Altimetry%20NRT&filter=satellite__Sentinel-6&results=20&s=advanced\" target=\"_blank\">link</a> |\n",
    "| Sentinel-6 Poseidon-4 Altimetry level-2 High Resolution (NTC) | EO:EUM:DAT:0128 | <a href=\"https://navigator.eumetsat.int/product/EO:EUM:DAT:0128?query=Altimetry%20NTC&filter=satellite__Sentinel-6&results=20&s=advanced\" target=\"_blank\">link</a> |\n",
    "| Sentinel-6 Poseidon-4 Altimetry level-2P High Resolution (NRT) | EO:EUM:DAT:0134 | <a href=\"https://navigator.eumetsat.int/product/EO:EUM:DAT:0134?query=Altimetry%20STC%202P&filter=satellite__Sentinel-6&results=20&s=advanced\" target=\"_blank\">link</a> |\n",
    "| Sentinel-6 Poseidon-4 Altimetry level-3 High Resolution (STC) | EO:EUM:DAT:0139 | <a href=\"https://navigator.eumetsat.int/product/EO:EUM:DAT:0139?query=Wave%20STC%202P&filter=satellite__Sentinel-6&results=20&s=advanced\" target=\"_blank\">link</a> |\n",
    "\n",
    "### Learning outcomes\n",
    "\n",
    "At the end of this notebook you will know;\n",
    "* About the 'Product Dissemination Units\" that Poseidon-4 data is distributed in.\n",
    "* What the Poseidon-4 PDU's look like in terms of ground coverage.\n",
    "* What this means for 'revisit' time or how often you can get data for a specific area.\n",
    "* How to extract the polygon which represents data coverage from and Poseidon-4 data product manifest file.\n",
    "* How to visualise this data on a map.\n",
    "\n",
    "### Outline\n",
    "\n",
    "Whilst the Sentinel-6 satellite continuously orbit the planet, data received must be split in to manageable portions for processing and distribution. Data from the Poseidon-4 Altimeter aboard the Sentinel-6 satellite, is distributed in specific \"product dissemination units\" (PDUs). You can find out detailed information about the different types of PDUs and which ones are used for which Sentinel-6 products in the <a href='https://eumetsatspace.atlassian.net/wiki/spaces/DPF/pages/1615659023/Product+dissemination+units+PDUs' target='_blank'> EUMETSAT user support knowledge base </a> \n",
    "\n",
    "<div class=\"alert alert-info\" role=\"alert\">\n",
    "\n",
    "## <a id='TOC_TOP'></a>Contents\n",
    "\n",
    "</div>\n",
    "    \n",
    " 1. [Investigating Poseidon-4 coverage](#section1)\n",
    " 2. [Investigating Poseidon-4 PDUs](#section2)\n",
    " \n",
    "\n",
    "<hr>"
   ]
  },
  {
   "cell_type": "code",
   "execution_count": 1,
   "metadata": {},
   "outputs": [],
   "source": [
    "# library imports\n",
    "import cartopy\n",
    "import glob\n",
    "import matplotlib.pyplot as plt\n",
    "import numpy as np\n",
    "import os\n",
    "from shapely.geometry import Polygon\n",
    "import warnings\n",
    "import xml.etree.ElementTree as ET\n",
    "import datetime\n",
    "import xarray as xr\n",
    "import glob\n",
    "\n",
    "warnings.filterwarnings('ignore')\n",
    "plt.rcParams.update({'font.size': 12})"
   ]
  },
  {
   "cell_type": "markdown",
   "metadata": {},
   "source": [
    "<div class=\"alert alert-info\" role=\"alert\">\n",
    "\n",
    "## <a id='section1'></a>1. Investigating Poseidon-4 Coverage\n",
    "[Back to top](#TOC_TOP)\n",
    "\n",
    "</div>\n",
    "\n",
    "The Poseidon-4 altimeter measures at the satellite nadir, meaning that it \"views\" on a thin track that matches the path of the Sentinel-6 over the Earth's surface. Sentinel-6 continues replaces Jason-3 as the altimetry reference mission, and so inherits its orbital parameters; a sun-synchronous orbit with an angle of 66°. The figure below shows the reference track of the Sentinel-6 satellite, and so shows the area that Poseidon-4 samples. Due to the orbital inclinatio, we can see that it only samples between 66° North and South.\n",
    "\n",
    "<img src='../img/S6_orbit.png' align='right' width='100%'/>\n",
    "\n",
    "\n",
    "However, we need to decide how to distribute the data that make up these tracks. We will discuss this in the following section."
   ]
  },
  {
   "cell_type": "markdown",
   "metadata": {},
   "source": [
    "<div class=\"alert alert-info\" role=\"alert\">\n",
    "\n",
    "## <a id='section1'></a>1. Investigating Poseidon-4 coverage\n",
    "[Back to top](#TOC_TOP)\n",
    "\n",
    "</div>\n",
    "\n",
    "First let's create a path that points to the location of the data files we're interesed in. We'll look at four different types of Poseidon-4 data product, which will show us examples of the different types of PDUs for Poseidon-4 data. We don't always need to open the actual data files contained within the Sentinel-SAFE file in order to find out information about the products. Some information is stored in the manifest file - like the information about what area is covered by the particular data files. In the cell below, we'll find the manifest files in the directories of the products we selected above."
   ]
  },
  {
   "cell_type": "code",
   "execution_count": 2,
   "metadata": {},
   "outputs": [
    {
     "ename": "IndexError",
     "evalue": "list index out of range",
     "output_type": "error",
     "traceback": [
      "\u001b[0;31m---------------------------------------------------------------------------\u001b[0m",
      "\u001b[0;31mIndexError\u001b[0m                                Traceback (most recent call last)",
      "Input \u001b[0;32mIn [2]\u001b[0m, in \u001b[0;36m<cell line: 2>\u001b[0;34m()\u001b[0m\n\u001b[1;32m      1\u001b[0m \u001b[38;5;66;03m# selecting SAFE directories\u001b[39;00m\n\u001b[1;32m      2\u001b[0m SAFE_manifests \u001b[38;5;241m=\u001b[39m [glob\u001b[38;5;241m.\u001b[39mglob(os\u001b[38;5;241m.\u001b[39mpath\u001b[38;5;241m.\u001b[39mjoin(os\u001b[38;5;241m.\u001b[39mgetcwd(), \u001b[38;5;124m'\u001b[39m\u001b[38;5;124mproducts\u001b[39m\u001b[38;5;124m'\u001b[39m,\u001b[38;5;124m'\u001b[39m\u001b[38;5;124mS6A_P4_2__LR*_NR_*\u001b[39m\u001b[38;5;124m'\u001b[39m,\u001b[38;5;124m'\u001b[39m\u001b[38;5;124mxfd*.xml\u001b[39m\u001b[38;5;124m'\u001b[39m))[\u001b[38;5;241m0\u001b[39m],\n\u001b[0;32m----> 3\u001b[0m                   \u001b[43mglob\u001b[49m\u001b[38;5;241;43m.\u001b[39;49m\u001b[43mglob\u001b[49m\u001b[43m(\u001b[49m\u001b[43mos\u001b[49m\u001b[38;5;241;43m.\u001b[39;49m\u001b[43mpath\u001b[49m\u001b[38;5;241;43m.\u001b[39;49m\u001b[43mjoin\u001b[49m\u001b[43m(\u001b[49m\u001b[43mos\u001b[49m\u001b[38;5;241;43m.\u001b[39;49m\u001b[43mgetcwd\u001b[49m\u001b[43m(\u001b[49m\u001b[43m)\u001b[49m\u001b[43m,\u001b[49m\u001b[43m \u001b[49m\u001b[38;5;124;43m'\u001b[39;49m\u001b[38;5;124;43mproducts\u001b[39;49m\u001b[38;5;124;43m'\u001b[39;49m\u001b[43m,\u001b[49m\u001b[38;5;124;43m'\u001b[39;49m\u001b[38;5;124;43mS6A_P4_2__HR*_NT_*\u001b[39;49m\u001b[38;5;124;43m'\u001b[39;49m\u001b[43m,\u001b[49m\u001b[38;5;124;43m'\u001b[39;49m\u001b[38;5;124;43mxfd*.xml\u001b[39;49m\u001b[38;5;124;43m'\u001b[39;49m\u001b[43m)\u001b[49m\u001b[43m)\u001b[49m\u001b[43m[\u001b[49m\u001b[38;5;241;43m0\u001b[39;49m\u001b[43m]\u001b[49m,\n\u001b[1;32m      4\u001b[0m                   glob\u001b[38;5;241m.\u001b[39mglob(os\u001b[38;5;241m.\u001b[39mpath\u001b[38;5;241m.\u001b[39mjoin(os\u001b[38;5;241m.\u001b[39mgetcwd(), \u001b[38;5;124m'\u001b[39m\u001b[38;5;124mproducts\u001b[39m\u001b[38;5;124m'\u001b[39m,\u001b[38;5;124m'\u001b[39m\u001b[38;5;124mS6A_P4_2__HR*_NR_*\u001b[39m\u001b[38;5;124m'\u001b[39m,\u001b[38;5;124m'\u001b[39m\u001b[38;5;124mxfd*.xml\u001b[39m\u001b[38;5;124m'\u001b[39m))[\u001b[38;5;241m0\u001b[39m],\n\u001b[1;32m      5\u001b[0m                   glob\u001b[38;5;241m.\u001b[39mglob(os\u001b[38;5;241m.\u001b[39mpath\u001b[38;5;241m.\u001b[39mjoin(os\u001b[38;5;241m.\u001b[39mgetcwd(), \u001b[38;5;124m'\u001b[39m\u001b[38;5;124mproducts\u001b[39m\u001b[38;5;124m'\u001b[39m,\u001b[38;5;124m'\u001b[39m\u001b[38;5;124mS6A_P4_3__HR*_ST_*\u001b[39m\u001b[38;5;124m'\u001b[39m,\u001b[38;5;124m'\u001b[39m\u001b[38;5;124mxfd*.xml\u001b[39m\u001b[38;5;124m'\u001b[39m))[\u001b[38;5;241m0\u001b[39m]]\n",
      "\u001b[0;31mIndexError\u001b[0m: list index out of range"
     ]
    }
   ],
   "source": [
    "# selecting SAFE directories\n",
    "SAFE_manifests = [glob.glob(os.path.join(os.getcwd(), 'products','S6A_P4_2__LR*_NR_*','xfd*.xml'))[0],\n",
    "                  glob.glob(os.path.join(os.getcwd(), 'products','S6A_P4_2__HR*_NT_*','xfd*.xml'))[0],\n",
    "                  glob.glob(os.path.join(os.getcwd(), 'products','S6A_P4_2__HR*_NR_*','xfd*.xml'))[0],\n",
    "                  glob.glob(os.path.join(os.getcwd(), 'products','S6A_P4_3__HR*_ST_*','xfd*.xml'))[0]]"
   ]
  },
  {
   "cell_type": "markdown",
   "metadata": {},
   "source": [
    "Next, we'll look inside the manifest files and extract the polygons which represent the coverage of the data within the files."
   ]
  },
  {
   "cell_type": "code",
   "execution_count": null,
   "metadata": {},
   "outputs": [],
   "source": [
    "polygons = []\n",
    "tags = []\n",
    "acq_times = []\n",
    "measurement_files = []\n",
    "for SAFE_manifest in SAFE_manifests:\n",
    "    tags.append(SAFE_manifest.split('/')[-2])\n",
    "    tree = ET.parse(SAFE_manifest)\n",
    "    root = tree.getroot()\n",
    "    polygon =  root.findall('.//gml:posList', {'gml':\"http://www.opengis.net/gml\"})\n",
    "    polygons.append((polygon[0].text[:-1]))\n",
    "    start_time =  root.findall('.//sentinel-safe:startTime', {'sentinel-safe':\"http://www.esa.int/safe/sentinel/1.1\"})\n",
    "    stop_time =  root.findall('.//sentinel-safe:stopTime', {'sentinel-safe':\"http://www.esa.int/safe/sentinel/1.1\"})\n",
    "    measurement_files.append(SAFE_manifest.replace('xfdumanifest.xml', root.findall('.//fileLocation')[0].attrib['href']))\n",
    "    acq_times.append(datetime.datetime.strptime(stop_time[0].text,\n",
    "                                                 \"%Y-%m-%dT%H:%M:%S.%fZ\")\n",
    "                      - datetime.datetime.strptime(start_time[0].text,\n",
    "                                                 \"%Y-%m-%dT%H:%M:%S.%fZ\"))"
   ]
  },
  {
   "cell_type": "markdown",
   "metadata": {},
   "source": [
    "Finally, we'll plot the polygons on a world map..."
   ]
  },
  {
   "cell_type": "code",
   "execution_count": null,
   "metadata": {
    "scrolled": false
   },
   "outputs": [],
   "source": [
    "fig1 = plt.figure(figsize=(15, 8), dpi=300)\n",
    "\n",
    "colours = ['#FF000000', '#FF660000', '#4A235A', '#0000FF00']\n",
    "labels = ['Sentinel-6 P4 L2 LR NRT (full orbit)',\n",
    "          'All Sentinel-6 P4 L1 and L2 HR NTC (half orbit)',\n",
    "          'Sentinel-6 P4 L2 HR NRT / Sentinel-6 P4 L2P HR NRT & STC (10 minute)',\n",
    "          'Sentinel-6 P4 L3 HR STC (aggregated up to whole day)']\n",
    "plots = []\n",
    "\n",
    "for loc, colour, label, polygon, measurement_file in zip([1, 2, 3, 4], colours, labels, polygons, measurement_files):\n",
    "    m = plt.subplot(2, 2, loc, projection=cartopy.crs.PlateCarree())\n",
    "    m.add_feature(cartopy.feature.LAND, zorder=0, edgecolor='k', facecolor='#5D6D7E')\n",
    "    m.set_global()\n",
    "\n",
    "    gl = m.gridlines(draw_labels = True)\n",
    "    reverse = True\n",
    "    coords = np.asarray(polygon.split(' ')).astype('float')\n",
    "    if 'L3' in label:\n",
    "        data = xr.open_dataset(measurement_file)\n",
    "        p, = m.plot(data.longitude, data.latitude, alpha=0.74, color=colour, linewidth=3, \n",
    "                    transform=cartopy.crs.Geodetic(), zorder=2)\n",
    "    else:\n",
    "        p, = m.plot(coords[1::2], coords[0::2], alpha=0.74, color=colour, linewidth=3, \n",
    "                    transform=cartopy.crs.Geodetic(), zorder=2)\n",
    "    plots.append(p)\n",
    "\n",
    "plt.legend(plots, labels, loc='lower right', bbox_to_anchor=(0.5, -0.5))\n",
    "plt.savefig('1_3_S6_coverage.png', bbox_inches='tight')"
   ]
  },
  {
   "cell_type": "markdown",
   "metadata": {},
   "source": [
    "<hr>\n",
    "<a href=\"../Index.ipynb\"><< Index</a>\n",
    "<br>\n",
    "<a href=\"./1_2_S6_file_structure.ipynb\"><< Poseidon-4 file structure</a>&nbsp;&nbsp;&nbsp;&nbsp;&nbsp;<a href=\"./1_4_S6_tracks.ipynb\">Poseidon-4 tracks >></a>\n",
    "<hr>\n",
    "<a href=\"https://gitlab.eumetsat.int/eumetlab/ocean\">View on GitLab</a> | <a href=\"https://training.eumetsat.int/\">EUMETSAT Training</a> | <a href=mailto:ops@eumetsat.int>Contact helpdesk for support </a> | <a href=mailto:Copernicus.training@eumetsat.int>Contact our training team to collaborate on and reuse this material</a></span></p>"
   ]
  }
 ],
 "metadata": {
  "author": "Ben Loveday, Hayley Evers-King",
  "description": "This Jupyter Notebook discusses the coverage of Poseidon-4 level-1B and level-2 products.",
  "github": "https://github.com/wekeo/learn-s6/blob/main/1_S6_introductory/1_3_S6_coverage.ipynb",
  "image": "../img/thumbs/1_3_S6_coverage_thumb.png",
  "kernelspec": {
   "display_name": "Python 3 (ipykernel)",
   "language": "python",
   "name": "python3"
  },
  "language_info": {
   "codemirror_mode": {
    "name": "ipython",
    "version": 3
   },
   "file_extension": ".py",
   "mimetype": "text/x-python",
   "name": "python",
   "nbconvert_exporter": "python",
   "pygments_lexer": "ipython3",
   "version": "3.9.13"
  },
  "link": "https://jupyterhub-wekeo.apps.eumetsat.dpi.wekeo.eu/hub/user-redirect/lab/tree/public/ocean/learn-s6/1_S6_introductory/1_3_S6_coverage.ipynb",
  "tags": {
   "domain": "Ocean",
   "platform": "Sentinel-6",
   "sensor": "Poseidon-4",
   "tags": [
    "Sea surface height anomaly",
    "Significant wave height",
    "Wind speed"
   ]
  },
  "title": "Poseidon-4 product coverage"
 },
 "nbformat": 4,
 "nbformat_minor": 2
}
