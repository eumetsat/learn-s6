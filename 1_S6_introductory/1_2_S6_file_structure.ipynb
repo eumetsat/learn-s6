{
 "cells": [
  {
   "cell_type": "markdown",
   "metadata": {},
   "source": [
    "<img src='https://gitlab.eumetsat.int/eumetlab/oceans/ocean-training/tools/frameworks/-/raw/main/img/Standard_banner.png' align='right' width='100%'/>"
   ]
  },
  {
   "cell_type": "markdown",
   "metadata": {},
   "source": [
    "<a href=\"../Index.ipynb\"><< Index</a>\n",
    "<br>\n",
    "<a href=\"./1_1b_S6_data_access_SFTP.ipynb\"><< Accessing Poseidon-4 data via Data Store</a>&nbsp;&nbsp;&nbsp;&nbsp;&nbsp;<a href=\"./1_3_S6_coverage.ipynb\">Determining Poseidon-4 product coverage >></a>"
   ]
  },
  {
   "cell_type": "markdown",
   "metadata": {},
   "source": [
    "<font color=\"#138D75\">**Copernicus Marine Training Service**</font> <br>\n",
    "**Copyright:** 2022 EUMETSAT <br>\n",
    "**License:** MIT"
   ]
  },
  {
   "cell_type": "markdown",
   "metadata": {},
   "source": [
    "<div class=\"alert alert-block alert-success\">\n",
    "<h3>Learn Sentinel-6: Introductory</h3></div>"
   ]
  },
  {
   "cell_type": "markdown",
   "metadata": {},
   "source": [
    "<div class=\"alert alert-block alert-warning\">\n",
    "    \n",
    "<b>PREREQUISITES </b>\n",
    "    \n",
    "The following modules are prerequisites for this notebook:\n",
    "- **<a href=\"1_1_S6_data_access_SFTP.ipynb\" target=\"_blank\">1_1_S6_data_access_SFTP</a>**; this will download the required Poseidon-4 products for this notebook.\n",
    "\n",
    "</div>\n",
    "<hr>"
   ]
  },
  {
   "cell_type": "markdown",
   "metadata": {},
   "source": [
    "# 1.2 Understanding Sentinel-6 product structure\n",
    "\n",
    "### Data used\n",
    "\n",
    "| Product Description  | Data Store collection ID| Product Navigator | \n",
    "|:--------------------:|:-----------------------:|:-------------:|\n",
    "| Sentinel-6 Poseidon-4 Altimetry level-1B Low Resolution (NTC) | EO:EUM:DAT:0118 | <a href=\"https://navigator.eumetsat.int/product/EO:EUM:DAT:0118?query=Altimetry%20NTC&filter=satellite__Sentinel-6&results=20&s=advanced\" target=\"_blank\">link</a> |\n",
    "| Sentinel-6 Poseidon-4 Altimetry level-2 Low Resolution (NTC) | EO:EUM:DAT:0120 | <a href=\"https://navigator.eumetsat.int/product/EO:EUM:DAT:0120?query=Altimetry%20NTC&filter=satellite__Sentinel-6&results=20&s=advanced\" target=\"_blank\">link</a> |\n",
    "| Sentinel-6 Poseidon-4 Altimetry level-1B High Resolution (NTC) | EO:EUM:DAT:0126 | <a href=\"https://navigator.eumetsat.int/product/EO:EUM:DAT:0126?query=Altimetry%20NTC&filter=satellite__Sentinel-6&results=20&s=advanced\" target=\"_blank\">link</a> |\n",
    "| Sentinel-6 Poseidon-4 Altimetry level-2 High Resolution (NTC) | EO:EUM:DAT:0128 | <a href=\"https://navigator.eumetsat.int/product/EO:EUM:DAT:0128?query=Altimetry%20NTC&filter=satellite__Sentinel-6&results=20&s=advanced\" target=\"_blank\">link</a> |\n",
    "| Sentinel-6 Poseidon-4 Altimetry level-2P High Resolution (NRT) | EO:EUM:DAT:0134 | <a href=\"https://navigator.eumetsat.int/product/EO:EUM:DAT:0134?query=Altimetry%20STC%202P&filter=satellite__Sentinel-6&results=20&s=advanced\" target=\"_blank\">link</a> |\n",
    "| Sentinel-6 Poseidon-4 Altimetry level-3 High Resolution (STC) | EO:EUM:DAT:0139 | <a href=\"https://navigator.eumetsat.int/product/EO:EUM:DAT:0139?query=Wave%20STC%202P&filter=satellite__Sentinel-6&results=20&s=advanced\" target=\"_blank\">link</a> |\n",
    "\n",
    "\n",
    "### Learning outcomes\n",
    "\n",
    "At the end of this notebook you will know;\n",
    "* What the SAFE format is\n",
    "* What components are inside a SAFE format file from Poseidon-4\n",
    "* What variables are in present in each component for Poseidon-4 data files (level-1B, level-2, level-2P and level-3)\n",
    "\n",
    "### Outline\n",
    "\n",
    "Data from all the Sentinel satellites operated under the European Commissions Copernicus Programme are delievered in \"**SAFE format**\". The Sentinel-SAFE format is a specific variation of the Standard Archive Format for Europe (SAFE) format specification designed for the Sentinel satellite products.  It is based on the XML Formatted Data Units (XFDU) standard under development by the Consultative Committee for Space Data Systems (CCSDS). Sentinel-SAFE is a profile of XFDU, and it restricts the XFDU specifications for specific utilisation in the Earth Observation domain, providing semantics in the same domain to improve interoperability between ground segment facilities.\n",
    "\n",
    "\n",
    "Each product package includes:\n",
    "\n",
    "* a manifest file containing a metadata section and a data object section (an xml file).\n",
    "\n",
    "* measurement data files (NetCDF-4 format)\n",
    "\n",
    "* annotation data files, if defined (NetCDF-4 format)\n",
    "\n",
    "The product package can exist as a directory in a filesystem, zipped folder or tarball.\n",
    "\n",
    "The naming of the Sentinel-SAFE files follows a specific convention that you can learn about <a href=\"https://eumetsatspace.atlassian.net/wiki/spaces/DPF/pages/edit-v2/1597702263?\" target=\"_blank\">here</a>\n",
    "\n",
    "<div class=\"alert alert-info\" role=\"alert\">\n",
    "\n",
    "## <a id='TOC_TOP'></a>Contents\n",
    "\n",
    "</div>\n",
    "    \n",
    " 1. [Querying Poseidon-4 file structure for a level-1B **low**-resolution product](#section1)\n",
    " 2. [Querying Poseidon-4 file structure for a level-1B **high**-resolution product](#section2)\n",
    " 3. [Applying your knowledge: opening level-2, level-2P and level-3 files](#section3)\n",
    "\n",
    "<hr>"
   ]
  },
  {
   "cell_type": "code",
   "execution_count": 1,
   "metadata": {},
   "outputs": [],
   "source": [
    "# library imports\n",
    "import glob\n",
    "import inspect\n",
    "from IPython.display import display, Markdown\n",
    "import os\n",
    "import netCDF4 as nc\n",
    "import xarray as xr\n",
    "import xml.etree.ElementTree as ET\n",
    "import warnings\n",
    "\n",
    "warnings.filterwarnings('ignore')"
   ]
  },
  {
   "cell_type": "markdown",
   "metadata": {},
   "source": [
    "<div class=\"alert alert-info\" role=\"alert\">\n",
    "\n",
    "## <a id='section1'></a>1. Querying Poseidon-4 file structure for a level-1B low-resolution product\n",
    "[Back to top](#TOC_TOP)\n",
    "\n",
    "</div>"
   ]
  },
  {
   "cell_type": "markdown",
   "metadata": {},
   "source": [
    "First we will create a variable which holds the paths for the directories of the products that we downloaded in the <a href=\"./1_1_S6_data_access_SFTP.ipynb\" target=\"_blank\"> Accessing Poseidon-4 data</a> notebook."
   ]
  },
  {
   "cell_type": "code",
   "execution_count": 2,
   "metadata": {},
   "outputs": [],
   "source": [
    "SAFE_directories = glob.glob(os.path.join(os.getcwd(), 'products','*'))"
   ]
  },
  {
   "cell_type": "markdown",
   "metadata": {},
   "source": [
    "Now lets set a key to match to the product we are interested in. For a level-1B low resolution (LR) Poseidon-4 file, we will set the key as;"
   ]
  },
  {
   "cell_type": "code",
   "execution_count": 3,
   "metadata": {},
   "outputs": [],
   "source": [
    "match_key = \"S6A_P4_1B_LR\""
   ]
  },
  {
   "cell_type": "markdown",
   "metadata": {},
   "source": [
    "Next, we'll cycle through our products until we find the matching key and read find the manifest file in the SAFE format directory.  "
   ]
  },
  {
   "cell_type": "code",
   "execution_count": 4,
   "metadata": {},
   "outputs": [],
   "source": [
    "for SAFE_directory in SAFE_directories:\n",
    "    if match_key in SAFE_directory:\n",
    "        SAFE_manifest = glob.glob(os.path.join(SAFE_directory, 'xfd*.xml'))[0]\n",
    "        display(Markdown('**Manifest file:** {}'.format(os.path.basename(SAFE_manifest))))\n",
    "        break"
   ]
  },
  {
   "cell_type": "markdown",
   "metadata": {},
   "source": [
    "Then, we'll read the manifest file in to a Python object format called a dictionary. This will make it easier for us to interact with the product in the next step."
   ]
  },
  {
   "cell_type": "code",
   "execution_count": 5,
   "metadata": {
    "scrolled": true
   },
   "outputs": [
    {
     "ename": "NameError",
     "evalue": "name 'SAFE_manifest' is not defined",
     "output_type": "error",
     "traceback": [
      "\u001b[0;31m---------------------------------------------------------------------------\u001b[0m",
      "\u001b[0;31mNameError\u001b[0m                                 Traceback (most recent call last)",
      "Input \u001b[0;32mIn [5]\u001b[0m, in \u001b[0;36m<cell line: 1>\u001b[0;34m()\u001b[0m\n\u001b[0;32m----> 1\u001b[0m tree \u001b[38;5;241m=\u001b[39m ET\u001b[38;5;241m.\u001b[39mparse(\u001b[43mSAFE_manifest\u001b[49m)\n\u001b[1;32m      2\u001b[0m root \u001b[38;5;241m=\u001b[39m tree\u001b[38;5;241m.\u001b[39mgetroot()\n\u001b[1;32m      3\u001b[0m items \u001b[38;5;241m=\u001b[39m root\u001b[38;5;241m.\u001b[39mfind(\u001b[38;5;124m'\u001b[39m\u001b[38;5;124mdataObjectSection\u001b[39m\u001b[38;5;124m'\u001b[39m)\n",
      "\u001b[0;31mNameError\u001b[0m: name 'SAFE_manifest' is not defined"
     ]
    }
   ],
   "source": [
    "tree = ET.parse(SAFE_manifest)\n",
    "root = tree.getroot()\n",
    "items = root.find('dataObjectSection')\n",
    "SAFE_components = []\n",
    "for item in items:\n",
    "    display(Markdown(\"**File name:** {}\".format(item[0][0].get('href'))))\n",
    "    display(Markdown(\"*File info: {}*\".format(item[0][0].get('textInfo'))))\n",
    "    SAFE_components.append(os.path.join(SAFE_directory, item[0][0].get('href')))"
   ]
  },
  {
   "cell_type": "markdown",
   "metadata": {},
   "source": [
    "The next section of code will display each of the components within the product. Scrolling through you can see the main groups of variables, including some you may already know or be interested in working with. It is important to note that the variables are stored in a series of \"groups\" in the netCDF file. We need to cycle through these groups to open them in xarray (the library we use to work with netCDF files) and see the **variables**. We will also open the \"top\" group, which contains the data **coordinates**."
   ]
  },
  {
   "cell_type": "code",
   "execution_count": null,
   "metadata": {
    "scrolled": false
   },
   "outputs": [],
   "source": [
    "for SAFE_component in sorted(SAFE_components):\n",
    "    nc_fid = nc.Dataset(SAFE_component)\n",
    "    groups = []\n",
    "    groups.append(None)\n",
    "    for item in nc_fid.groups:\n",
    "        groups.append(f\"{item}/{list(nc_fid.groups[item].groups.keys())[0]}\")\n",
    "    nc_fid.close()\n",
    "    for group in groups:\n",
    "        print(f\"Group: {group}\")\n",
    "        ds = xr.open_dataset(SAFE_component, group=group, decode_times=False)\n",
    "        display(Markdown('**Filename:** {}'.format(os.path.basename(SAFE_component))))\n",
    "        display(ds)\n",
    "        ds.close()"
   ]
  },
  {
   "cell_type": "markdown",
   "metadata": {},
   "source": [
    "Here we can see that the data is stored in two groups; `global/ku` and `data/ku`. The former contains the information related to the measurements. The latter contains the measurements themselves, including the waveforms. We can also see that waveform variable is two dimensional `(time, samples)` (you may need to expand the `data/ku` *Data variables* tag to see this. Compare these dimensions to the ones used in the high resolution product in the next section."
   ]
  },
  {
   "cell_type": "markdown",
   "metadata": {},
   "source": [
    "<div class=\"alert alert-info\" role=\"alert\">\n",
    "\n",
    "## <a id='section2'></a>2. Querying Poseidon-4 file structure for a level-1B high-resolution product\n",
    "[Back to top](#TOC_TOP)\n",
    "\n",
    "</div>"
   ]
  },
  {
   "cell_type": "markdown",
   "metadata": {},
   "source": [
    "Now let's look at the level-1B **high**-resolution Poseidon-4 product that we downloaded previously. We can do this using exactly the same routines as above, but swapping the match key as follows."
   ]
  },
  {
   "cell_type": "code",
   "execution_count": null,
   "metadata": {},
   "outputs": [],
   "source": [
    "match_key = \"S6A_P4_1B_HR\""
   ]
  },
  {
   "cell_type": "markdown",
   "metadata": {},
   "source": [
    "The box below just consolidates all the code snippets from above so that you can run it in one go."
   ]
  },
  {
   "cell_type": "code",
   "execution_count": null,
   "metadata": {},
   "outputs": [],
   "source": [
    "for SAFE_directory in SAFE_directories:\n",
    "    if match_key in SAFE_directory:\n",
    "        SAFE_manifest = glob.glob(os.path.join(SAFE_directory, 'xfd*.xml'))[0]\n",
    "        display(Markdown('**Manifest file:** {}'.format(os.path.basename(SAFE_manifest))))\n",
    "        break\n",
    "\n",
    "# Reading SAFE manifest and outputting/collecting component names\n",
    "tree = ET.parse(SAFE_manifest)\n",
    "root = tree.getroot()\n",
    "items = root.find('dataObjectSection')\n",
    "SAFE_components = []\n",
    "for item in items:\n",
    "    display(Markdown(\"**File name:** {}\".format(item[0][0].get('href'))))\n",
    "    display(Markdown(\"*File info: {}*\".format(item[0][0].get('textInfo'))))\n",
    "    SAFE_components.append(os.path.join(SAFE_directory, item[0][0].get('href')))\n",
    "\n",
    "# Display component structure and variables\n",
    "for SAFE_component in sorted(SAFE_components):\n",
    "    nc_fid = nc.Dataset(SAFE_component)\n",
    "    groups = []\n",
    "    groups.append(None)\n",
    "    for item in nc_fid.groups:\n",
    "        groups.append(f\"{item}/{list(nc_fid.groups[item].groups.keys())[0]}\")\n",
    "    nc_fid.close()\n",
    "    for group in groups:\n",
    "        print(f\"Group: {group}\")\n",
    "        ds = xr.open_dataset(SAFE_component, group=group, decode_times=False)\n",
    "        display(Markdown('**Filename:** {}'.format(os.path.basename(SAFE_component))))\n",
    "        display(ds)\n",
    "        ds.close()"
   ]
  },
  {
   "cell_type": "markdown",
   "metadata": {},
   "source": [
    "We can see some differences between the LR and HR products. Notably, the `power_waveform` variable has different dimensions to its low resolution counterpart, 512 vs 256 as it is over-sampled in the HR case. We also introduce a new coordinate `looks`, and a new variable `stack_mask_start_stop`, which describe the masking used in \"multi-looking\"."
   ]
  },
  {
   "cell_type": "markdown",
   "metadata": {},
   "source": [
    "<div class=\"alert alert-danger\" role=\"alert\">\n",
    "\n",
    "## <a id='section3'></a>3. Applying your knowledge: opening level-2, level-2P and level-3 files\n",
    "\n",
    "[Back to top](#TOC_TOP)\n",
    "\n",
    "</div>"
   ]
  },
  {
   "cell_type": "markdown",
   "metadata": {},
   "source": [
    "<div class=\"alert alert-block alert-warning\">\n",
    "\n",
    "### Challenge:\n",
    "\n",
    "Can you adapt the match_keys above to show the contents of a Level-2, Level-2P and Level-3 file? What differences do you notice?<div>"
   ]
  },
  {
   "cell_type": "markdown",
   "metadata": {
    "solution2": "hidden",
    "solution2_first": true
   },
   "source": [
    "### Enter your solution here\n",
    "* ...\n",
    "* ..."
   ]
  },
  {
   "cell_type": "markdown",
   "metadata": {
    "solution2": "hidden"
   },
   "source": [
    "* To assess level-2 LR files the match_key to use is: S6A_P4_2__LR\n",
    "* To assess level-2 HR files the match_key to use is: S6A_P4_2__HR\n",
    "* To assess level-2P HR files the match_key to use is: S6A_P4_2P_HR\n",
    "* To assess level-3 HR files the match_key to use is: S6A_P4_3__HR\n",
    "\n",
    "* key difference: at level-2, there are two files (RED/STD) for standard and reduced measurements\n",
    "* key difference: at level-2, the standard and reduced measurements are measured at different frequencies (20 Hz and 1 Hz, respectively)\n",
    "* key difference: at level-2P and level-3, there are no groups, everything is stored at the same level."
   ]
  },
  {
   "cell_type": "markdown",
   "metadata": {},
   "source": [
    "<hr>\n",
    "<a href=\"../Index.ipynb\"><< Index</a>\n",
    "<br>\n",
    "<a href=\"./1_1b_S6_data_access_SFTP.ipynb\"><< Accessing Poseidon-4 data via Data Store</a>&nbsp;&nbsp;&nbsp;&nbsp;&nbsp;<a href=\"./1_3_S6_coverage.ipynb\">Determining Poseidon-4 product coverage >></a>\n",
    "<hr>\n",
    "<a href=\"https://gitlab.eumetsat.int/eumetlab/ocean\">View on GitLab</a> | <a href=\"https://training.eumetsat.int/\">EUMETSAT Training</a> | <a href=mailto:ops@eumetsat.int>Contact helpdesk for support </a> | <a href=mailto:Copernicus.training@eumetsat.int>Contact our training team to collaborate on and reuse this material</a></span></p>"
   ]
  }
 ],
 "metadata": {
  "author": "Ben Loveday, Hayley Evers-King",
  "description": "This Jupyter Notebook covers the file structure of Poseidon-4 level-1B and level-2 products.",
  "github": "https://github.com/wekeo/learn-s6/blob/main/1_S6_introductory/1_2_S6_file_structure.ipynb",
  "image": "../img/thumbs/1_2_S6_file_structure_thumb.png",
  "kernelspec": {
   "display_name": "Python 3 (ipykernel)",
   "language": "python",
   "name": "python3"
  },
  "language_info": {
   "codemirror_mode": {
    "name": "ipython",
    "version": 3
   },
   "file_extension": ".py",
   "mimetype": "text/x-python",
   "name": "python",
   "nbconvert_exporter": "python",
   "pygments_lexer": "ipython3",
   "version": "3.9.13"
  },
  "link": "https://jupyterhub-wekeo.apps.eumetsat.dpi.wekeo.eu/hub/user-redirect/lab/tree/public/ocean/learn-s6/1_S6_introductory/1_2_S6_file_structure.ipynb",
  "tags": {
   "domain": "Ocean",
   "platform": "Sentinel-6",
   "sensor": "Poseidon-4",
   "tags": [
    "Sea surface height anomaly",
    "Significant wave height",
    "Wind speed",
    "Waveforms"
   ]
  },
  "title": "Poseidon-4 file structure"
 },
 "nbformat": 4,
 "nbformat_minor": 2
}
