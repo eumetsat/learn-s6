{
 "cells": [
  {
   "cell_type": "markdown",
   "metadata": {
    "Collapsed": "false"
   },
   "source": [
    "<img src='https://gitlab.eumetsat.int/eumetlab/oceans/ocean-training/tools/frameworks/-/raw/main/img/Standard_banner.png' align='right' width='100%'/>"
   ]
  },
  {
   "cell_type": "markdown",
   "metadata": {},
   "source": [
    "<font color=\"#138D75\">**Copernicus Marine Training Service**</font> <br>\n",
    "**Copyright:** 2022 EUMETSAT <br>\n",
    "**License:** MIT"
   ]
  },
  {
   "cell_type": "markdown",
   "metadata": {},
   "source": [
    "<html>\n",
    "  <div style=\"width:100%\">\n",
    "    <div style=\"float:left\"><a href=\"https://mybinder.org/v2/git/https%3A%2F%2Fgitlab.eumetsat.int%2Feumetlab%2Foceans%2Focean-training%2Fsensors%2Flearn-s6/HEAD?urlpath=%2Ftree%2FIndex.ipynb\"><img src=\"https://mybinder.org/badge_logo.svg\" alt=\"Open in Binder\"></a></div>\n",
    "    <div style=\"float:left\"><p>&emsp;</p></div>\n",
    "  </div>\n",
    "</html>"
   ]
  },
  {
   "cell_type": "markdown",
   "metadata": {},
   "source": [
    "<div class=\"alert alert-block alert-success\">\n",
    "<h3>Learn Sentinel-6</h3></div>\n",
    "<hr>"
   ]
  },
  {
   "cell_type": "markdown",
   "metadata": {
    "Collapsed": "false"
   },
   "source": [
    "# Index for the learn-sentinel6 module\n",
    "\n",
    "### About Sentinel-6\n",
    "\n",
    "UPDATE!!!! \n",
    "\n",
    "<font color=\"#FF0000\">The Ocean and Land Colour Instrument (OLCI) provides spectral information on the colour of the oceans. This data can be used to monitor global ocean primary production by phytoplankton, the basis of nearly all life in our seas.</font>\n",
    "\n",
    "<font color=\"#FF0000\">Ocean colour data is also vital to understand climate change — ocean colour is one of the Essential Climate Variables listed by the World Meteorological Organization to detect biological activity in the ocean’s surface layer. Phytoplankton take up carbon dioxide (CO$_{2}$) during photosynthesis, making them important carbon sinks. Ocean colour data can be used to monitor the annual global uptake of CO$_{2}$ by phytoplankton on a global scale. Using this data we can study the wider Earth system, for instance the El Niño/La Niña phenomena and how these impacts the ocean ecosystem.</font>\n",
    "\n",
    "<font color=\"#FF0000\">Beyond climate, ocean colour data is also useful to look at more sporadic events. OLCI data can be used track sediment transport, monitor coastal water quality and track and forecast harmful algal blooms that are a danger to humans, marine/freshwater life and aquaculture.</font>\n",
    "\n",
    "<font color=\"#FF0000\">The global picture of ocean ecosystems provided by ocean colour data can guide sustainable marine resource management and support reporting obligations of the European Union's legislation within Marine Strategy Framework Directive and Water Framework Directive, the goal of which is to achieve or maintain Good Environmental Status of the seas by the year 2020</font>\n",
    "\n",
    "Further information on the instruments aboard Sentinel-6, including Poseidon-4, and their data can be found at <a href=\"https://www.eumetsat.int/sentinel-6\" target=\"_blank\">https://www.eumetsat.int/sentinel-6</a> and in the <a href=\"https://eumetsatspace.atlassian.net/wiki/spaces/SENc/overview\" target=\"_blank\">Sentinel-6 knowledge base</a>.\n",
    "<hr>\n",
    "\n",
    "<hr>\n",
    "\n",
    "### Module outline\n",
    "\n",
    "The **learn-s6** module consists of a collection of Python-based Jupyter notebooks designed to demonstrate the capability of the Poseidon-4 altimeter and its supporting instrumentation, as carried by the Sentinel-6 satellite, and to help users begin to work with its data at level-1B and level-2. The module will introduce you to:\n",
    "\n",
    "* the specifics of the Poseidon-4 altimeter\n",
    "* the ways in which you can access Poseidon-4 data\n",
    "* the parameters that Poseidon-4 provides at level-1b and level-2\n",
    "* approaches to working with Poseidon-4 data in common use cases\n",
    "\n",
    "<hr>\n",
    "\n",
    "### How to use this material\n",
    "\n",
    "This module is based around a series of <a href=\"https://jupyter.org/\" target=\"_blank\">Jupyter Notebooks</a>. These support high-level interactive learning by allowing us to combine code, text descriptions and data visualisations. If you have not worked with Jupyter Notebooks before, please look at the\n",
    "\n",
    "<a href=\"./working-with-python/Intro_to_Python_and_Jupyter.ipynb\" target=\"_blank\">Introduction to Python and Project Jupyter</a> module to get a short introduction to their usage and benefits. Refer to this module's **README** for further information on how to set up Jupyter.\n",
    "\n",
    "This module is split in to two parts, designed for:\n",
    "* <font color=\"#229954\">**introductory users**</font>, who have basic knowledge of Python and are new to using Poseidon-4 data\n",
    "* <font color=\"#DC7633\">**advanced users**</font>, who may be looking into more advanced use cases for the data.\n",
    "\n",
    "There is a suggested order in which to access the notebooks, and pre-requisites where applicable are listed at the top of each notebook. However, not all notebooks may be relevant for every user, so we have tried to make each one as self contained as possible.\n",
    "\n",
    "<hr>\n",
    "\n",
    "### Learning outcomes\n",
    "\n",
    "From this module, you can expect to learn:\n",
    "* How to access Poseidon-4 data from both FTP and, in future the EUMETSAT data services and WEkEO\n",
    "* The general file structure of Poseidon-4 products, and how to read them using Python\n",
    "* How Poseidon-4 captures waveforms, and how these are used to derive geophysical products\n",
    "* How to visualise Poseidon-4 data products, applying appropriate flags and quality levels\n",
    "* The limitations and uncertainties associated with Poseidon-4 products\n",
    "\n",
    "<hr>"
   ]
  },
  {
   "cell_type": "markdown",
   "metadata": {},
   "source": [
    "<div class=\"alert alert-info\" role=\"alert\">\n",
    "\n",
    "## <a id='TOC_TOP'></a>Contents\n",
    "\n",
    "</div>\n",
    "    \n",
    "This modules offers notebooks for introductory and advanced uses of OLCI data.\n",
    "\n",
    "<h3>Poseidon-4 <font color=\"#229954\"> introductory</font> notebooks.</h3>\n",
    "\n",
    "These resources will introduce you to the fundamentals of Poseidon-4<br>\n",
    " *  <a href=\"./1_S6_introductory/1_1_S6_data_access_SFTP.ipynb\" target=\"_blank\">1.1 Accessing Poseidon-4 data via SFTP</a>\n",
    " *  <a href=\"./1_S6_introductory/1_2_S6_file_structure.ipynb\" target=\"_blank\">1.2 Understanding Poseidon-4 product structure</a>\n",
    " *  <a href=\"./1_S6_introductory/1_3_S6_coverage.ipynb\" target=\"_blank\">1.3 Determining Poseidon-4 product coverage</a>\n",
    " *  <a href=\"./1_S6_introductory/1_4_S6_tracks.ipynb\" target=\"_blank\">1.4 Poseidon-4 tracks</a>\n",
    " *  <a href=\"./1_S6_introductory/1_5_S6_waveforms.ipynb\" target=\"_blank\">1.5 Poseidon-4 waveforms</a>\n",
    " *  <a href=\"./1_S6_introductory/1_6_S6_SSHA.ipynb\" target=\"_blank\">1.6 Poseidon-4 sea surface height anomalies</a>\n",
    " *  <a href=\"./1_S6_introductory/1_7_S6_SWH.ipynb\" target=\"_blank\">1.7 Poseidon-4 significant wave height</a>\n",
    " *  <a href=\"./1_S6_introductory/1_8_S6_WS.ipynb\" target=\"_blank\">1.8 Poseidon-4 wind speed</a>\n",
    " * more coming soon...\n",
    " \n",
    "<h3>Poseidon-4 <font color=\"#DC7633\"> advanced</font> notebooks</h3>\n",
    "\n",
    " These resources build on the fundamentals, covering more advanced uses of Poseidon-4.<br>\n",
    " *  <a href=\"./2_S6_advanced/2_1_S6_advanced_data_access_eumdac.ipynb\" target=\"_blank\">2.1 Poseidon-4 advanced data access via the Data Store using eumdac</a>\n",
    " *  <a href=\"./2_S6_advanced/2_2_acquire_S6_full_cycle.ipynb\" target=\"_blank\">2.2 Acquiring a full Poseidon-4 cycle</a>\n",
    " * more coming soon..."
   ]
  },
  {
   "cell_type": "markdown",
   "metadata": {},
   "source": [
    "<hr>\n",
    "<a href=\"https://gitlab.eumetsat.int/eumetlab/ocean\">View on GitLab</a> | <a href=\"https://training.eumetsat.int/\">EUMETSAT Training</a> | <a href=mailto:ops@eumetsat.int>Contact helpdesk for support </a> | <a href=mailto:Copernicus.training@eumetsat.int>Contact our training team to collaborate on and reuse this material</a></span></p>"
   ]
  }
 ],
 "metadata": {
  "kernelspec": {
   "display_name": "Python 3 (ipykernel)",
   "language": "python",
   "name": "python3"
  },
  "language_info": {
   "codemirror_mode": {
    "name": "ipython",
    "version": 3
   },
   "file_extension": ".py",
   "mimetype": "text/x-python",
   "name": "python",
   "nbconvert_exporter": "python",
   "pygments_lexer": "ipython3",
   "version": "3.9.13"
  }
 },
 "nbformat": 4,
 "nbformat_minor": 4
}
