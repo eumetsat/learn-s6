{
 "cells": [
  {
   "cell_type": "markdown",
   "metadata": {
    "Collapsed": "false"
   },
   "source": [
    "<img src='https://gitlab.eumetsat.int/eumetlab/oceans/ocean-training/tools/frameworks/-/raw/main/img/Standard_banner.png' align='right' width='100%'/>"
   ]
  },
  {
   "cell_type": "markdown",
   "metadata": {},
   "source": [
    "<font color=\"#138D75\">**Copernicus Marine Training Service**</font> <br>\n",
    "**Copyright:** 2024 EUMETSAT <br>\n",
    "**License:** MIT <br>\n",
    "**Authors:** Ben Loveday (EUMETSAT/Innoflair UG), Hayley Evers-King (EUMETSAT), Vinca Rosmorduc (CLS)"
   ]
  },
  {
   "cell_type": "markdown",
   "metadata": {},
   "source": [
    "<html>\n",
    "  <div style=\"width:100%\">\n",
    "    <div style=\"float:left\"><a href=\"https://mybinder.org/v2/git/https%3A%2F%2Fgitlab.eumetsat.int%2Feumetlab%2Foceans%2Focean-training%2Fsensors%2Flearn-s6/HEAD?urlpath=%2Ftree%2FIndex.ipynb\"><img src=\"https://mybinder.org/badge_logo.svg\" alt=\"Open in Binder\"></a></div>\n",
    "    <div style=\"float:left\"><p>&emsp;</p></div>\n",
    "  </div>\n",
    "</html>"
   ]
  },
  {
   "cell_type": "markdown",
   "metadata": {},
   "source": [
    "<div class=\"alert alert-block alert-success\">\n",
    "<h3>Learn Sentinel-6</h3></div>\n",
    "<hr>"
   ]
  },
  {
   "cell_type": "markdown",
   "metadata": {
    "Collapsed": "false"
   },
   "source": [
    "# Index for the learn-sentinel6 module\n",
    "\n",
    "### About Sentinel-6\n",
    "\n",
    "The Sentinel-6 altimetry (or surface topography) mission, uses radar altimetry, supported by a suite of other measurements, to provide measures of the height of the Earth's surfaces. This includes the ocean, where Sentinel-6 altimetry data is used to derive products relating to sea surface height, wind, and waves. In combination with other altimeters, the Sentinel-6 altimetry missions provides insight in to ocean physics, and vital inputs for weather forecasting.\n",
    "\n",
    "The Poseidon-4 altimeter emits burts of electromagnetic radiation in the *c* and *ku* radar bands, and subsequently records the patterns of their waveforms as they are reflected from the surface of the Earth. These waveforms give us invaluable information about the sea-surface topography. Poseidon-4 provides an along track resolution of 300m resolution, at 1Hz and 20Hz frequency.\n",
    "\n",
    "Further information on the sensor and its data can be found in the <a href=\"https://user.eumetsat.int/data/satellites/sentinel-6\" target=\"_blank\">Sentinel-6 section of our User Portal</a>.\n",
    "\n",
    "<hr>\n",
    "\n",
    "<hr>\n",
    "\n",
    "### Module outline\n",
    "\n",
    "The **learn-s6** module consists of a collection of Python-based Jupyter notebooks designed to demonstrate the capability of the Poseidon-4 altimeter and its supporting instrumentation, as carried by the Sentinel-6 satellite, and to help users begin to work with its data at level-1B and level-2. The module will introduce you to:\n",
    "\n",
    "* the specifics of the Poseidon-4 altimeter\n",
    "* the ways in which you can access Poseidon-4 data\n",
    "* the parameters that Poseidon-4 provides at level-1b and level-2\n",
    "* approaches to working with Poseidon-4 data in common use cases\n",
    "\n",
    "<hr>\n",
    "\n",
    "### How to use this material\n",
    "\n",
    "This module is based around a series of <a href=\"https://jupyter.org/\" target=\"_blank\">Jupyter Notebooks</a>. These support high-level interactive learning by allowing us to combine code, text descriptions and data visualisations. If you have not worked with Jupyter Notebooks before, please look at the\n",
    "\n",
    "<a href=\"./working-with-python/Intro_to_Python_and_Jupyter.ipynb\" target=\"_blank\">Introduction to Python and Project Jupyter</a> module to get a short introduction to their usage and benefits. Refer to this module's **README** for further information on how to set up Jupyter.\n",
    "\n",
    "This module is split in to two parts, designed for:\n",
    "* <font color=\"#229954\">**introductory users**</font>, who have basic knowledge of Python and are new to using Poseidon-4 data\n",
    "* <font color=\"#DC7633\">**advanced users**</font>, who may be looking into more advanced use cases for the data.\n",
    "\n",
    "There is a suggested order in which to access the notebooks, and pre-requisites where applicable are listed at the top of each notebook. However, not all notebooks may be relevant for every user, so we have tried to make each one as self contained as possible.\n",
    "\n",
    "<hr>\n",
    "\n",
    "### Learning outcomes\n",
    "\n",
    "From this module, you can expect to learn:\n",
    "* How to access Sentinel-6 data from both FTP and the EUMETSAT data services\n",
    "* The general file structure of Sentinel-6 products, and how to read them using Python\n",
    "* How Sentinel-6 captures waveforms, and how these are used to derive geophysical products\n",
    "* How to visualise Sentinel-6 data products, applying appropriate flags and quality levels\n",
    "* The limitations and uncertainties associated with Sentinel-6 products\n",
    "\n",
    "<hr>"
   ]
  },
  {
   "cell_type": "markdown",
   "metadata": {},
   "source": [
    "<div class=\"alert alert-info\" role=\"alert\">\n",
    "\n",
    "## <a id='TOC_TOP'></a>Contents\n",
    "\n",
    "</div>\n",
    "    \n",
    "This modules offers notebooks for introductory and advanced uses of Sentinel-6 data.\n",
    "\n",
    "<h3>Sentinel-6 <font color=\"#229954\"> introductory</font> notebooks.</h3>\n",
    "\n",
    "These resources will introduce you to the fundamentals of Poseidon-4<br>\n",
    " *  <a href=\"./1_S6_introductory/1_1a_S6_data_access_Data_Store.ipynb\" target=\"_blank\">1.1a Accessing Sentinel-6 data from the EUMETSAT Data Store</a>\n",
    " *  <a href=\"./1_S6_introductory/coming_soon.md\" target=\"_blank\">1.1b Accessing Sentinel-6 data using the WEkEO HDA adaptor</a> (coming soon)\n",
    " *  <a href=\"./1_S6_introductory/1_2_S6_file_structure.ipynb\" target=\"_blank\">1.2 Understanding Sentinel-6 product structure</a>\n",
    " *  <a href=\"./1_S6_introductory/1_3_S6_coverage.ipynb\" target=\"_blank\">1.3 Determining Sentinel-6 product coverage</a>\n",
    " *  <a href=\"./1_S6_introductory/1_4_S6_tracks.ipynb\" target=\"_blank\">1.4 Sentinel-6 tracks</a>\n",
    " *  <a href=\"./1_S6_introductory/1_5_S6_waveforms.ipynb\" target=\"_blank\">1.5 Sentinel-6 waveforms</a>\n",
    " *  <a href=\"./1_S6_introductory/1_6_S6_SSHA.ipynb\" target=\"_blank\">1.6 Sentinel-6 sea surface height anomalies</a>\n",
    " *  <a href=\"./1_S6_introductory/1_7_S6_SWH.ipynb\" target=\"_blank\">1.7 Sentinel-6 significant wave height</a>\n",
    " *  <a href=\"./1_S6_introductory/1_8_S6_WS.ipynb\" target=\"_blank\">1.8 Sentinel-6 wind speed</a>\n",
    " * more coming soon...\n",
    " \n",
    "<h3>Sentinel-6 <font color=\"#DC7633\"> advanced</font> notebooks</h3>\n",
    "\n",
    " These resources build on the fundamentals, covering more advanced uses of Sentinel-6.<br>\n",
    " *  <a href=\"./2_S6_advanced/2_1_S6_advanced_data_access_eumdac.ipynb\" target=\"_blank\">2.1 Sentinel-6 advanced data access via the Data Store using eumdac</a>\n",
    " *  <a href=\"./2_S6_advanced/2_2_acquire_S6_full_cycle.ipynb\" target=\"_blank\">2.2 Acquiring a full Sentinel-6</a>\n",
    " *  <a href=\"./2_S6_advanced/2_3_S6_coastal_waveforms.ipynb\" target=\"_blank\">2.2 Sentinel-6 waveforms for two different modes close to coastal features</a>\n",
    " * more coming soon..."
   ]
  },
  {
   "cell_type": "markdown",
   "metadata": {},
   "source": [
    "<hr>\n",
    "<a href=\"https://gitlab.eumetsat.int/eumetlab/ocean\">View on GitLab</a> | <a href=\"https://training.eumetsat.int/\">EUMETSAT Training</a> | <a href=mailto:ops@eumetsat.int>Contact helpdesk for support </a> | <a href=mailto:training@eumetsat.int>Contact our training team to collaborate on and reuse this material</a></span></p>"
   ]
  }
 ],
 "metadata": {
  "author": "Ben Loveday, Hayley Evers-King, Vinca Rosmorduc",
  "description": "This repository provides guidance on working with Sentinel-6 altimetry data",
  "image": "./img/thumbs/Index_thumb.png",
  "kernelspec": {
   "display_name": "Python 3 (ipykernel)",
   "language": "python",
   "name": "python3"
  },
  "language_info": {
   "codemirror_mode": {
    "name": "ipython",
    "version": 3
   },
   "file_extension": ".py",
   "mimetype": "text/x-python",
   "name": "python",
   "nbconvert_exporter": "python",
   "pygments_lexer": "ipython3",
   "version": "3.10.13"
  },
  "services": {
   "eumetsat": {
    "binder": {
     "link": "https://mybinder.org/v2/git/https%3A%2F%2Fgitlab.eumetsat.int%2Feumetlab%2Foceans%2Focean-training%2Fsensors%2Flearn-s6/HEAD?urlpath=%2Ftree%2FIndex.ipynb",
     "service_contact": "ops@eumetsat.int",
     "service_provider": "EUMETSAT"
    },
    "git": {
     "link": "https://gitlab.eumetsat.int/eumetlab/oceans/ocean-training/sensors/learn-s6/-/blob/main/Index.ipynb",
     "service_contact": "ops@eumetsat.int",
     "service_provider": "EUMETSAT"
    }
   },
   "wekeo": {
    "git": {
     "link": "",
     "service_contact": "ops@eumetsat.int",
     "service_provider": "EUMETSAT"
    },
    "url": {
     "link": "",
     "service_contact": "ops@eumetsat.int",
     "service_provider": "EUMETSAT"
    }
   }
  },
  "tags": {
   "domain": [
    "Marine",
    "Climate"
   ],
   "platform": [
    "Sentinel-6"
   ],
   "sensor": "Poseidon-4",
   "service": "EUMETSAT",
   "subtheme": [
    "Maritime safety",
    "Climate system monitoring - Ocean",
    "Ocean dynamics"
   ],
   "tags": [
    "Sea surface height",
    "Significant wave height",
    "Wind speed",
    "Altimetry waveforms"
   ]
  },
  "title": "Welcome to the EUMETSAT learn-s6 GitLab repository"
 },
 "nbformat": 4,
 "nbformat_minor": 4
}
