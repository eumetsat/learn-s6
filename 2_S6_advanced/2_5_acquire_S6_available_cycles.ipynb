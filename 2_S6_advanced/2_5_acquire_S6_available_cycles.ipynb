{
 "cells": [
  {
   "cell_type": "markdown",
   "metadata": {},
   "source": [
    "<img src='https://gitlab.eumetsat.int/eumetlab/oceans/ocean-training/tools/frameworks/-/raw/main/img/Standard_banner.png' align='right' width='100%'/>"
   ]
  },
  {
   "cell_type": "markdown",
   "metadata": {},
   "source": [
    "<a href=\"../Index.ipynb\" target=\"_blank\"><< Index</a>\n",
    "<br>\n",
    "<a href=\"./2_4_iono_corr_solarstorms.ipiynb\" target=\"_blank\"><< Ionospheric correction solar storms</a>"
   ]
  },
  {
   "cell_type": "markdown",
   "metadata": {},
   "source": [
    "<font color=\"#138D75\">**Copernicus Marine Training Service**</font> <br>\n",
    "**Copyright:** 2024 EUMETSAT <br>\n",
    "**License:** MIT <br>\n",
    "**Authors:** Ben Loveday (EUMETSAT/Innoflair UG), Hayley Evers-King (EUMETSAT), Vinca Rosmorduc (CLS)"
   ]
  },
  {
   "cell_type": "markdown",
   "metadata": {},
   "source": [
    "<html>\n",
    "<div style=\"float:left\"><a href=\"https://gitlab.eumetsat.int/eumetlab/oceans/ocean-training/sensors/learn-s6\"><img src=\"https://img.shields.io/badge/open-EUMETLAB-E67E22.svg?style=flat&logo=data:image/png;base64,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\" alt=\"Open in EUMETLAB\"></a></div>\n",
    "    <div style=\"float:left\"><p>&emsp;</p></div>\n",
    "  </div>\n",
    "  <div style=\"width:100%\">\n",
    "    <div style=\"float:left\"><a href=\"https://user.eumetsat.int/search-view?sort=startDate%20desc&facets=%7B%22contentTypes%22:%5B%22Resources%7CSoftware%20%26%20code%22%5D,%22theme%22:%5B%22Marine%22,%22Marine%7CMaritime%20safety%22,%22Marine%7COcean%20biogeochemistry%22,%22Marine%7COcean%20dynamics%22,%22Marine%7CWater%20quality%22%5D,%22org-satellite-sensor%22:%5B%22EUMETSAT%7CSentinel-6%22,%22EUMETSAT%7CSentinel-6%7CAMR-C%22,%22EUMETSAT%7CSentinel-6%7CDORIS%22,%22EUMETSAT%7CSentinel-6%7CGNSS-RO%22,%22EUMETSAT%7CSentinel-6%7CLRA%22,%22EUMETSAT%7CSentinel-6%7CPoseidon-4%22%5D%7D\"><img src=\"https://img.shields.io/badge/open-USER PORTAL-154360.svg?style=flat&logo=data:image/png;base64,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\" alt=\"Open in user portal\"></a></div>\n",
    "    <div style=\"float:left\"><p>&emsp;</p></div>\n",
    "  </div>\n",
    "  <div style=\"width:100%\">\n",
    "    <div style=\"float:left\"><a href=\"https://mybinder.org/v2/git/https%3A%2F%2Fgitlab.eumetsat.int%2Feumetlab%2Foceans%2Focean-training%2Fsensors%2Flearn-s6/HEAD?labpath=2_S6_advanced%2F2_5_acquire_S6_available_cycles.ipynb\"><img src=\"https://mybinder.org/badge_logo.svg\" alt=\"Launch on Binder\"></a></div>\n",
    "    <div style=\"float:left\"><p>&emsp;</p></div>\n",
    "  </div>\n",
    "  <div style=\"width:100%\">\n",
    "    <div style=\"float:left\"><a href=\"https://jupyterhub.prod.wekeo2.eu/hub/user-redirect/lab/tree/public/wekeo4oceans/learn-s6/2_S6_advanced/2_5_acquire_S6_available_cycles.ipynb\"><img src=\"https://img.shields.io/badge/launch-WEKEO-1a4696.svg?style=flat&logo=data:image/png;base64,iVBORw0KGgoAAAANSUhEUgAAAA8AAAAMCAMAAACKnBfWAAAABGdBTUEAALGPC/xhBQAAACBjSFJNAAB6JgAAgIQAAPoAAACA6AAAdTAAAOpgAAA6mAAAF3CculE8AAABwlBMVEUAYbdepNtBc7VCdLhNhMQkXKpsn9RWltFZl9VlpNI3aK9fpNtMd7ZznM8pg8o4WJc2TZFHY6MmQYptiLxnqt5hptxfpNtfpNtfpNtgpdtip9x2uullqN1fpNtdo9pepdtanNQ9a65Bc7dCeb5nqt5fpNslUpssW6RMgcBTjstWldJhptxdo9phoNdkpdtfpNtoqNxepNplo9hepNthnNNfpdtelM1hptxSgL5dj8hoqt5fpNsjRYgjPog8WqBHa61TfLplqN1fpdtfpdxam9IyTIw2TZFGYaBoqt5hptxfpdtepNpfpNtgpdtjp9x5vu5do9pHgb5co9pepNtHgbwWN4AVP5AhU6JLgL9dl89epNphpttgpdtipttnqd1ho9glSIkWM3snSokeTJdHda9cksphndRmqNyTweaWxOePv+WfyemAs91QYphFUmpuclhKYHRwh5V8pNNdls6iyuq72fCNvuWIueCIlbtTW2hwcFNTY2lmfpSBpNJZj8lsq91xr99nqdx4suBrqds7V5AlNm85S20lRIJVcZxZgr1Uh8NcotpbotpdpNtGfrcTKnAOKXsYOYo4XKRJcbNHfbf////t/CgnAAAAUHRSTlMAAAAAAAAAAAAAAAAAAAAAAAAAAByF2PfyxGAJLcH+9pQvJgsav/7s57hBf/3gQdO69vH18dK4fN0+GLz96uSzPCq99JArIgkagNTz7r9bB4DtcFsAAAABYktHRJUIYHqDAAAAB3RJTUUH5wIKESIRAg6dCwAAALtJREFUCNdjYGAUERUTl5CUkmZiZmFlY2CUkZULAAJ5BUUlZXYOBhXVADAIVFPX0NTiZNDWAXKCgkNCw8IjInX1GPSjomNi4+ITEpOSU1LTDBgM0zMys7JzcvPyCwqLio0YjKNKSstKyisqq6prautMGEwD6hsam5pbWtvaOzq7zBjMdbq7g3p6+/onTJw02cKSwcoaYt8UG1s7ewcuBm5HJ7B7nF1c3dx5eBn4uD08vbx9fP38+QUEhYQB5Z40RP8+e1wAAAAldEVYdGRhdGU6Y3JlYXRlADIwMjMtMDItMTBUMTc6MzM6NDUrMDA6MDCCLR1xAAAAJXRFWHRkYXRlOm1vZGlmeQAyMDIzLTAyLTEwVDE3OjI2OjU5KzAwOjAw393bowAAAABJRU5ErkJggg==\" alt=\"Launch on WEkEO\"></a></div>\n",
    "    <div style=\"float:left\"><p>&emsp;</p></div>\n",
    "  </div> \n",
    "</html>"
   ]
  },
  {
   "cell_type": "markdown",
   "metadata": {},
   "source": [
    "<div class=\"alert alert-block alert-success\">\n",
    "<h3>Learn Sentinel-6: Advanced</h3></div>"
   ]
  },
  {
   "cell_type": "markdown",
   "metadata": {},
   "source": [
    "<div class=\"alert alert-block alert-warning\">\n",
    "    \n",
    "<b>PREREQUISITES </b>\n",
    "    \n",
    "This notebook has the following prerequisites:\n",
    "- **<a href=\"https://eoportal.eumetsat.int/\" target=\"_blank\">A EUMETSAT Earth Observation Portal account</a>** to use the EUMETSAT Data Store\n",
    "    \n",
    "There are no prerequisite notebooks for this module.\n",
    "</div>\n",
    "<hr>"
   ]
  },
  {
   "cell_type": "markdown",
   "metadata": {},
   "source": [
    "# 2.5 Acquiring a Sentinel-6 track over all available cycles\n",
    "\n",
    "### Data used\n",
    "\n",
    "| Dataset | EUMETSAT collection ID| EUMETSAT collection<br>description | WEkEO dataset ID | WEkEO description |\n",
    "|:--------------------:|:-----------------------:|:-------------:|:-----------------:|:--------:|\n",
    "| Sentinel-6 Poseidon-4 Altimetry level 2 High Resolution  | EO:EUM:DAT:0855 | <a href=\"https://user.eumetsat.int/catalogue/EO:EUM:DAT:0855\" target=\"_blank\">Description</a> | EO:EUM:DAT:0855| <a href=\"https://www.wekeo.eu/data?view=dataset&dataset=EO%3AEUM%3ADAT%3A0855\" target=\"_blank\">Description</a> |\n",
    "| Sentinel-6 Poseidon-4 Altimetry level 2 High Resolution (baseline version F08; reprocessed)  | EO:EUM:DAT:0841 | <a href=\"https://user.eumetsat.int/catalogue/EO:EUM:DAT:0841\" target=\"_blank\">Description</a> | EO:EUM:DAT:SENTINEL-6:0841| <a href=\"https://www.wekeo.eu/data?view=dataset&dataset=EO%3AEUM%3ADAT%3ASENTINEL-6%3A0841\" target=\"_blank\">Description</a> |\n",
    "\n",
    "\n",
    "### Learning outcomes\n",
    "\n",
    "At the end of this notebook you will know;\n",
    "* <font color=\"#138D75\">**Search**</font> for a time series of L2 Sentinel-6 data for a given cycle number using the EUMETSAT Data Store API client (`eumdac`)\n",
    "* <font color=\"#138D75\">**Download**</font> this time series\n",
    "\n",
    "### Outline\n",
    "\n",
    "The EUMETSAT Data Store offers many ways to interact with data in order to refine searches. Many of these methods are supported by the EUMETSAT Data Access Client (`eumdac`). In this notebook we will showcase some of the possibilities for using `eumdac` to better interact with Sentinel-6 collections.\n",
    "\n",
    "<div class=\"alert alert-info\" role=\"alert\">\n",
    "\n",
    "## <a id='TOC_TOP'></a>Contents\n",
    "\n",
    "</div>\n",
    "    \n",
    "1. [Step 1: Authenticating the API](#section1)\n",
    "1. [Step 2: Creating a search for products](#section2)\n",
    "1. [Step 3: Downloading the data](#section4)\n",
    "\n",
    "<hr>"
   ]
  },
  {
   "cell_type": "markdown",
   "metadata": {},
   "source": [
    "We begin by importing all of the libraries that we need to run this notebook. If you have built your python using the environment file provided in this repository, then you should have everything you need. For more information on building environment, please see the repository **<a href=\"../README.md\" target=\"_blank\">README</a>**."
   ]
  },
  {
   "cell_type": "code",
   "execution_count": 20,
   "metadata": {},
   "outputs": [],
   "source": [
    "import os                              # a library that allows us access to basic operating system commands\n",
    "import glob                            # a library that helps us search for files\n",
    "import json                            # a library that helps us make JSON format files\n",
    "import eumdac                          # a tool that helps us download via the eumetsat/data-store\n",
    "import datetime                        # a library that allows us to work with dates and times\n",
    "import shutil                          # a library that allows us access to basic operating system commands like copy\n",
    "import zipfile                         # a library that support zipping/unzipping files\n",
    "import xarray                          # a library that helps us work efficiently with multi-dimensional arrays\n",
    "import matplotlib                      # a library the provides plotting capability\n",
    "import matplotlib.pyplot as plt        # a library the provides plotting capability\n",
    "import cartopy                         # a library that supports mapping and projection\n",
    "import cartopy.crs as ccrs             # a library that supports mapping and projection\n",
    "import numpy as np                     # a library that lets us work with arrays; we import this with a new name \"np\"\n",
    "from pathlib import Path               # a library that helps construct system path objects\n",
    "\n",
    "# Create a download directory for our Sentinel-6 products\n",
    "#download_dir = os.path.join(os.getcwd(), \"products\")\n",
    "download_dir = \"products/\"\n",
    "os.makedirs(download_dir, exist_ok=True)"
   ]
  },
  {
   "cell_type": "markdown",
   "metadata": {},
   "source": [
    "<div class=\"alert alert-info\" role=\"alert\">\n",
    "\n",
    "## <a id='section1'></a>Step 1: Authenticating the API\n",
    "[Back to top](#TOC_TOP)\n",
    "\n",
    "</div>"
   ]
  },
  {
   "cell_type": "markdown",
   "metadata": {},
   "source": [
    "Before we use the Data Store to download data, we must first authenticate our access and retrieve an access token. More **essential** information on setting this up can be found in the **<a href=\"../1_S6_introductory/1_1b_S6_data_access_DS.ipynb\">1_1b_S6_data_access_DS</a>** notebook."
   ]
  },
  {
   "cell_type": "code",
   "execution_count": 21,
   "metadata": {},
   "outputs": [
    {
     "name": "stdout",
     "output_type": "stream",
     "text": [
      "This token 'b31d6885-8e62-356b-9c4f-abe2d7f67637' expires 2024-05-06 16:03:50.955313\n"
     ]
    }
   ],
   "source": [
    "# load credentials\n",
    "file_credentials = True\n",
    "\n",
    "if file_credentials == True:\n",
    "    credentials_file = os.path.join(os.path.expanduser(\"~\"),'.eumdac','credentials')\n",
    "    credentials = Path(credentials_file).read_text().split(',')\n",
    "    token = eumdac.AccessToken((credentials[0], credentials[1]))\n",
    "    print(f\"This token '{token}' expires {token.expiration}\")\n",
    "else:\n",
    "    # see below for more information\n",
    "    token = eumdac.AccessToken((\"consumer_key\", \"consumer_secret\"))"
   ]
  },
  {
   "cell_type": "code",
   "execution_count": 22,
   "metadata": {},
   "outputs": [],
   "source": [
    "datastore = eumdac.DataStore(token)"
   ]
  },
  {
   "cell_type": "markdown",
   "metadata": {},
   "source": [
    "We will take the Level 2 high resolution data for the whole availability of these data from Sentinel-6, whether the data are reprocessed or operational.\n",
    "Now, we have several version of the Level-2 reprocessed data in the catalogue. Except for very specific studies, you should take the latest version - it should be the one homogeneous with the operational version."
   ]
  },
  {
   "cell_type": "code",
   "execution_count": 43,
   "metadata": {},
   "outputs": [
    {
     "name": "stdout",
     "output_type": "stream",
     "text": [
      "['EO:EUM:DAT:0855', 'EO:EUM:DAT:0841']\n"
     ]
    }
   ],
   "source": [
    "#list the relevant Sentinel-6 collection IDs and store them in a list to access them.\n",
    "version_number = 6\n",
    "list_colIDs = []\n",
    "for collection_id in datastore.collections:\n",
    "    if (\"Poseidon-4 Altimetry Level 2 High Resolution\" in collection_id.title):\n",
    "        if (\"baseline version\" in collection_id.title):\n",
    "            if version_number < int(collection_id.title[64:66]):\n",
    "                version_number = int(collection_id.title[64:66])\n",
    "                list_colIDs.append(str(collection_id))\n",
    "        else:\n",
    "            list_colIDs.append(str(collection_id))\n",
    "            if \"non-public\" in collection_id.abstract: continue\n",
    "#print(f\"Collection ID({collection_id}): {collection_id.title}\")\n",
    "print(list_colIDs)"
   ]
  },
  {
   "cell_type": "markdown",
   "metadata": {},
   "source": [
    "<div class=\"alert alert-info\" role=\"alert\">\n",
    "\n",
    "## <a id='section2'></a>Step 2: Creating a search for products\n",
    "[Back to top](#TOC_TOP)\n",
    "\n",
    "</div>"
   ]
  },
  {
   "cell_type": "code",
   "execution_count": 58,
   "metadata": {},
   "outputs": [
    {
     "name": "stdout",
     "output_type": "stream",
     "text": [
      "S6A_P4_2__HR______20240306T081946_20240306T091559_20240506T134323_3373_122_126_063_EUM__OPE_NT_F09.SEN6\n",
      "S6A_P4_2__HR______20240225T102114_20240225T111727_20240321T065033_3373_121_126_063_EUM__OPE_NT_F08.SEN6\n",
      "S6A_P4_2__HR______20240215T122243_20240215T131856_20240309T185641_3373_120_126_063_EUM__OPE_NT_F08.SEN6\n",
      "S6A_P4_2__HR______20240205T142412_20240205T152025_20240301T051255_3373_119_126_063_EUM__OPE_NT_F08.SEN6\n",
      "S6A_P4_2__HR______20240126T172153_20240126T181806_20240221T023004_3373_118_127_063_EUM__OPE_NT_F08.SEN6\n",
      "S6A_P4_2__HR______20240116T182709_20240116T192322_20240209T093929_3373_117_126_063_EUM__OPE_NT_F08.SEN6\n",
      "S6A_P4_2__HR______20240106T212450_20240106T222103_20240131T012841_3373_116_127_063_EUM__OPE_NT_F08.SEN6\n",
      "S6A_P4_2__HR______20231227T223006_20231227T232619_20240120T212113_3373_115_126_063_EUM__OPE_NT_F08.SEN6\n",
      "S6A_P4_2__HR______20231218T012746_20231218T022359_20240111T035054_3373_114_127_063_EUM__OPE_NT_F08.SEN6\n",
      "S6A_P4_2__HR______20231218T003134_20231218T012746_20240111T034707_3372_114_126_063_EUM__OPE_NT_F08.SEN6\n",
      "S6A_P4_2__HR______20231208T032914_20231208T042527_20231230T200819_3373_113_127_063_EUM__OPE_NT_F08.SEN6\n",
      "S6A_P4_2__HR______20231128T043429_20231128T053042_20231222T020057_3373_112_126_063_EUM__OPE_NT_F08.SEN6\n",
      "S6A_P4_2__HR______20231118T073211_20231118T082824_20231213T001654_3373_111_127_063_EUM__OPE_NT_F08.SEN6\n",
      "S6A_P4_2__HR______20231108T093340_20231108T102953_20231202T093136_3373_110_127_063_EUM__OPE_NT_F08.SEN6\n",
      "S6A_P4_2__HR______20231029T113509_20231029T123122_20231123T104858_3373_109_127_063_EUM__OPE_NT_F08.SEN6\n",
      "S6A_P4_2__HR______20231029T103857_20231029T113509_20231123T102042_3372_109_126_063_EUM__OPE_NT_F08.SEN6\n",
      "S6A_P4_2__HR______20231009T153806_20231009T163419_20231108T004937_3373_107_127_063_EUM__OPE_NT_F08.SEN6\n",
      "S6A_P4_2__HR______20231009T144154_20231009T153806_20231108T004133_3372_107_126_063_EUM__OPE_NT_F08.SEN6\n",
      "S6A_P4_2__HR______20230929T164322_20230929T173935_20231025T013146_3373_106_126_063_EUM__OPE_NT_F08.SEN6\n",
      "S6A_P4_2__HR______20230909T214231_20230909T223844_20231004T122802_3373_104_127_063_EUM__OPE_NT_F08.SEN6\n",
      "S6A_P4_2__HR______20230830T234359_20230831T004012_20230924T102629_3373_103_127_063_EUM__OPE_NT_F08.SEN6\n",
      "S6A_P4_2__HR______20230830T224747_20230830T234359_20230924T102017_3372_103_126_063_EUM__OPE_NT_F08.SEN6\n",
      "S6A_P4_2__HR______20230821T014527_20230821T024140_20230916T042640_3373_102_127_063_EUM__OPE_NT_F08.SEN6\n",
      "S6A_P4_2__HR______20230801T045210_20230801T054823_20230824T233701_3373_100_126_063_EUM__OPE_NT_F08.SEN6\n",
      "S6A_P4_2__HR______20230722T065339_20230722T074952_20230816T004922_3373_099_126_063_EUM__OPE_NT_F08.SEN6\n",
      "S6A_P4_2__HR______20230712T085508_20230712T095121_20230805T063632_3373_098_126_063_EUM__OPE_NT_F08.SEN6\n",
      "S6A_P4_2__HR______20230702T115249_20230702T124902_20230728T051631_3373_097_127_063_EUM__OPE_NT_F08.SEN6\n",
      "S6A_P4_2__HR______20230622T125805_20230622T135418_20230717T112420_3373_096_126_063_EUM__OPE_NT_F08.SEN6\n",
      "S6A_P4_2__HR______20230612T145933_20230612T155546_20230706T030933_3373_095_126_063_EUM__OPE_NT_F08.SEN6\n",
      "S6A_P4_2__HR______20230602T175713_20230602T185326_20230628T071133_3373_094_127_063_EUM__OPE_NT_F08.SEN6\n",
      "S6A_P4_2__HR______20230602T170101_20230602T175713_20230628T065806_3372_094_126_063_EUM__OPE_NT_F08.SEN6\n",
      "S6A_P4_2__HR______20230523T190229_20230523T195842_20230618T071038_3373_093_126_063_EUM__OPE_NT_F08.SEN6\n",
      "S6A_P4_2__HR______20230504T000140_20230504T005753_20230527T222543_3373_091_127_063_EUM__OPE_NT_F08.SEN6\n",
      "S6A_P4_2__HR______20230424T020309_20230424T025922_20230518T132911_3373_090_127_063_EUM__OPE_NT_F08.SEN6\n",
      "S6A_P4_2__HR______20230414T030825_20230414T040438_20230508T142839_3373_089_126_063_EUM__OPE_NT_F08.SEN6\n",
      "S6A_P4_2__HR______20230404T060606_20230404T070219_20230429T053744_3373_088_127_063_EUM__OPE_NT_F08.SEN6\n",
      "S6A_P4_2__HR______20230315T100903_20230315T110516_20230408T050214_3373_086_127_063_EUM__OPE_NT_F08.SEN6\n",
      "S6A_P4_2__HR______20230315T091251_20230315T100903_20230408T040136_3372_086_126_063_EUM__OPE_NT_F08.SEN6\n",
      "S6A_P4_2__HR______20230305T111419_20230305T121032_20230401T031431_3373_085_126_063_EUM__OPE_NT_F08.SEN6\n",
      "S6A_P4_2__HR______20230223T131547_20230223T141200_20230319T143342_3373_084_126_063_EUM__OPE_NT_F08.SEN6\n",
      "S6A_P4_2__HR______20230213T161327_20230213T170940_20230311T055600_3373_083_127_063_EUM__OPE_NT_F08.SEN6\n",
      "S6A_P4_2__HR______20230213T151715_20230213T161327_20230311T055124_3372_083_126_063_EUM__OPE_NT_F08.SEN6\n",
      "S6A_P4_2__HR______20230124T192010_20230124T201623_20230326T174913_3373_081_126_063_EUM__REP_NT_F08.SEN6\n",
      "S6A_P4_2__HR______20230114T212138_20230114T221751_20230328T054203_3373_080_126_063_EUM__REP_NT_F08.SEN6\n",
      "S6A_P4_2__HR______20230104T232308_20230105T001921_20230326T133432_3373_079_126_063_EUM__REP_NT_F08.SEN6\n",
      "S6A_P4_2__HR______20221226T012437_20221226T022050_20230326T093457_3373_078_126_063_EUM__REP_NT_F08.SEN6\n",
      "S6A_P4_2__HR______20221126T082516_20221126T092129_20230325T233525_3373_075_127_063_EUM__REP_NT_F08.SEN6\n",
      "S6A_P4_2__HR______20221116T102644_20221116T112257_20230325T191256_3373_074_127_063_EUM__REP_NT_F08.SEN6\n",
      "S6A_P4_2__HR______20221106T113159_20221106T122812_20230325T134809_3373_073_126_063_EUM__REP_NT_F08.SEN6\n",
      "S6A_P4_2__HR______20221027T142939_20221027T152552_20230325T152937_3373_072_127_063_EUM__REP_NT_F08.SEN6\n",
      "S6A_P4_2__HR______20221027T133327_20221027T142939_20230325T090517_3372_072_126_063_EUM__REP_NT_F08.SEN6\n",
      "S6A_P4_2__HR______20221017T153454_20221017T163107_20230325T075656_3373_071_126_063_EUM__REP_NT_F08.SEN6\n",
      "S6A_P4_2__HR______20221007T183235_20221007T192848_20230328T180347_3373_070_127_063_EUM__REP_NT_F08.SEN6\n",
      "S6A_P4_2__HR______20220927T203404_20220927T213017_20230324T175312_3373_069_127_063_EUM__REP_NT_F08.SEN6\n",
      "S6A_P4_2__HR______20220907T234049_20220908T003702_20230403T185510_3373_067_126_063_EUM__REP_NT_F08.SEN6\n",
      "S6A_P4_2__HR______20220829T023830_20220829T033443_20230324T041359_3373_066_127_063_EUM__REP_NT_F08.SEN6\n",
      "S6A_P4_2__HR______20220829T014218_20220829T023830_20230324T053643_3372_066_126_063_EUM__REP_NT_F08.SEN6\n",
      "S6A_P4_2__HR______20220819T034346_20220819T043959_20230324T003019_3373_065_126_063_EUM__REP_NT_F08.SEN6\n",
      "S6A_P4_2__HR______20220809T064127_20220809T073740_20230323T205053_3373_064_127_063_EUM__REP_NT_F08.SEN6\n",
      "S6A_P4_2__HR______20220730T074643_20220730T084256_20230323T140236_3373_063_126_063_EUM__REP_NT_F08.SEN6\n",
      "S6A_P4_2__HR______20220710T124552_20220710T134205_20230323T040152_3373_061_127_063_EUM__REP_NT_F08.SEN6\n",
      "S6A_P4_2__HR______20220630T135107_20220630T144720_20230322T192915_3373_060_126_063_EUM__REP_NT_F08.SEN6\n",
      "S6A_P4_2__HR______20220620T155235_20220620T164848_20230323T000543_3373_059_126_063_EUM__REP_NT_F08.SEN6\n",
      "S6A_P4_2__HR______20220610T175404_20220610T185017_20230322T121631_3373_058_126_063_EUM__REP_NT_F08.SEN6\n",
      "S6A_P4_2__HR______20220531T195533_20220531T205146_20230322T045951_3373_057_126_063_EUM__REP_NT_F08.SEN6\n",
      "S6A_P4_2__HR______20220521T215702_20220521T225315_20230322T053758_3373_056_126_063_EUM__REP_NT_F08.SEN6\n",
      "S6A_P4_2__HR______20220512T005443_20220512T015056_20230321T210846_3373_055_127_063_EUM__REP_NT_F08.SEN6\n",
      "S6A_P4_2__HR______20220502T015959_20220502T025612_20230321T182355_3373_054_126_063_EUM__REP_NT_F08.SEN6\n",
      "S6A_P4_2__HR______20220422T045740_20220422T055353_20230320T042211_3373_053_127_063_EUM__REP_NT_F08.SEN6\n",
      "S6A_P4_2__HR______20220412T060256_20220412T065909_20230320T071848_3373_052_126_063_EUM__REP_NT_F08.SEN6\n",
      "S6A_P4_2__HR______20220402T080424_20220402T090037_20230310T230041_3373_051_126_063_EUM__REP_NT_F08.SEN6\n",
      "S6A_P4_2__HR______20220323T110205_20220323T115818_20230310T221215_3373_050_127_063_EUM__REP_NT_F08.SEN6\n",
      "S6A_P4_2__HR______20220313T130333_20220313T135946_20230310T190351_3373_049_127_063_EUM__REP_NT_F08.SEN6\n",
      "S6A_P4_2__HR______20220303T140849_20220303T150502_20230310T165714_3373_048_126_063_EUM__REP_NT_F08.SEN6\n",
      "S6A_P4_2__HR______20220221T161018_20220221T170631_20230310T064407_3373_047_126_063_EUM__REP_NT_F08.SEN6\n",
      "S6A_P4_2__HR______20220211T181147_20220211T190800_20230310T075243_3373_046_126_063_EUM__REP_NT_F08.SEN6\n",
      "S6A_P4_2__HR______20220201T201316_20220201T210929_20230309T224632_3373_045_126_063_EUM__REP_NT_F08.SEN6\n",
      "S6A_P4_2__HR______20220122T221445_20220122T231058_20230309T203616_3373_044_126_063_EUM__REP_NT_F08.SEN6\n",
      "S6A_P4_2__HR______20220113T011226_20220113T020839_20230309T161547_3373_043_127_063_EUM__REP_NT_F08.SEN6\n",
      "S6A_P4_2__HR______20220103T021742_20220103T031355_20230309T120446_3373_042_126_063_EUM__REP_NT_F08.SEN6\n",
      "S6A_P4_2__HR______20211204T091819_20211204T101432_20230309T010352_3373_039_127_063_EUM__REP_NT_F08.SEN6\n",
      "S6A_P4_2__HR______20211124T111947_20211124T121600_20230308T214504_3373_038_127_063_EUM__REP_NT_F08.SEN6\n",
      "S6A_P4_2__HR______20211104T152244_20211104T161857_20230308T144130_3373_036_127_063_EUM__REP_NT_F08.SEN6\n",
      "S6A_P4_2__HR______20211104T142632_20211104T152244_20230308T114717_3372_036_126_063_EUM__REP_NT_F08.SEN6\n",
      "S6A_P4_2__HR______20211025T172413_20211025T182026_20230308T075611_3373_035_127_063_EUM__REP_NT_F08.SEN6\n",
      "S6A_P4_2__HR______20211015T182929_20211015T192542_20230308T044602_3373_034_126_063_EUM__REP_NT_F08.SEN6\n",
      "S6A_P4_2__HR______20211005T212710_20211005T222323_20230307T222452_3373_033_127_063_EUM__REP_NT_F08.SEN6\n",
      "S6A_P4_2__HR______20211005T203058_20211005T212710_20230308T014244_3372_033_126_063_EUM__REP_NT_F08.SEN6\n",
      "S6A_P4_2__HR______20210925T232839_20210926T002452_20230307T185338_3373_032_127_063_EUM__REP_NT_F08.SEN6\n",
      "S6A_P4_2__HR______20210916T013007_20210916T022620_20230420T043138_3373_031_127_063_EUM__REP_NT_F08.SEN6\n",
      "S6A_P4_2__HR______20210916T003509_20210916T013007_20230420T074557_3298_031_126_063_EUM__REP_NT_F08.SEN6\n",
      "S6A_P4_2__HR______20210906T023637_20210906T033136_20230420T002640_3299_030_126_063_EUM__REP_NT_F08.SEN6\n",
      "S6A_P4_2__HR______20210827T043805_20210827T053304_20230419T200836_3299_029_126_063_EUM__REP_NT_F08.SEN6\n",
      "S6A_P4_2__HR______20210817T073432_20210817T083045_20230419T231451_3373_028_127_063_EUM__REP_NT_F08.SEN6\n",
      "S6A_P4_2__HR______20210807T093601_20210807T103214_20230419T122613_3373_027_127_063_EUM__REP_NT_F08.SEN6\n",
      "S6A_P4_2__HR______20210807T084102_20210807T093601_20230419T115042_3299_027_126_063_EUM__REP_NT_F08.SEN6\n",
      "S6A_P4_2__HR______20210728T113730_20210728T123343_20230419T083059_3373_026_127_063_EUM__REP_NT_F08.SEN6\n",
      "S6A_P4_2__HR______20210728T104231_20210728T113730_20230419T090514_3299_026_126_063_EUM__REP_NT_F08.SEN6\n",
      "S6A_P4_2__HR______20210718T133859_20210718T143509_20230419T055013_3370_025_127_063_EUM__REP_NT_F08.SEN6\n",
      "S6A_P4_2__HR______20210718T124400_20210718T133859_20230419T044039_3299_025_126_063_EUM__REP_NT_F08.SEN6\n",
      "S6A_P4_2__HR______20210708T144529_20210708T154028_20230419T062706_3299_024_126_063_EUM__REP_NT_F08.SEN6\n",
      "S6A_P4_2__HR______20210628T174156_20210628T183809_20230418T224352_3373_023_127_063_EUM__REP_NT_F08.SEN6\n",
      "S6A_P4_2__HR______20210628T164657_20210628T174156_20230418T222834_3299_023_126_063_EUM__REP_NT_F08.SEN6\n",
      "S6A_P4_2__HR______20210618T194324_20210618T203937_20230418T190513_3373_022_127_063_EUM__REP_NT_F08.SEN6\n",
      "S6A_P4_2__HR______20210618T184712_20210618T194324_20230419T004500_3372_022_126_063_EUM__REP_NT_F08.SEN6\n",
      "S6A_P4_2__HR______20210608T204954_20210608T214453_20230418T135937_3299_021_126_063_EUM__REP_NT_F08.SEN6\n",
      "S6A_P4_2__HR______20210529T234621_20210530T004234_20230418T140533_3373_020_127_063_EUM__REP_NT_F08.SEN6\n",
      "S6A_P4_2__HR______20210529T225122_20210529T234621_20230418T151521_3299_020_126_063_EUM__REP_NT_F08.SEN6\n",
      "S6A_P4_2__HR______20210520T014749_20210520T024402_20230418T134128_3373_019_127_063_EUM__REP_NT_F08.SEN6\n",
      "S6A_P4_2__HR______20210520T005250_20210520T014749_20230418T060139_3299_019_126_063_EUM__REP_NT_F08.SEN6\n",
      "S6A_P4_2__HR______20210510T034917_20210510T044530_20230418T033854_3373_018_127_063_EUM__REP_NT_F08.SEN6\n",
      "S6A_P4_2__HR______20210510T025418_20210510T034917_20230418T051108_3299_018_126_063_EUM__REP_NT_F08.SEN6\n",
      "S6A_P4_2__HR______20210430T045548_20210430T055047_20230418T031207_3299_017_126_063_EUM__REP_NT_F08.SEN6\n",
      "S6A_P4_2__HR______20210420T065715_20210420T075214_20230417T195132_3299_016_126_063_EUM__REP_NT_F08.SEN6\n",
      "S6A_P4_2__HR______20210410T085844_20210410T095343_20230417T165649_3299_015_126_063_EUM__REP_NT_F08.SEN6\n",
      "S6A_P4_2__HR______20210331T115511_20210331T125124_20230417T185039_3373_014_127_063_EUM__REP_NT_F08.SEN6\n",
      "S6A_P4_2__HR______20210331T105859_20210331T115511_20230404T111834_3372_014_126_063_EUM__REP_NT_F08.SEN6\n",
      "S6A_P4_2__HR______20210321T130141_20210321T135640_20230404T074851_3299_013_126_063_EUM__REP_NT_F08.SEN6\n",
      "S6A_P4_2__HR______20210311T155808_20210311T164624_20230404T062721_2896_012_127_063_EUM__REP_NT_F08.SEN6\n",
      "S6A_P4_2__HR______20210311T150309_20210311T155808_20230404T061722_3299_012_126_063_EUM__REP_NT_F08.SEN6\n",
      "S6A_P4_2__HR______20210301T175936_20210301T184834_20230404T015537_2938_011_127_063_EUM__REP_NT_F08.SEN6\n",
      "S6A_P4_2__HR______20210301T170437_20210301T175936_20230404T014440_3299_011_126_063_EUM__REP_NT_F08.SEN6\n",
      "S6A_P4_2__HR______20210219T190606_20210219T200105_20230403T233411_3299_010_126_063_EUM__REP_NT_F08.SEN6\n",
      "S6A_P4_2__HR______20210209T210735_20210209T220234_20230403T194040_3299_009_126_063_EUM__REP_NT_F08.SEN6\n",
      "S6A_P4_2__HR______20210121T020531_20210121T030144_20230518T150549_3373_007_127_063_EUM__REP_NT_F08.SEN6\n",
      "S6A_P4_2__HR______20210111T031047_20210111T040700_20230518T082832_3373_006_126_063_EUM__REP_NT_F08.SEN6\n",
      "S6A_P4_2__HR______20210101T060828_20210101T070441_20230518T025047_3373_005_127_063_EUM__REP_NT_F08.SEN6\n",
      "S6A_P4_2__HR______20201222T080956_20201222T090609_20230522T124837_3373_004_127_063_EUM__REP_NT_F08.SEN6\n"
     ]
    }
   ],
   "source": [
    "# set collection ID for S6 Poseidon-4 L2 high resolution products\n",
    "#collectionID = 'EO:EUM:DAT:0842'\n",
    "relorbit = '63'\n",
    "direction = 'DESCENDING'\n",
    "timeliness = 'NT'\n",
    "for collectionID in list_colIDs:\n",
    "    selected_collection = datastore.get_collection(collectionID)\n",
    "    products = selected_collection.search(\n",
    "        relorbit=relorbit,\n",
    "        orbitdir=direction,\n",
    "        timeliness=timeliness)\n",
    "    \n",
    "    for product in products:\n",
    "        print(product)"
   ]
  },
  {
   "cell_type": "markdown",
   "metadata": {},
   "source": [
    "take:\n",
    "- only the reprocessed for a given date (i.e. all the reprocessed, then only begin taking the operational)\n",
    "- the NT, then the ST when there's no more NT ??"
   ]
  },
  {
   "cell_type": "markdown",
   "metadata": {},
   "source": [
    "<div class=\"alert alert-info\" role=\"alert\">\n",
    "\n",
    "## <a id='section3'></a>Step 3: Downloading the products\n",
    "[Back to top](#TOC_TOP)\n",
    "\n",
    "</div>"
   ]
  },
  {
   "cell_type": "markdown",
   "metadata": {},
   "source": [
    "We have narrowed our search to a the required cycle and can now download them using the code below. This will write them into our specified directory and unzip them.\n",
    "\n",
    "*Note that here we are not using the ROI filtered list from the previous code cell.*"
   ]
  },
  {
   "cell_type": "markdown",
   "metadata": {},
   "source": [
    "<hr>\n",
    "<a href=\"../Index.ipynb\" target=\"_blank\"><< Index</a>\n",
    "<br>\n",
    "<a href=\"./2_4_iono_corr_solarstorms.ipiynb\" target=\"_blank\"><< Ionospheric correction solar storms</a>\n",
    "<hr>\n",
    "<a href=\"https://gitlab.eumetsat.int/eumetlab/ocean\">View on GitLab</a> | <a href=\"https://training.eumetsat.int/\">EUMETSAT Training</a> | <a href=mailto:ops@eumetsat.int>Contact helpdesk for support </a> | <a href=mailto:training@eumetsat.int>Contact our training team to collaborate on and reuse this material</a></span></p>"
   ]
  }
 ],
 "metadata": {
  "author": "Ben Loveday, Hayley Evers-King, Vinca Rosmorduc",
  "content_type": "Software & code",
  "data_access": [
   "Data Store",
   "WEkEO"
  ],
  "deployment": {
   "eumetsat": {
    "binder": {
     "link": "https://mybinder.org/v2/git/https%3A%2F%2Fgitlab.eumetsat.int%2Feumetlab%2Foceans%2Focean-training%2Fsensors%2Flearn-s6/HEAD?labpath=2_S6_advanced%2F2_5_acquire_S6_available_cycles.ipynb",
     "service_contact": "ops@eumetsat.int",
     "service_provider": "EUMETSAT"
    },
    "git": {
     "link": "https://gitlab.eumetsat.int/eumetlab/oceans/ocean-training/sensors/learn-s6/-/blob/main/2_S6_advanced/2_5_acquire_S6_available_cycles.ipynb",
     "service_contact": "ops@eumetsat.int",
     "service_provider": "EUMETSAT"
    }
   },
   "wekeo": {
    "git": {
     "link": " ",
     "service_contact": "ops@eumetsat.int",
     "service_provider": "EUMETSAT"
    },
    "url": {
     "link": " ",
     "service_contact": "ops@eumetsat.int",
     "service_provider": "EUMETSAT"
    }
   }
  },
  "description": "This Jupyter Notebook shows how to acquire a Sentinel-6 Poseidon-4 Radar Altimeter track over all cycles via the EUMETSAT Data Store.",
  "image": "../img/thumbs/2_5_acquire_S6_available_cycles_thumb.png",
  "kernelspec": {
   "display_name": "Python 3 (ipykernel)",
   "language": "python",
   "name": "python3"
  },
  "language_info": {
   "codemirror_mode": {
    "name": "ipython",
    "version": 3
   },
   "file_extension": ".py",
   "mimetype": "text/x-python",
   "name": "python",
   "nbconvert_exporter": "python",
   "pygments_lexer": "ipython3",
   "version": "3.10.15"
  },
  "license": "MIT",
  "metadata_schema_version": "2.0.0",
  "originator": "EUMETSAT",
  "tags": {
   "data_provider": "EUMETSAT",
   "orbit": "",
   "satellite": "Sentinel-6",
   "sensor": "Poseidon-4 (Sentinel-6)",
   "service": "Altimetry",
   "subtheme": [
    "Maritime safety",
    "Climate system monitoring - Ocean",
    "Ocean dynamics"
   ],
   "theme": "Marine",
   "variable": [
    "Sea surface height",
    "Significant wave height",
    "Wind speed",
    "Altimetry waveforms"
   ]
  },
  "title": "Accessing a Poseidon-4 data over all available cycles.",
  "version": "2.0.0",
  "version_date": "2024-07-01"
 },
 "nbformat": 4,
 "nbformat_minor": 4
}
