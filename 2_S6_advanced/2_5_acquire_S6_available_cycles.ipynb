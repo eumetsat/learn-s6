{
 "cells": [
  {
   "cell_type": "markdown",
   "metadata": {
    "editable": true,
    "slideshow": {
     "slide_type": ""
    },
    "tags": []
   },
   "source": [
    "<img src='https://gitlab.eumetsat.int/eumetlab/oceans/ocean-training/tools/frameworks/-/raw/main/img/Standard_banner.png' align='right' width='100%'/>"
   ]
  },
  {
   "cell_type": "markdown",
   "metadata": {},
   "source": [
    "<a href=\"../Index.ipynb\" target=\"_blank\"><< Index</a>\n",
    "<br>\n",
    "<a href=\"./2_4_iono_corr_solarstorms.ipiynb\" target=\"_blank\"><< Ionospheric correction solar storms</a>"
   ]
  },
  {
   "cell_type": "markdown",
   "metadata": {},
   "source": [
    "<font color=\"#138D75\">**Copernicus Marine Training Service**</font> <br>\n",
    "**Copyright:** 2024 European Union <br>\n",
    "**License:** MIT <br>\n",
    "**Authors:** Ben Loveday (EUMETSAT/Innoflair UG), Hayley Evers-King (EUMETSAT), Vinca Rosmorduc (CLS)"
   ]
  },
  {
   "cell_type": "markdown",
   "metadata": {},
   "source": [
    "<html>\n",
    "   <div style=\"float:left\"><p>&emsp;</p></div>\n",
    "   <div style=\"float:left\"><a href=\"https://gitlab.eumetsat.int/eumetlab/oceans/ocean-training/sensors/learn-s6\"><img src=\"https://img.shields.io/badge/open-EUMETLAB-E67E22.svg\"></a></div>\n",
    "   <div style=\"float:left\"><p>&emsp;</p></div>\n",
    "   <div style=\"float:left\"><a href=\"https://user.eumetsat.int/data/themes/marine\"><img src=\"https://img.shields.io/badge/open-USER PORTAL-154360.svg\"></a></div>\n",
    "   <div style=\"float:left\"><p>&emsp;</p></div>\n",
    "   <div style=\"float:left\"><a href=\"https://mybinder.org/v2/git/https%3A%2F%2Fgitlab.eumetsat.int%2Feumetlab%2Foceans%2Focean-training%2Fsensors%2Flearn-s6/HEAD?labpath=2_S6_advanced%2F2_5_acquire_S6_available_cycles.ipynb\"><img src=\"https://mybinder.org/badge_logo.svg\"></a></div>\n",
    "   <div style=\"float:left\"><p>&emsp;</p></div>\n",
    "   <div style=\"float:left\"><a href=\"https://jupyterhub.prod.wekeo2.eu/hub/user-redirect/lab/tree/public/wekeo4oceans/learn-s6/2_S6_advanced/2_5_acquire_S6_available_cycles.ipynb\"><img src=\"https://img.shields.io/badge/launch-WEKEO-1a4696.svg\"></a></div>\n",
    "   <div style=\"float:left\"><p>&emsp;</p></div>\n",
    "   <div style=\"float:left\"><a href=\"https://code.insula.destine.eu/hub/\"><img src=\"https://img.shields.io/badge/launch-DestinE-f43fd3.svg\"></a></div></div>\n",
    "</html>"
   ]
  },
  {
   "cell_type": "markdown",
   "metadata": {
    "editable": true,
    "slideshow": {
     "slide_type": ""
    },
    "tags": []
   },
   "source": [
    "<div class=\"alert alert-block alert-success\">\n",
    "<h3>Learn Sentinel-6: Advanced</h3></div>"
   ]
  },
  {
   "cell_type": "markdown",
   "metadata": {},
   "source": [
    "<div class=\"alert alert-block alert-warning\">\n",
    "    \n",
    "<b>PREREQUISITES </b>\n",
    "    \n",
    "This notebook has the following prerequisites:\n",
    "- **<a href=\"https://eoportal.eumetsat.int/\" target=\"_blank\">A EUMETSAT Earth Observation Portal account</a>** to use the EUMETSAT Data Store\n",
    "    \n",
    "There are no prerequisite notebooks for this module.\n",
    "</div>\n",
    "<hr>"
   ]
  },
  {
   "cell_type": "markdown",
   "metadata": {},
   "source": [
    "# 2.5 Acquiring a Sentinel-6 track over all available cycles\n",
    "\n",
    "### Data used\n",
    "\n",
    "| Dataset | EUMETSAT collection ID| EUMETSAT collection<br>description | WEkEO dataset ID | WEkEO description |\n",
    "|:--------------------:|:-----------------------:|:-------------:|:-----------------:|:--------:|\n",
    "| Sentinel-6 Poseidon-4 Altimetry level 2 High Resolution  | EO:EUM:DAT:0855 | <a href=\"https://user.eumetsat.int/catalogue/EO:EUM:DAT:0855\" target=\"_blank\">Description</a> | EO:EUM:DAT:0855| <a href=\"https://www.wekeo.eu/data?view=dataset&dataset=EO%3AEUM%3ADAT%3A0855\" target=\"_blank\">Description</a> |\n",
    "| Sentinel-6 Poseidon-4 Altimetry level 2 High Resolution (baseline version F08; reprocessed)  | EO:EUM:DAT:0841 | <a href=\"https://user.eumetsat.int/catalogue/EO:EUM:DAT:0841\" target=\"_blank\">Description</a> | EO:EUM:DAT:SENTINEL-6:0841| <a href=\"https://www.wekeo.eu/data?view=dataset&dataset=EO%3AEUM%3ADAT%3ASENTINEL-6%3A0841\" target=\"_blank\">Description</a> |\n",
    "\n",
    "\n",
    "### Learning outcomes\n",
    "\n",
    "At the end of this notebook you will know;\n",
    "* <font color=\"#138D75\">**Search**</font> for a time series of L2 Sentinel-6 data for a given cycle number using the EUMETSAT Data Store API client (`eumdac`)\n",
    "* <font color=\"#138D75\">**Download**</font> this time series\n",
    "\n",
    "### Outline\n",
    "\n",
    "The EUMETSAT Data Store offers many ways to interact with data in order to refine searches. Many of these methods are supported by the EUMETSAT Data Access Client (`eumdac`). In this notebook we will showcase some of the possibilities for using `eumdac` to better interact with Sentinel-6 collections.\n",
    "\n",
    "<div class=\"alert alert-info\" role=\"alert\">\n",
    "\n",
    "## <a id='TOC_TOP'></a>Contents\n",
    "\n",
    "</div>\n",
    "    \n",
    "1. [Step 1: Authenticating the API](#section1)\n",
    "1. [Step 2: Creating a search for products](#section2)\n",
    "1. [Step 3: Downloading the data](#section4)\n",
    "\n",
    "<hr>"
   ]
  },
  {
   "cell_type": "markdown",
   "metadata": {},
   "source": [
    "We begin by importing all of the libraries that we need to run this notebook. If you have built your python using the environment file provided in this repository, then you should have everything you need. For more information on building environment, please see the repository **<a href=\"../README.md\" target=\"_blank\">README</a>**."
   ]
  },
  {
   "cell_type": "code",
   "execution_count": 1,
   "metadata": {},
   "outputs": [],
   "source": [
    "import os                              # a library that allows us access to basic operating system commands\n",
    "import glob                            # a library that helps us search for files\n",
    "import json                            # a library that helps us make JSON format files\n",
    "import eumdac                          # a tool that helps us download via the eumetsat/data-store\n",
    "import datetime                        # a library that allows us to work with dates and times\n",
    "import shutil                          # a library that allows us access to basic operating system commands like copy\n",
    "import zipfile                         # a library that support zipping/unzipping files\n",
    "import xarray                          # a library that helps us work efficiently with multi-dimensional arrays\n",
    "import matplotlib                      # a library the provides plotting capability\n",
    "import matplotlib.pyplot as plt        # a library the provides plotting capability\n",
    "import cartopy                         # a library that supports mapping and projection\n",
    "import cartopy.crs as ccrs             # a library that supports mapping and projection\n",
    "import numpy as np                     # a library that lets us work with arrays; we import this with a new name \"np\"\n",
    "from pathlib import Path               # a library that helps construct system path objects\n",
    "\n",
    "# Create a download directory for our Sentinel-6 products\n",
    "#download_dir = os.path.join(os.getcwd(), \"products\")\n",
    "download_dir = \"products/\"\n",
    "os.makedirs(download_dir, exist_ok=True)"
   ]
  },
  {
   "cell_type": "markdown",
   "metadata": {},
   "source": [
    "<div class=\"alert alert-info\" role=\"alert\">\n",
    "\n",
    "## <a id='section1'></a>Step 1: Authenticating the API\n",
    "[Back to top](#TOC_TOP)\n",
    "\n",
    "</div>"
   ]
  },
  {
   "cell_type": "markdown",
   "metadata": {},
   "source": [
    "Before we use the Data Store to download data, we must first authenticate our access and retrieve an access token. More **essential** information on setting this up can be found in the **<a href=\"../1_S6_introductory/1_1b_S6_data_access_DS.ipynb\">1_1b_S6_data_access_DS</a>** notebook."
   ]
  },
  {
   "cell_type": "code",
   "execution_count": 2,
   "metadata": {},
   "outputs": [
    {
     "name": "stdout",
     "output_type": "stream",
     "text": [
      "This token '28f34b37-061e-3e83-820d-3bd835e5d9b7' expires 2025-02-08 09:56:45.690176\n"
     ]
    }
   ],
   "source": [
    "# load credentials\n",
    "eumdac_credentials_file = Path(Path.home() / '.eumdac' / 'credentials')\n",
    "\n",
    "if os.path.exists(eumdac_credentials_file):\n",
    "    consumer_key, consumer_secret = Path(eumdac_credentials_file).read_text().split(',')\n",
    "else:\n",
    "    # creating authentication file\n",
    "    consumer_key = input('Enter your consumer key: ')\n",
    "    consumer_secret = getpass.getpass('Enter your consumer secret: ')\n",
    "    try:\n",
    "        os.makedirs(os.path.dirname(eumdac_credentials_file), exist_ok=True)\n",
    "        with open(eumdac_credentials_file, \"w\") as f:\n",
    "            f.write(f'{consumer_key},{consumer_secret}')\n",
    "    except:\n",
    "        pass\n",
    "        \n",
    "token = eumdac.AccessToken((consumer_key, consumer_secret))\n",
    "print(f\"This token '{token}' expires {token.expiration}\")"
   ]
  },
  {
   "cell_type": "code",
   "execution_count": 3,
   "metadata": {},
   "outputs": [],
   "source": [
    "datastore = eumdac.DataStore(token)"
   ]
  },
  {
   "cell_type": "markdown",
   "metadata": {},
   "source": [
    "We will take the Level 2 high resolution data for the whole availability of these data from Sentinel-6, whether the data are reprocessed or operational.\n",
    "Now, we have several version of the Level-2 reprocessed data in the catalogue. Except for very specific studies, you should take the latest version - it should be the one homogeneous with the operational version."
   ]
  },
  {
   "cell_type": "code",
   "execution_count": 4,
   "metadata": {},
   "outputs": [
    {
     "name": "stdout",
     "output_type": "stream",
     "text": [
      "['EO:EUM:DAT:0841', 'EO:EUM:DAT:0855']\n"
     ]
    }
   ],
   "source": [
    "#list the relevant Sentinel-6 collection IDs and store them in a list to access them.\n",
    "version_number = 6\n",
    "list_colIDs = []\n",
    "for collection_id in datastore.collections:\n",
    "    if (\"Poseidon-4 Altimetry Level 2 High Resolution\" in collection_id.title):\n",
    "        if (\"baseline version\" in collection_id.title):\n",
    "            if version_number < int(collection_id.title[64:66]):\n",
    "                version_number = int(collection_id.title[64:66])\n",
    "                list_colIDs.append(str(collection_id))\n",
    "        else:\n",
    "            list_colIDs.append(str(collection_id))\n",
    "            if \"non-public\" in collection_id.abstract: continue\n",
    "#print(f\"Collection ID({collection_id}): {collection_id.title}\")\n",
    "print(list_colIDs)"
   ]
  },
  {
   "cell_type": "markdown",
   "metadata": {},
   "source": [
    "<div class=\"alert alert-info\" role=\"alert\">\n",
    "\n",
    "## <a id='section2'></a>Step 2: Creating a search for products\n",
    "[Back to top](#TOC_TOP)\n",
    "\n",
    "</div>"
   ]
  },
  {
   "cell_type": "code",
   "execution_count": 5,
   "metadata": {},
   "outputs": [
    {
     "name": "stdout",
     "output_type": "stream",
     "text": [
      "S6A_P4_2__HR______20230124T192010_20230124T201623_20230326T174913_3373_081_126_063_EUM__REP_NT_F08.SEN6\n",
      "S6A_P4_2__HR______20230114T212138_20230114T221751_20230328T054203_3373_080_126_063_EUM__REP_NT_F08.SEN6\n",
      "S6A_P4_2__HR______20230104T232308_20230105T001921_20230326T133432_3373_079_126_063_EUM__REP_NT_F08.SEN6\n",
      "S6A_P4_2__HR______20221226T012437_20221226T022050_20230326T093457_3373_078_126_063_EUM__REP_NT_F08.SEN6\n",
      "S6A_P4_2__HR______20221126T082516_20221126T092129_20230325T233525_3373_075_127_063_EUM__REP_NT_F08.SEN6\n",
      "S6A_P4_2__HR______20221116T102644_20221116T112257_20230325T191256_3373_074_127_063_EUM__REP_NT_F08.SEN6\n",
      "S6A_P4_2__HR______20221106T113159_20221106T122812_20230325T134809_3373_073_126_063_EUM__REP_NT_F08.SEN6\n",
      "S6A_P4_2__HR______20221027T142939_20221027T152552_20230325T152937_3373_072_127_063_EUM__REP_NT_F08.SEN6\n",
      "S6A_P4_2__HR______20221027T133327_20221027T142939_20230325T090517_3372_072_126_063_EUM__REP_NT_F08.SEN6\n",
      "S6A_P4_2__HR______20221017T153454_20221017T163107_20230325T075656_3373_071_126_063_EUM__REP_NT_F08.SEN6\n",
      "S6A_P4_2__HR______20221007T183235_20221007T192848_20230328T180347_3373_070_127_063_EUM__REP_NT_F08.SEN6\n",
      "S6A_P4_2__HR______20220927T203404_20220927T213017_20230324T175312_3373_069_127_063_EUM__REP_NT_F08.SEN6\n",
      "S6A_P4_2__HR______20220907T234049_20220908T003702_20230403T185510_3373_067_126_063_EUM__REP_NT_F08.SEN6\n",
      "S6A_P4_2__HR______20220829T023830_20220829T033443_20230324T041359_3373_066_127_063_EUM__REP_NT_F08.SEN6\n",
      "S6A_P4_2__HR______20220829T014218_20220829T023830_20230324T053643_3372_066_126_063_EUM__REP_NT_F08.SEN6\n",
      "S6A_P4_2__HR______20220819T034346_20220819T043959_20230324T003019_3373_065_126_063_EUM__REP_NT_F08.SEN6\n",
      "S6A_P4_2__HR______20220809T064127_20220809T073740_20230323T205053_3373_064_127_063_EUM__REP_NT_F08.SEN6\n",
      "S6A_P4_2__HR______20220730T074643_20220730T084256_20230323T140236_3373_063_126_063_EUM__REP_NT_F08.SEN6\n",
      "S6A_P4_2__HR______20220710T124552_20220710T134205_20230323T040152_3373_061_127_063_EUM__REP_NT_F08.SEN6\n",
      "S6A_P4_2__HR______20220630T135107_20220630T144720_20230322T192915_3373_060_126_063_EUM__REP_NT_F08.SEN6\n",
      "S6A_P4_2__HR______20220620T155235_20220620T164848_20230323T000543_3373_059_126_063_EUM__REP_NT_F08.SEN6\n",
      "S6A_P4_2__HR______20220610T175404_20220610T185017_20230322T121631_3373_058_126_063_EUM__REP_NT_F08.SEN6\n",
      "S6A_P4_2__HR______20220531T195533_20220531T205146_20230322T045951_3373_057_126_063_EUM__REP_NT_F08.SEN6\n",
      "S6A_P4_2__HR______20220521T215702_20220521T225315_20230322T053758_3373_056_126_063_EUM__REP_NT_F08.SEN6\n",
      "S6A_P4_2__HR______20220512T005443_20220512T015056_20230321T210846_3373_055_127_063_EUM__REP_NT_F08.SEN6\n",
      "S6A_P4_2__HR______20220502T015959_20220502T025612_20230321T182355_3373_054_126_063_EUM__REP_NT_F08.SEN6\n",
      "S6A_P4_2__HR______20220422T045740_20220422T055353_20230320T042211_3373_053_127_063_EUM__REP_NT_F08.SEN6\n",
      "S6A_P4_2__HR______20220412T060256_20220412T065909_20230320T071848_3373_052_126_063_EUM__REP_NT_F08.SEN6\n",
      "S6A_P4_2__HR______20220402T080424_20220402T090037_20230310T230041_3373_051_126_063_EUM__REP_NT_F08.SEN6\n",
      "S6A_P4_2__HR______20220323T110205_20220323T115818_20230310T221215_3373_050_127_063_EUM__REP_NT_F08.SEN6\n",
      "S6A_P4_2__HR______20220313T130333_20220313T135946_20230310T190351_3373_049_127_063_EUM__REP_NT_F08.SEN6\n",
      "S6A_P4_2__HR______20220303T140849_20220303T150502_20230310T165714_3373_048_126_063_EUM__REP_NT_F08.SEN6\n",
      "S6A_P4_2__HR______20220221T161018_20220221T170631_20230310T064407_3373_047_126_063_EUM__REP_NT_F08.SEN6\n",
      "S6A_P4_2__HR______20220211T181147_20220211T190800_20230310T075243_3373_046_126_063_EUM__REP_NT_F08.SEN6\n",
      "S6A_P4_2__HR______20220201T201316_20220201T210929_20230309T224632_3373_045_126_063_EUM__REP_NT_F08.SEN6\n",
      "S6A_P4_2__HR______20220122T221445_20220122T231058_20230309T203616_3373_044_126_063_EUM__REP_NT_F08.SEN6\n",
      "S6A_P4_2__HR______20220113T011226_20220113T020839_20230309T161547_3373_043_127_063_EUM__REP_NT_F08.SEN6\n",
      "S6A_P4_2__HR______20220103T021742_20220103T031355_20230309T120446_3373_042_126_063_EUM__REP_NT_F08.SEN6\n",
      "S6A_P4_2__HR______20211204T091819_20211204T101432_20230309T010352_3373_039_127_063_EUM__REP_NT_F08.SEN6\n",
      "S6A_P4_2__HR______20211124T111947_20211124T121600_20230308T214504_3373_038_127_063_EUM__REP_NT_F08.SEN6\n",
      "S6A_P4_2__HR______20211104T152244_20211104T161857_20230308T144130_3373_036_127_063_EUM__REP_NT_F08.SEN6\n",
      "S6A_P4_2__HR______20211104T142632_20211104T152244_20230308T114717_3372_036_126_063_EUM__REP_NT_F08.SEN6\n",
      "S6A_P4_2__HR______20211025T172413_20211025T182026_20230308T075611_3373_035_127_063_EUM__REP_NT_F08.SEN6\n",
      "S6A_P4_2__HR______20211015T182929_20211015T192542_20230308T044602_3373_034_126_063_EUM__REP_NT_F08.SEN6\n",
      "S6A_P4_2__HR______20211005T212710_20211005T222323_20230307T222452_3373_033_127_063_EUM__REP_NT_F08.SEN6\n",
      "S6A_P4_2__HR______20211005T203058_20211005T212710_20230308T014244_3372_033_126_063_EUM__REP_NT_F08.SEN6\n",
      "S6A_P4_2__HR______20210925T232839_20210926T002452_20230307T185338_3373_032_127_063_EUM__REP_NT_F08.SEN6\n",
      "S6A_P4_2__HR______20210916T013007_20210916T022620_20230420T043138_3373_031_127_063_EUM__REP_NT_F08.SEN6\n",
      "S6A_P4_2__HR______20210916T003509_20210916T013007_20230420T074557_3298_031_126_063_EUM__REP_NT_F08.SEN6\n",
      "S6A_P4_2__HR______20210906T023637_20210906T033136_20230420T002640_3299_030_126_063_EUM__REP_NT_F08.SEN6\n",
      "S6A_P4_2__HR______20210827T043805_20210827T053304_20230419T200836_3299_029_126_063_EUM__REP_NT_F08.SEN6\n",
      "S6A_P4_2__HR______20210817T073432_20210817T083045_20230419T231451_3373_028_127_063_EUM__REP_NT_F08.SEN6\n",
      "S6A_P4_2__HR______20210807T093601_20210807T103214_20230419T122613_3373_027_127_063_EUM__REP_NT_F08.SEN6\n",
      "S6A_P4_2__HR______20210807T084102_20210807T093601_20230419T115042_3299_027_126_063_EUM__REP_NT_F08.SEN6\n",
      "S6A_P4_2__HR______20210728T113730_20210728T123343_20230419T083059_3373_026_127_063_EUM__REP_NT_F08.SEN6\n",
      "S6A_P4_2__HR______20210728T104231_20210728T113730_20230419T090514_3299_026_126_063_EUM__REP_NT_F08.SEN6\n",
      "S6A_P4_2__HR______20210718T133859_20210718T143509_20230419T055013_3370_025_127_063_EUM__REP_NT_F08.SEN6\n",
      "S6A_P4_2__HR______20210718T124400_20210718T133859_20230419T044039_3299_025_126_063_EUM__REP_NT_F08.SEN6\n",
      "S6A_P4_2__HR______20210708T144529_20210708T154028_20230419T062706_3299_024_126_063_EUM__REP_NT_F08.SEN6\n",
      "S6A_P4_2__HR______20210628T174156_20210628T183809_20230418T224352_3373_023_127_063_EUM__REP_NT_F08.SEN6\n",
      "S6A_P4_2__HR______20210628T164657_20210628T174156_20230418T222834_3299_023_126_063_EUM__REP_NT_F08.SEN6\n",
      "S6A_P4_2__HR______20210618T194324_20210618T203937_20230418T190513_3373_022_127_063_EUM__REP_NT_F08.SEN6\n",
      "S6A_P4_2__HR______20210618T184712_20210618T194324_20230419T004500_3372_022_126_063_EUM__REP_NT_F08.SEN6\n",
      "S6A_P4_2__HR______20210608T204954_20210608T214453_20230418T135937_3299_021_126_063_EUM__REP_NT_F08.SEN6\n",
      "S6A_P4_2__HR______20210529T234621_20210530T004234_20230418T140533_3373_020_127_063_EUM__REP_NT_F08.SEN6\n",
      "S6A_P4_2__HR______20210529T225122_20210529T234621_20230418T151521_3299_020_126_063_EUM__REP_NT_F08.SEN6\n",
      "S6A_P4_2__HR______20210520T014749_20210520T024402_20230418T134128_3373_019_127_063_EUM__REP_NT_F08.SEN6\n",
      "S6A_P4_2__HR______20210520T005250_20210520T014749_20230418T060139_3299_019_126_063_EUM__REP_NT_F08.SEN6\n",
      "S6A_P4_2__HR______20210510T034917_20210510T044530_20230418T033854_3373_018_127_063_EUM__REP_NT_F08.SEN6\n",
      "S6A_P4_2__HR______20210510T025418_20210510T034917_20230418T051108_3299_018_126_063_EUM__REP_NT_F08.SEN6\n",
      "S6A_P4_2__HR______20210430T045548_20210430T055047_20230418T031207_3299_017_126_063_EUM__REP_NT_F08.SEN6\n",
      "S6A_P4_2__HR______20210420T065715_20210420T075214_20230417T195132_3299_016_126_063_EUM__REP_NT_F08.SEN6\n",
      "S6A_P4_2__HR______20210410T085844_20210410T095343_20230417T165649_3299_015_126_063_EUM__REP_NT_F08.SEN6\n",
      "S6A_P4_2__HR______20210331T115511_20210331T125124_20230417T185039_3373_014_127_063_EUM__REP_NT_F08.SEN6\n",
      "S6A_P4_2__HR______20210331T105859_20210331T115511_20230404T111834_3372_014_126_063_EUM__REP_NT_F08.SEN6\n",
      "S6A_P4_2__HR______20210321T130141_20210321T135640_20230404T074851_3299_013_126_063_EUM__REP_NT_F08.SEN6\n",
      "S6A_P4_2__HR______20210311T155808_20210311T164624_20230404T062721_2896_012_127_063_EUM__REP_NT_F08.SEN6\n",
      "S6A_P4_2__HR______20210311T150309_20210311T155808_20230404T061722_3299_012_126_063_EUM__REP_NT_F08.SEN6\n",
      "S6A_P4_2__HR______20210301T175936_20210301T184834_20230404T015537_2938_011_127_063_EUM__REP_NT_F08.SEN6\n",
      "S6A_P4_2__HR______20210301T170437_20210301T175936_20230404T014440_3299_011_126_063_EUM__REP_NT_F08.SEN6\n",
      "S6A_P4_2__HR______20210219T190606_20210219T200105_20230403T233411_3299_010_126_063_EUM__REP_NT_F08.SEN6\n",
      "S6A_P4_2__HR______20210209T210735_20210209T220234_20230403T194040_3299_009_126_063_EUM__REP_NT_F08.SEN6\n",
      "S6A_P4_2__HR______20210121T020531_20210121T030144_20230518T150549_3373_007_127_063_EUM__REP_NT_F08.SEN6\n",
      "S6A_P4_2__HR______20210111T031047_20210111T040700_20230518T082832_3373_006_126_063_EUM__REP_NT_F08.SEN6\n",
      "S6A_P4_2__HR______20210101T060828_20210101T070441_20230518T025047_3373_005_127_063_EUM__REP_NT_F08.SEN6\n",
      "S6A_P4_2__HR______20201222T080956_20201222T090609_20230522T124837_3373_004_127_063_EUM__REP_NT_F08.SEN6\n",
      "S6A_P4_2__HR______20250107T173408_20250107T183021_20250202T010009_3373_153_126_063_EUM__OPE_NT_F09.SEN6\n",
      "S6A_P4_2__HR______20241228T193536_20241228T203149_20250122T195607_3373_152_126_063_EUM__OPE_NT_F09.SEN6\n",
      "S6A_P4_2__HR______20241218T223316_20241218T232929_20250113T001328_3373_151_127_063_EUM__OPE_NT_F09.SEN6\n",
      "S6A_P4_2__HR______20241209T003444_20241209T013057_20250102T135553_3373_150_127_063_EUM__OPE_NT_F09.SEN6\n",
      "S6A_P4_2__HR______20241208T233832_20241209T003444_20250102T133922_3372_150_126_063_EUM__OPE_NT_F09.SEN6\n",
      "S6A_P4_2__HR______20241129T014001_20241129T023614_20241224T200951_3373_149_126_063_EUM__OPE_NT_F09.SEN6\n",
      "S6A_P4_2__HR______20241119T034130_20241119T043743_20241215T152857_3373_148_126_063_EUM__OPE_NT_F09.SEN6\n",
      "S6A_P4_2__HR______20241109T054259_20241109T063912_20241205T215548_3373_147_126_063_EUM__OPE_NT_F09.SEN6\n",
      "S6A_P4_2__HR______20241030T084040_20241030T093653_20241123T202217_3373_146_127_063_EUM__OPE_NT_F09.SEN6\n",
      "S6A_P4_2__HR______20241020T104208_20241020T113821_20241115T035100_3373_145_127_063_EUM__OPE_NT_F09.SEN6\n",
      "S6A_P4_2__HR______20241020T094556_20241020T104208_20241115T024619_3372_145_126_063_EUM__OPE_NT_F09.SEN6\n",
      "S6A_P4_2__HR______20241010T124336_20241010T133949_20241104T042339_3373_144_127_063_EUM__OPE_NT_F09.SEN6\n",
      "S6A_P4_2__HR______20240930T134851_20240930T144504_20241025T053301_3373_143_126_063_EUM__OPE_NT_F09.SEN6\n",
      "S6A_P4_2__HR______20240910T175147_20240910T184800_20241005T161006_3373_141_126_063_EUM__OPE_NT_F09.SEN6\n",
      "S6A_P4_2__HR______20240821T225058_20240821T234711_20240915T073513_3373_139_127_063_EUM__OPE_NT_F09.SEN6\n",
      "S6A_P4_2__HR______20240802T015743_20240802T025356_20240825T104718_3373_137_126_063_EUM__OPE_NT_F09.SEN6\n",
      "S6A_P4_2__HR______20240723T045524_20240723T055137_20240815T153308_3373_136_127_063_EUM__OPE_NT_F09.SEN6\n",
      "S6A_P4_2__HR______20240713T065652_20240713T075305_20240808T104416_3373_135_127_063_EUM__OPE_NT_F09.SEN6\n",
      "S6A_P4_2__HR______20240703T080208_20240703T085821_20240726T201921_3373_134_126_063_EUM__OPE_NT_F09.SEN6\n",
      "S6A_P4_2__HR______20240623T100336_20240623T105949_20240718T123635_3373_133_126_063_EUM__OPE_NT_F09.SEN6\n",
      "S6A_P4_2__HR______20240613T130116_20240613T135729_20240708T191352_3373_132_127_063_EUM__OPE_NT_F09.SEN6\n",
      "S6A_P4_2__HR______20240613T120504_20240613T130116_20240708T190414_3372_132_126_063_EUM__OPE_NT_F09.SEN6\n",
      "S6A_P4_2__HR______20240603T140631_20240603T150244_20240628T200812_3373_131_126_063_EUM__OPE_NT_F09.SEN6\n",
      "S6A_P4_2__HR______20240524T160759_20240524T170412_20240619T235404_3373_130_126_063_EUM__OPE_NT_F09.SEN6\n",
      "S6A_P4_2__HR______20240514T180928_20240514T190541_20240610T104023_3373_129_126_063_EUM__OPE_NT_F09.SEN6\n",
      "S6A_P4_2__HR______20240504T201057_20240504T210710_20240605T220316_3373_128_126_063_EUM__OPE_NT_F09.SEN6\n",
      "S6A_P4_2__HR______20240424T221226_20240424T230839_20240601T083642_3373_127_126_063_EUM__OPE_NT_F09.SEN6\n",
      "S6A_P4_2__HR______20240405T031135_20240405T040748_20240523T055348_3373_125_127_063_EUM__OPE_NT_F09.SEN6\n",
      "S6A_P4_2__HR______20240316T061818_20240316T071431_20240509T132148_3373_123_126_063_EUM__OPE_NT_F09.SEN6\n",
      "S6A_P4_2__HR______20240306T081946_20240306T091559_20240506T134323_3373_122_126_063_EUM__OPE_NT_F09.SEN6\n",
      "S6A_P4_2__HR______20240225T102114_20240225T111727_20240322T014808_3373_121_126_063_EUM__OPE_NT_F09.SEN6\n",
      "S6A_P4_2__HR______20240215T122243_20240215T131856_20240310T051902_3373_120_126_063_EUM__OPE_NT_F09.SEN6\n",
      "S6A_P4_2__HR______20240205T142412_20240205T152025_20240301T051255_3373_119_126_063_EUM__OPE_NT_F08.SEN6\n",
      "S6A_P4_2__HR______20240126T172153_20240126T181806_20240221T023004_3373_118_127_063_EUM__OPE_NT_F08.SEN6\n",
      "S6A_P4_2__HR______20240116T182709_20240116T192322_20240209T093929_3373_117_126_063_EUM__OPE_NT_F08.SEN6\n",
      "S6A_P4_2__HR______20240106T212450_20240106T222103_20240131T012841_3373_116_127_063_EUM__OPE_NT_F08.SEN6\n",
      "S6A_P4_2__HR______20231227T223006_20231227T232619_20240120T212113_3373_115_126_063_EUM__OPE_NT_F08.SEN6\n",
      "S6A_P4_2__HR______20231218T012746_20231218T022359_20240111T035054_3373_114_127_063_EUM__OPE_NT_F08.SEN6\n",
      "S6A_P4_2__HR______20231218T003134_20231218T012746_20240111T034707_3372_114_126_063_EUM__OPE_NT_F08.SEN6\n",
      "S6A_P4_2__HR______20231208T032914_20231208T042527_20231230T200819_3373_113_127_063_EUM__OPE_NT_F08.SEN6\n",
      "S6A_P4_2__HR______20231128T043429_20231128T053042_20231222T020057_3373_112_126_063_EUM__OPE_NT_F08.SEN6\n",
      "S6A_P4_2__HR______20231118T073211_20231118T082824_20231213T001654_3373_111_127_063_EUM__OPE_NT_F08.SEN6\n",
      "S6A_P4_2__HR______20231108T093340_20231108T102953_20231202T093136_3373_110_127_063_EUM__OPE_NT_F08.SEN6\n",
      "S6A_P4_2__HR______20231029T113509_20231029T123122_20231123T104858_3373_109_127_063_EUM__OPE_NT_F08.SEN6\n",
      "S6A_P4_2__HR______20231029T103857_20231029T113509_20231123T102042_3372_109_126_063_EUM__OPE_NT_F08.SEN6\n",
      "S6A_P4_2__HR______20231009T153806_20231009T163419_20231108T004937_3373_107_127_063_EUM__OPE_NT_F08.SEN6\n",
      "S6A_P4_2__HR______20231009T144154_20231009T153806_20231108T004133_3372_107_126_063_EUM__OPE_NT_F08.SEN6\n",
      "S6A_P4_2__HR______20230929T164322_20230929T173935_20231025T013146_3373_106_126_063_EUM__OPE_NT_F08.SEN6\n",
      "S6A_P4_2__HR______20230909T214231_20230909T223844_20231004T122802_3373_104_127_063_EUM__OPE_NT_F08.SEN6\n",
      "S6A_P4_2__HR______20230830T234359_20230831T004012_20230924T102629_3373_103_127_063_EUM__OPE_NT_F08.SEN6\n",
      "S6A_P4_2__HR______20230830T224747_20230830T234359_20230924T102017_3372_103_126_063_EUM__OPE_NT_F08.SEN6\n",
      "S6A_P4_2__HR______20230821T014527_20230821T024140_20230916T042640_3373_102_127_063_EUM__OPE_NT_F08.SEN6\n",
      "S6A_P4_2__HR______20230801T045210_20230801T054823_20230824T233701_3373_100_126_063_EUM__OPE_NT_F08.SEN6\n",
      "S6A_P4_2__HR______20230722T065339_20230722T074952_20230816T004922_3373_099_126_063_EUM__OPE_NT_F08.SEN6\n",
      "S6A_P4_2__HR______20230712T085508_20230712T095121_20230805T063632_3373_098_126_063_EUM__OPE_NT_F08.SEN6\n",
      "S6A_P4_2__HR______20230702T115249_20230702T124902_20230728T051631_3373_097_127_063_EUM__OPE_NT_F08.SEN6\n",
      "S6A_P4_2__HR______20230622T125805_20230622T135418_20230717T112420_3373_096_126_063_EUM__OPE_NT_F08.SEN6\n",
      "S6A_P4_2__HR______20230612T145933_20230612T155546_20230706T030933_3373_095_126_063_EUM__OPE_NT_F08.SEN6\n",
      "S6A_P4_2__HR______20230602T175713_20230602T185326_20230628T071133_3373_094_127_063_EUM__OPE_NT_F08.SEN6\n",
      "S6A_P4_2__HR______20230602T170101_20230602T175713_20230628T065806_3372_094_126_063_EUM__OPE_NT_F08.SEN6\n",
      "S6A_P4_2__HR______20230523T190229_20230523T195842_20230618T071038_3373_093_126_063_EUM__OPE_NT_F08.SEN6\n",
      "S6A_P4_2__HR______20230504T000140_20230504T005753_20230527T222543_3373_091_127_063_EUM__OPE_NT_F08.SEN6\n",
      "S6A_P4_2__HR______20230424T020309_20230424T025922_20230518T132911_3373_090_127_063_EUM__OPE_NT_F08.SEN6\n",
      "S6A_P4_2__HR______20230414T030825_20230414T040438_20230508T142839_3373_089_126_063_EUM__OPE_NT_F08.SEN6\n",
      "S6A_P4_2__HR______20230404T060606_20230404T070219_20230429T053744_3373_088_127_063_EUM__OPE_NT_F08.SEN6\n",
      "S6A_P4_2__HR______20230315T100903_20230315T110516_20230408T050214_3373_086_127_063_EUM__OPE_NT_F08.SEN6\n",
      "S6A_P4_2__HR______20230315T091251_20230315T100903_20230408T040136_3372_086_126_063_EUM__OPE_NT_F08.SEN6\n",
      "S6A_P4_2__HR______20230305T111419_20230305T121032_20230401T031431_3373_085_126_063_EUM__OPE_NT_F08.SEN6\n",
      "S6A_P4_2__HR______20230223T131547_20230223T141200_20230319T143342_3373_084_126_063_EUM__OPE_NT_F08.SEN6\n",
      "S6A_P4_2__HR______20230213T161327_20230213T170940_20230311T055600_3373_083_127_063_EUM__OPE_NT_F08.SEN6\n",
      "S6A_P4_2__HR______20230213T151715_20230213T161327_20230311T055124_3372_083_126_063_EUM__OPE_NT_F08.SEN6\n"
     ]
    }
   ],
   "source": [
    "# set collection ID for S6 Poseidon-4 L2 high resolution products\n",
    "#collectionID = 'EO:EUM:DAT:0842'\n",
    "relorbit = '63'\n",
    "direction = 'DESCENDING'\n",
    "timeliness = 'NT'\n",
    "for collectionID in list_colIDs:\n",
    "    selected_collection = datastore.get_collection(collectionID)\n",
    "    products = selected_collection.search(\n",
    "        relorbit=relorbit,\n",
    "        orbitdir=direction,\n",
    "        timeliness=timeliness)\n",
    "    \n",
    "    for product in products:\n",
    "        print(product)"
   ]
  },
  {
   "cell_type": "markdown",
   "metadata": {},
   "source": [
    "take:\n",
    "- only the reprocessed for a given date (i.e. all the reprocessed, then only begin taking the operational)\n",
    "- the NT, then the ST when there's no more NT ??"
   ]
  },
  {
   "cell_type": "markdown",
   "metadata": {},
   "source": [
    "<div class=\"alert alert-info\" role=\"alert\">\n",
    "\n",
    "## <a id='section3'></a>Step 3: Downloading the products\n",
    "[Back to top](#TOC_TOP)\n",
    "\n",
    "</div>"
   ]
  },
  {
   "cell_type": "markdown",
   "metadata": {},
   "source": [
    "We have narrowed our search to a the required cycle and can now download them using the code below. This will write them into our specified directory and unzip them.\n",
    "\n",
    "*Note that here we are not using the ROI filtered list from the previous code cell.*"
   ]
  },
  {
   "cell_type": "markdown",
   "metadata": {},
   "source": [
    "<hr>\n",
    "<a href=\"../Index.ipynb\" target=\"_blank\"><< Index</a>\n",
    "<br>\n",
    "<a href=\"./2_4_iono_corr_solarstorms.ipiynb\" target=\"_blank\"><< Ionospheric correction solar storms</a>\n",
    "<hr>\n",
    "<a href=\"https://gitlab.eumetsat.int/eumetlab/ocean\">View on GitLab</a> | <a href=\"https://training.eumetsat.int/\">EUMETSAT Training</a> | <a href=mailto:ops@eumetsat.int>Contact helpdesk for support </a> | <a href=mailto:training@eumetsat.int>Contact our training team to collaborate on and reuse this material</a></span></p>"
   ]
  }
 ],
 "metadata": {
  "author": "Ben Loveday, Hayley Evers-King, Vinca Rosmorduc",
  "content_type": "Software & code",
  "data_access": [
   "Data Store",
   "WEkEO"
  ],
  "deployment": {
   "eumetsat": {
    "binder": {
     "link": "https://mybinder.org/v2/git/https%3A%2F%2Fgitlab.eumetsat.int%2Feumetlab%2Foceans%2Focean-training%2Fsensors%2Flearn-s6/HEAD?labpath=2_S6_advanced%2F2_5_acquire_S6_available_cycles.ipynb",
     "service_contact": "ops@eumetsat.int",
     "service_provider": "EUMETSAT"
    },
    "git": {
     "link": "https://gitlab.eumetsat.int/eumetlab/oceans/ocean-training/sensors/learn-s6/-/blob/main/2_S6_advanced/2_5_acquire_S6_available_cycles.ipynb",
     "service_contact": "ops@eumetsat.int",
     "service_provider": "EUMETSAT"
    }
   },
   "wekeo": {
    "git": {
     "link": "https://github.com/wekeo/learn-s6/blob/main/2_S6_advanced/2_5_acquire_S6_available_cycles.ipynb",
     "service_contact": "ops@eumetsat.int",
     "service_provider": "EUMETSAT"
    },
    "url": {
     "link": "https://jupyterhub.prod.wekeo2.eu/hub/user-redirect/lab/tree/public/wekeo4oceans/learn-s6/2_S6_advanced/2_5_acquire_S6_available_cycles.ipynb",
     "service_contact": "ops@eumetsat.int",
     "service_provider": "EUMETSAT"
    }
   }
  },
  "description": "This Jupyter Notebook shows how to acquire a Sentinel-6 Poseidon-4 Radar Altimeter track over all cycles via the EUMETSAT Data Store.",
  "image": "../img/thumbs/2_5_acquire_S6_available_cycles_thumb.png",
  "kernelspec": {
   "display_name": "Python 3 (ipykernel)",
   "language": "python",
   "name": "python3"
  },
  "language_info": {
   "codemirror_mode": {
    "name": "ipython",
    "version": 3
   },
   "file_extension": ".py",
   "mimetype": "text/x-python",
   "name": "python",
   "nbconvert_exporter": "python",
   "pygments_lexer": "ipython3",
   "version": "3.10.16"
  },
  "license": "MIT",
  "metadata_schema_version": "2.0.0",
  "originator": "EUMETSAT",
  "tags": {
   "data_provider": "EUMETSAT",
   "orbit": "LEO",
   "satellite": "Sentinel-6",
   "sensor": "Poseidon-4 (Sentinel-6)",
   "service": "Altimetry",
   "subtheme": [
    "Maritime safety",
    "Climate system monitoring - Ocean",
    "Ocean dynamics"
   ],
   "theme": "Marine",
   "variable": [
    "Sea surface height",
    "Significant wave height",
    "Wind speed",
    "Altimetry waveforms"
   ]
  },
  "title": "Accessing a Poseidon-4 data over all available cycles.",
  "version": "2.0.0",
  "version_date": "2024-07-01"
 },
 "nbformat": 4,
 "nbformat_minor": 4
}
