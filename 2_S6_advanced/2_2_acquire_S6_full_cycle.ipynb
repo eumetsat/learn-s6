{
 "cells": [
  {
   "cell_type": "markdown",
   "metadata": {},
   "source": [
    "<img src='https://gitlab.eumetsat.int/eumetlab/oceans/ocean-training/tools/frameworks/-/raw/main/img/Standard_banner.png' align='right' width='100%'/>"
   ]
  },
  {
   "cell_type": "markdown",
   "metadata": {},
   "source": [
    "<a href=\"../Index.ipynb\" target=\"_blank\"><< Index</a>\n",
    "<br>\n",
    "<a href=\"./2_1_S6_advanced_data_access_eumdac.ipynb\" target=\"_blank\"><< Advanced Sentinel-6 data access with the EUMDAC client</a>"
   ]
  },
  {
   "cell_type": "markdown",
   "metadata": {},
   "source": [
    "<font color=\"#138D75\">**Copernicus Marine Training Service**</font> <br>\n",
    "**Copyright:** 2022 EUMETSAT <br>\n",
    "**License:** MIT"
   ]
  },
  {
   "cell_type": "markdown",
   "metadata": {},
   "source": [
    "<div class=\"alert alert-block alert-success\">\n",
    "<h3>Learn Sentinel-6: Advanced</h3></div>"
   ]
  },
  {
   "cell_type": "markdown",
   "metadata": {},
   "source": [
    "<div class=\"alert alert-block alert-warning\">\n",
    "    \n",
    "<b>PREREQUISITES </b>\n",
    "    \n",
    "This notebook has the following prerequisites:\n",
    "- **<a href=\"https://eoportal.eumetsat.int/\" target=\"_blank\">A EUMETSAT Earth Observation Portal account</a>** to use the EUMETSAT Data Store\n",
    "    \n",
    "There are no prerequisite notebooks for this module.\n",
    "</div>\n",
    "<hr>"
   ]
  },
  {
   "cell_type": "markdown",
   "metadata": {},
   "source": [
    "# 2.2 Acquiring a full Sentinel-6 cycle\n",
    "\n",
    "### Data used\n",
    "\n",
    "| Product Description  | Data Store collection ID| Product Navigator | \n",
    "|:--------------------:|:-----------------------:|:-------------:|\n",
    "| Sentinel-6 Poseidon-4 Altimetry level-2 Low Resolution - Reprocessed | EO:EUM:DAT:0239 | <a href=\"https://navigator.eumetsat.int/product/EO:EUM:DAT:0239?query=0239&s=advanced \" target=\"_blank\">link</a> |\n",
    "\n",
    "### Learning outcomes\n",
    "\n",
    "At the end of this notebook you will know;\n",
    "* <font color=\"#138D75\">**Search**</font> for a time series of L2 Sentinel-6 data for a given cycle number using the EUMETSAT Data Store API client (`eumdac`)\n",
    "* <font color=\"#138D75\">**Download**</font> this time series\n",
    "\n",
    "### Outline\n",
    "\n",
    "The EUMETSAT Data Store offers many ways to interact with data in order to refine searches. Many of these methods are supported by the EUMETSAT Data Access Client (`eumdac`). In this notebook we will showcase some of the possibilities for using `eumdac` to better interact with Sentinel-6 collections.\n",
    "\n",
    "<div class=\"alert alert-info\" role=\"alert\">\n",
    "\n",
    "## <a id='TOC_TOP'></a>Contents\n",
    "\n",
    "</div>\n",
    "    \n",
    "1. [Step 1: Authenticating the API](#section1)\n",
    "1. [Step 2: Creating a search by collection](#section2)\n",
    "1. [Step 3: Filtering by cycle number](#section3)\n",
    "1. [Step 4: Downloading the data](#section4)\n",
    "\n",
    "<hr>"
   ]
  },
  {
   "cell_type": "markdown",
   "metadata": {},
   "source": [
    "We begin by importing all of the libraries that we need to run this notebook. If you have built your python using the environment file provided in this repository, then you should have everything you need. For more information on building environment, please see the repository **<a href=\"../README.md\" target=\"_blank\">README</a>**."
   ]
  },
  {
   "cell_type": "code",
   "execution_count": 1,
   "metadata": {},
   "outputs": [],
   "source": [
    "import os\n",
    "import json\n",
    "import datetime\n",
    "import shutil\n",
    "import eumdac\n",
    "import zipfile\n",
    "from shapely import geometry\n",
    "\n",
    "# Create a download directory for our Sentinel-6 products\n",
    "download_dir = os.path.join(os.getcwd(), \"products\")\n",
    "os.makedirs(download_dir, exist_ok=True)"
   ]
  },
  {
   "cell_type": "markdown",
   "metadata": {},
   "source": [
    "<div class=\"alert alert-info\" role=\"alert\">\n",
    "\n",
    "## <a id='section1'></a>Step 1: Authenticating the API\n",
    "[Back to top](#TOC_TOP)\n",
    "\n",
    "</div>"
   ]
  },
  {
   "cell_type": "markdown",
   "metadata": {},
   "source": [
    "Before we use the Data Store to download data, we must first authenticate our access and retrieve an access token. More **essential** information on setting this up can be found in the **<a href=\"../1_S6_introductory/1_1b_S6_data_access_DS.ipynb\">1_1b_S6_data_access_DS</a>** notebook."
   ]
  },
  {
   "cell_type": "code",
   "execution_count": 2,
   "metadata": {},
   "outputs": [
    {
     "name": "stdout",
     "output_type": "stream",
     "text": [
      "This token 'f35822b2-9368-387a-85a5-05013574439d' expires 2022-09-27 20:09:09.921112\n"
     ]
    }
   ],
   "source": [
    "# load credentials\n",
    "with open(os.path.join(os.path.expanduser(\"~\"),'.eumdac_credentials')) as json_file:\n",
    "    credentials = json.load(json_file)\n",
    "    token = eumdac.AccessToken((credentials['consumer_key'], credentials['consumer_secret']))\n",
    "    print(f\"This token '{token}' expires {token.expiration}\")\n",
    "\n",
    "# create data store object\n",
    "datastore = eumdac.DataStore(token)"
   ]
  },
  {
   "cell_type": "markdown",
   "metadata": {},
   "source": [
    "<div class=\"alert alert-info\" role=\"alert\">\n",
    "\n",
    "## <a id='section2'></a>Step 2: Creating a search by collection\n",
    "[Back to top](#TOC_TOP)\n",
    "\n",
    "</div>"
   ]
  },
  {
   "cell_type": "markdown",
   "metadata": {},
   "source": [
    "We will work with the Sentinel-6 level-2 low resolution data throughout this notebook. The collection ID for this data type is `EO:EUM:DAT:0239`. You can find this information on the Data Store (https://data.eumetsat.int/), or ask the `eumdac` client to tell you all the available collections by calling the `eumdac.DataStore(token).collections` method."
   ]
  },
  {
   "cell_type": "code",
   "execution_count": 3,
   "metadata": {},
   "outputs": [],
   "source": [
    "# set collection ID for S6 Poseidon-4 L2 low resolution reprocessing\n",
    "collectionID = 'EO:EUM:DAT:0239'\n",
    "cycle = 53"
   ]
  },
  {
   "cell_type": "markdown",
   "metadata": {},
   "source": [
    "To filter by collection, we simply provide the collectionID to the `datastore.get_collection method`"
   ]
  },
  {
   "cell_type": "code",
   "execution_count": 4,
   "metadata": {},
   "outputs": [
    {
     "name": "stdout",
     "output_type": "stream",
     "text": [
      "Poseidon-4 Altimetry Level 2 Low Resolution (baseline version F06) - Sentinel-6 - Reprocessed\n",
      "---\n",
      "This is a reprocessed dataset at baseline F06, which is continued by the NRT/NTC data stream from 29/April/2022 onwards. The product contain the typical altimetry measurements, like the altimeter range, the sea surface height, the wind speed, significant wave height and all required geophysical corrections and related flags derived from LR. Two measurement data files are available (standard and reduced), each with a different number of variables. The standard data file includes 1 Hz and 20 Hz measurements for the Ku- and C-bands as well as geophysical corrections at 1 Hz and some at 20 Hz. The reduced data file contains only 1 Hz measurements for the Ku- and C-bands as well as geophysical corrections at 1 Hz. These products are suitable for users seeking information on sea state and those creating downstream added value products from multiple altimeters. Sentinel-6 is part of a series of Sentinel satellites, under the umbrella of the EU Copernicus programme. It is a collaborative Copernicus mission, implemented and co-funded by the European Commission, ESA, EUMETSAT and the USA, through NASA and the National Oceanic and Atmospheric Administration (NOAA).\n"
     ]
    }
   ],
   "source": [
    "# Use collection ID\n",
    "selected_collection = datastore.get_collection(collectionID)\n",
    "print(f\"{selected_collection.title}\\n---\\n{selected_collection.abstract}\")"
   ]
  },
  {
   "cell_type": "markdown",
   "metadata": {},
   "source": [
    "<div class=\"alert alert-info\" role=\"alert\">\n",
    "\n",
    "## <a id='section3'></a>Step 3: Filtering by cycle number\n",
    "[Back to top](#TOC_TOP)\n",
    "\n",
    "</div>"
   ]
  },
  {
   "cell_type": "markdown",
   "metadata": {},
   "source": [
    "Now that we have our collection we can search within it using the cycle number to filter the results, as follows;"
   ]
  },
  {
   "cell_type": "code",
   "execution_count": 5,
   "metadata": {},
   "outputs": [
    {
     "name": "stdout",
     "output_type": "stream",
     "text": [
      "Found 254 products\n"
     ]
    }
   ],
   "source": [
    "products = selected_collection.search(\n",
    "    cycle=cycle)\n",
    "print(f\"Found {len(products)} products\")"
   ]
  },
  {
   "cell_type": "markdown",
   "metadata": {},
   "source": [
    "We can, of course, also filter by timeliness and ROI as follows, should we wish\n",
    "\n",
    "*Note that timeliness is obviously redundant when searching reprocessed collections*"
   ]
  },
  {
   "cell_type": "code",
   "execution_count": 6,
   "metadata": {},
   "outputs": [
    {
     "name": "stdout",
     "output_type": "stream",
     "text": [
      "Found 2 products\n"
     ]
    }
   ],
   "source": [
    "# set the ROI\n",
    "north = 45.00; south = 46.00; east = 12.00 ; west = 13.00\n",
    "ROI = [[west, south], [east, south], [east, north], [west, north], [west, south]]\n",
    "\n",
    "# convert to WKT\n",
    "ROI_WKT = geometry.Polygon([[p[0], p[1]] for p in ROI])\n",
    "\n",
    "# Launch the search\n",
    "ROI_filtered_products = selected_collection.search(\n",
    "    cycle=cycle,\n",
    "    timeliness=\"NT\",\n",
    "    geo=ROI_WKT)\n",
    "print(f\"Found {len(ROI_filtered_products)} products\")"
   ]
  },
  {
   "cell_type": "markdown",
   "metadata": {},
   "source": [
    "<div class=\"alert alert-info\" role=\"alert\">\n",
    "\n",
    "## <a id='section4'></a>Step 4: Downloading the products\n",
    "[Back to top](#TOC_TOP)\n",
    "\n",
    "</div>"
   ]
  },
  {
   "cell_type": "markdown",
   "metadata": {},
   "source": [
    "We have narrowed our search to a the required cycle and can now download them using the code below. This will write them into our specified directory and unzip them.\n",
    "\n",
    "*Note that here we are not using the ROI filtered list from the previous code cell.*"
   ]
  },
  {
   "cell_type": "code",
   "execution_count": 7,
   "metadata": {
    "scrolled": false
   },
   "outputs": [
    {
     "name": "stdout",
     "output_type": "stream",
     "text": [
      "Download 0: S6A_P4_2__LR______20220427T035656_20220427T045309_20220522T182237_3373_053_254_127_EUM__REP_NT_F06.SEN6\n",
      "Downloading:\n",
      "S6A_P4_2__LR______20220427T035656_20220427T045309_20220522T182237_3373_053_254_127_EUM__REP_NT_F06.SEN6.zip.\n",
      "Finished\n",
      "Unzipping:\n",
      "/Users/benloveday/Code/Git_Reps/CMTS/internal/sensors/learn-s6/2_S6_advanced/products/S6A_P4_2__LR______20220427T035656_20220427T045309_20220522T182237_3373_053_254_127_EUM__REP_NT_F06.SEN6.zip.\n",
      "Finished\n",
      "\n",
      "Download 1: S6A_P4_2__LR______20220427T030043_20220427T035656_20220522T181930_3373_053_253_126_EUM__REP_NT_F06.SEN6\n",
      "Downloading:\n",
      "S6A_P4_2__LR______20220427T030043_20220427T035656_20220522T181930_3373_053_253_126_EUM__REP_NT_F06.SEN6.zip.\n",
      "Finished\n",
      "Unzipping:\n",
      "/Users/benloveday/Code/Git_Reps/CMTS/internal/sensors/learn-s6/2_S6_advanced/products/S6A_P4_2__LR______20220427T030043_20220427T035656_20220522T181930_3373_053_253_126_EUM__REP_NT_F06.SEN6.zip.\n",
      "Finished\n",
      "\n",
      "Download 2: S6A_P4_2__LR______20220427T020430_20220427T030043_20220522T181549_3373_053_252_126_EUM__REP_NT_F06.SEN6\n",
      "Downloading:\n",
      "S6A_P4_2__LR______20220427T020430_20220427T030043_20220522T181549_3373_053_252_126_EUM__REP_NT_F06.SEN6.zip.\n",
      "Finished\n",
      "Unzipping:\n",
      "/Users/benloveday/Code/Git_Reps/CMTS/internal/sensors/learn-s6/2_S6_advanced/products/S6A_P4_2__LR______20220427T020430_20220427T030043_20220522T181549_3373_053_252_126_EUM__REP_NT_F06.SEN6.zip.\n",
      "Finished\n",
      "\n",
      "Download 3: S6A_P4_2__LR______20220427T010817_20220427T020430_20220522T181244_3373_053_251_125_EUM__REP_NT_F06.SEN6\n",
      "Downloading:\n",
      "S6A_P4_2__LR______20220427T010817_20220427T020430_20220522T181244_3373_053_251_125_EUM__REP_NT_F06.SEN6.zip.\n",
      "Finished\n",
      "Unzipping:\n",
      "/Users/benloveday/Code/Git_Reps/CMTS/internal/sensors/learn-s6/2_S6_advanced/products/S6A_P4_2__LR______20220427T010817_20220427T020430_20220522T181244_3373_053_251_125_EUM__REP_NT_F06.SEN6.zip.\n",
      "Finished\n",
      "\n",
      "Download 4: S6A_P4_2__LR______20220427T001204_20220427T010817_20220522T175249_3373_053_250_125_EUM__REP_NT_F06.SEN6\n",
      "Downloading:\n",
      "S6A_P4_2__LR______20220427T001204_20220427T010817_20220522T175249_3373_053_250_125_EUM__REP_NT_F06.SEN6.zip.\n",
      "Finished\n",
      "Unzipping:\n",
      "/Users/benloveday/Code/Git_Reps/CMTS/internal/sensors/learn-s6/2_S6_advanced/products/S6A_P4_2__LR______20220427T001204_20220427T010817_20220522T175249_3373_053_250_125_EUM__REP_NT_F06.SEN6.zip.\n",
      "Finished\n",
      "\n"
     ]
    }
   ],
   "source": [
    "max_products = 5\n",
    "for product, count in zip(products, range(len(products))):\n",
    "    if count >= max_products:\n",
    "        continue\n",
    "    print(f\"Download {count}: {product}\")\n",
    "    with product.open() as fsrc, open(os.path.join(download_dir, fsrc.name), mode='wb') as fdst:\n",
    "        print(f'Downloading:\\n{fsrc.name}.')\n",
    "        shutil.copyfileobj(fsrc, fdst)\n",
    "        print(f'Finished')\n",
    "\n",
    "    with zipfile.ZipFile(fdst.name, 'r') as zip_ref:\n",
    "        for file in zip_ref.namelist():\n",
    "            if file.startswith(str(product)):\n",
    "                zip_ref.extract(file, download_dir)\n",
    "        print(f'Unzipping:\\n{fdst.name}.')\n",
    "        print(f'Finished\\n')\n",
    "\n",
    "    os.remove(fdst.name)"
   ]
  },
  {
   "cell_type": "markdown",
   "metadata": {},
   "source": [
    "<div class=\"alert alert-block alert-warning\">\n",
    "\n",
    "### Challenge:\n",
    "\n",
    "Now you have run this for acquiring the Sentinel-6 Level-2 low resolution data using the cycle number, can you adapt it for other orbital parameters?"
   ]
  },
  {
   "cell_type": "markdown",
   "metadata": {},
   "source": [
    "<a href=\"../Index.ipynb\" target=\"_blank\"><< Index</a>\n",
    "<br>\n",
    "<a href=\"./2_1_S6_advanced_data_access_eumdac.ipynb\" target=\"_blank\"><< Advanced Poseidon-4 data access with the EUMDAC client</a>\n",
    "<hr>\n",
    "<a href=\"https://gitlab.eumetsat.int/eumetlab/ocean\">View on GitLab</a> | <a href=\"https://training.eumetsat.int/\">EUMETSAT Training</a> | <a href=mailto:ops@eumetsat.int>Contact helpdesk for support </a> | <a href=mailto:Copernicus.training@eumetsat.int>Contact our training team to collaborate on and reuse this material</a></span></p>"
   ]
  }
 ],
 "metadata": {
  "author": "Ben Loveday, Hayley Evers-King",
  "description": "This Jupyter Notebook covers how to access a full cycle of Poseidon-4 reprocessed data from the EUMETSAT Data Store.",
  "github": "https://github.com/wekeo/learn-s6/blob/main/2_S6_advanced/2_2_acquire_S6_full_cycle.ipynb",
  "image": "../img/thumbs/2_2_acquire_S6_full_cycle_thumb.png",
  "kernelspec": {
   "display_name": "Python 3 (ipykernel)",
   "language": "python",
   "name": "python3"
  },
  "language_info": {
   "codemirror_mode": {
    "name": "ipython",
    "version": 3
   },
   "file_extension": ".py",
   "mimetype": "text/x-python",
   "name": "python",
   "nbconvert_exporter": "python",
   "pygments_lexer": "ipython3",
   "version": "3.9.13"
  },
  "link": "https://jupyterhub-wekeo.apps.eumetsat.dpi.wekeo.eu/hub/user-redirect/lab/tree/public/ocean/learn-s6/2_S6_advanced/2_2_acquire_S6_full_cycle.ipynb",
  "tags": {
   "domain": "Ocean",
   "platform": "Sentinel-6",
   "sensor": "Poseidon-4",
   "tags": [
    "Sea surface height anomaly",
    "Significant wave height",
    "Wind speed",
    "Waveforms"
   ]
  },
  "title": "Accessing a full cycle of Poseidon-4 data via the EUMETSAT Data Store."
 },
 "nbformat": 4,
 "nbformat_minor": 2
}
