{
 "cells": [
  {
   "cell_type": "markdown",
   "metadata": {},
   "source": [
    "<img src='https://gitlab.eumetsat.int/eumetlab/oceans/ocean-training/tools/frameworks/-/raw/main/img/Standard_banner.png' align='right' width='100%'/>"
   ]
  },
  {
   "cell_type": "markdown",
   "metadata": {},
   "source": [
    "<a href=\"../Index.ipynb\"><< Index</a>\n",
    "<br>\n",
    "<a href=\"./2_2_S6_advanced_data_access_hda.ipynb\">Acquiring a full Sentinel-6 cycle >></a>"
   ]
  },
  {
   "cell_type": "markdown",
   "metadata": {},
   "source": [
    "<font color=\"#138D75\">**Copernicus Marine Training Service**</font> <br>\n",
    "**Copyright:** 2022 EUMETSAT <br>\n",
    "**License:** MIT <br>\n",
    "**Authors:** Ben Loveday (EUMETSAT/Innoflair UG), Hayley Evers-King (EUMETSAT), Vinca Rosmorduc (CLS)"
   ]
  },
  {
   "cell_type": "markdown",
   "metadata": {},
   "source": [
    "<div class=\"alert alert-block alert-success\">\n",
    "<h3>Learn Sentinel-6: Advanced</h3></div>"
   ]
  },
  {
   "cell_type": "markdown",
   "metadata": {},
   "source": [
    "<div class=\"alert alert-block alert-warning\">\n",
    "    \n",
    "<b>PREREQUISITES </b>\n",
    "    \n",
    "This notebook has the following prerequisites:\n",
    "- **<a href=\"https://eoportal.eumetsat.int/\" target=\"_blank\">A EUMETSAT Earth Observation Portal account</a>** to use the EUMETSAT Data Store\n",
    "    \n",
    "There are no prerequisite notebooks for this module.\n",
    "</div>\n",
    "<hr>"
   ]
  },
  {
   "cell_type": "markdown",
   "metadata": {},
   "source": [
    "# 2.1 Poseidon-4 advanced data access via the Data Store using eumdac\n",
    "\n",
    "### Data used\n",
    "\n",
    "| Product Description  | Data Store collection ID| Product Navigator | \n",
    "|:--------------------:|:-----------------------:|:-------------:|\n",
    "| Sentinel-6 Poseidon-4 Altimetry level-2 Low Resolution - Reprocessed | EO:EUM:DAT:0239 | <a href=\"https://navigator.eumetsat.int/product/EO:EUM:DAT:0239?query=0239&s=advanced \" target=\"_blank\">link</a> |\n",
    "\n",
    "### Learning outcomes\n",
    "\n",
    "At the end of this notebook you will know;\n",
    "* How to refine your <font color=\"#138D75\">**searches**</font> for Sentinel-6 products in the EUMETSAT Data Store using the `eumdac` API client\n",
    "* How to <font color=\"#138D75\">**download**</font> components of products\n",
    "\n",
    "### Outline\n",
    "\n",
    "The EUMETSAT Data Store offers many ways to interact with data in order to refine searches. Many of these methods are supported by the EUMETSAT Data Access Client (`eumdac`). In this notebook we will showcase some of the possibilities for using `eumdac` to better interact with Sentinel-6 collections.\n",
    "\n",
    "<div class=\"alert alert-info\" role=\"alert\">\n",
    "\n",
    "## <a id='TOC_TOP'></a>Contents\n",
    "\n",
    "</div>\n",
    "    \n",
    "1. [Example 1: Filter by collections](#section1)\n",
    "1. [Example 2: Filter by time](#section2)\n",
    "1. [Example 3: Filter by space and time](#section3)\n",
    "1. [Example 4: Download by component](#section4)\n",
    "1. [Example 4: Filter by orbital parameters](#section5)\n",
    "\n",
    "\n",
    "<hr>"
   ]
  },
  {
   "cell_type": "markdown",
   "metadata": {},
   "source": [
    "We begin by importing all of the libraries that we need to run this notebook. If you have built your python using the environment file provided in this repository, then you should have everything you need. For more information on building environment, please see the repository **<a href=\"../README.md\" target=\"_blank\">README</a>**."
   ]
  },
  {
   "cell_type": "code",
   "execution_count": 1,
   "metadata": {},
   "outputs": [],
   "source": [
    "import os\n",
    "import json\n",
    "import datetime\n",
    "import shutil\n",
    "import eumdac\n",
    "import inspect\n",
    "import xarray as xr\n",
    "import matplotlib.pyplot as plt\n",
    "import numpy as np\n",
    "import eumartools\n",
    "from shapely import geometry, vectorized\n",
    "\n",
    "# Create a download directory for our Sentinel-6 products\n",
    "download_dir = os.path.join(os.getcwd(), \"products\")\n",
    "os.makedirs(download_dir, exist_ok=True)"
   ]
  },
  {
   "cell_type": "markdown",
   "metadata": {},
   "source": [
    "Before we use the Data Store to download data, we must first authenticate our access and retrieve an access token. More information on setting this up can be found in the **<a href=\"../1_S6_introductory/1_1b_S6_data_access_DS.ipynb\">1_1b_S6_data_access_DS.ipynb</a>** notebook."
   ]
  },
  {
   "cell_type": "code",
   "execution_count": 2,
   "metadata": {},
   "outputs": [
    {
     "name": "stdout",
     "output_type": "stream",
     "text": [
      "This token 'f9cdf75d-c751-3ce8-a6a7-129b0a3bd26e' expires 2022-09-29 16:20:41.994255\n"
     ]
    }
   ],
   "source": [
    "# load credentials\n",
    "with open(os.path.join(os.path.expanduser(\"~\"),'.eumdac_credentials')) as json_file:\n",
    "    credentials = json.load(json_file)\n",
    "    token = eumdac.AccessToken((credentials['consumer_key'], credentials['consumer_secret']))\n",
    "    print(f\"This token '{token}' expires {token.expiration}\")\n",
    "\n",
    "# create data store object\n",
    "datastore = eumdac.DataStore(token)"
   ]
  },
  {
   "cell_type": "markdown",
   "metadata": {},
   "source": [
    "We will work with the Sentinel-6 level-2 low resolution data throughout this notebook. The collection ID for this data type is `EO:EUM:DAT:0239`."
   ]
  },
  {
   "cell_type": "code",
   "execution_count": 3,
   "metadata": {},
   "outputs": [],
   "source": [
    "# set collection ID for Sentinel-6 level-2 LR Reprocessed\n",
    "collectionID = 'EO:EUM:DAT:0239'"
   ]
  },
  {
   "cell_type": "markdown",
   "metadata": {},
   "source": [
    "<div class=\"alert alert-info\" role=\"alert\">\n",
    "\n",
    "## <a id='section1'></a>Example 1: Filtering by collection\n",
    "[Back to top](#TOC_TOP)\n",
    "\n",
    "</div>"
   ]
  },
  {
   "cell_type": "markdown",
   "metadata": {},
   "source": [
    "To filter by collection, we simply provide the collectionID to the `datastore.get_collection` method"
   ]
  },
  {
   "cell_type": "code",
   "execution_count": 4,
   "metadata": {},
   "outputs": [
    {
     "name": "stdout",
     "output_type": "stream",
     "text": [
      "Poseidon-4 Altimetry Level 2 Low Resolution (baseline version F06) - Sentinel-6 - Reprocessed\n"
     ]
    }
   ],
   "source": [
    "# Use collection ID\n",
    "selected_collection = datastore.get_collection(collectionID)\n",
    "print(selected_collection.title)"
   ]
  },
  {
   "cell_type": "markdown",
   "metadata": {},
   "source": [
    "Once we have specified a collection, we can also check available search filtering methods for it as follows"
   ]
  },
  {
   "cell_type": "code",
   "execution_count": 5,
   "metadata": {
    "scrolled": true
   },
   "outputs": [
    {
     "data": {
      "text/plain": [
       "{'bbox': {'title': 'Inventory which has a spatial extent overlapping this bounding box',\n",
       "  'options': []},\n",
       " 'geo': {'title': 'Inventory which has a spatial extent overlapping this Well Known Text geometry',\n",
       "  'options': []},\n",
       " 'title': {'title': 'Can be used to define a wildcard search on the product title (product identifier), use set notation as OR and space as AND operator between multiple search terms',\n",
       "  'options': [None]},\n",
       " 'sat': {'title': 'Mission / Satellite',\n",
       "  'options': ['Sentinel-3A',\n",
       "   'Sentinel-3B',\n",
       "   'MSG1',\n",
       "   'MSG2',\n",
       "   'MSG3',\n",
       "   'Metop-A',\n",
       "   'Metop-B',\n",
       "   'MSG4',\n",
       "   'METEOSAT7',\n",
       "   'SPIRE',\n",
       "   'METEOSAT5',\n",
       "   'Metop-C',\n",
       "   'METEOSAT2',\n",
       "   'Sentinel-6A',\n",
       "   'METEOSAT4',\n",
       "   'METEOSAT3',\n",
       "   'METEOSAT6',\n",
       "   'MCA']},\n",
       " 'type': {'title': 'Product Type',\n",
       "  'options': ['MSG15',\n",
       "   'MSGCLMK',\n",
       "   'SL_1_RBT___',\n",
       "   'OL_2_WFR___',\n",
       "   'MTP15FIDE0100',\n",
       "   'OL_1_EFR___',\n",
       "   'OL_2_WRR___',\n",
       "   'OL_1_ERR___',\n",
       "   'AVHxxx1B',\n",
       "   'AMSxxx1B',\n",
       "   'MHSxxx1B',\n",
       "   'ASCSMO02',\n",
       "   'ASCSMR02',\n",
       "   'SR_1_SRA___',\n",
       "   'SR_2_WAT___',\n",
       "   'IASSND02',\n",
       "   'HIRxxx1B',\n",
       "   'SR_1_SRA_A_',\n",
       "   'SR_1_SRA_BS',\n",
       "   'SL_2_FRP___',\n",
       "   'SL_2_AOD___',\n",
       "   'ASCSZR1B',\n",
       "   'ASCSZO1B',\n",
       "   'ASCSZF1B',\n",
       "   'OASWC12',\n",
       "   'GOMxxx1B0300',\n",
       "   'SL_2_WST___',\n",
       "   'IASxxx1C',\n",
       "   'GOMxxx1B',\n",
       "   'ASCSZF1B0200',\n",
       "   'ASCSZO1B0200',\n",
       "   'ASCSZR1B0200',\n",
       "   'OR1ASWC12',\n",
       "   'OR1ASW025',\n",
       "   'MW_1_MWR___',\n",
       "   '1A_PODOBS_SPIRE',\n",
       "   '1A_LEOORB_SPIRE',\n",
       "   '1B_MANTEC_SPIRE',\n",
       "   '1B_PODTEC_SPIRE',\n",
       "   '1A_IONOBS_SPIRE',\n",
       "   '1A_LEOATT_SPIRE',\n",
       "   '00_ROCREF_SPIRE',\n",
       "   '1B_BND',\n",
       "   '1A_ATMPHS_SPIRE',\n",
       "   '00_ROCOBS_SPIRE',\n",
       "   '1B_ATMPRF_SPIRE',\n",
       "   '1B_BFRPRF_SPIRE',\n",
       "   '1B_MANATM_SPIRE',\n",
       "   '00_NAVOBS_SPIRE',\n",
       "   '00_ATTOBS_SPIRE',\n",
       "   'MW_2__AMR____',\n",
       "   'P4_1B_LR_____',\n",
       "   'P4_2__LR_____',\n",
       "   'P4_1A_HR_____',\n",
       "   'P4_1B_HR_____',\n",
       "   'P4_2__HR_____',\n",
       "   'SL_2_WCT___',\n",
       "   'OSSTGLBN',\n",
       "   'SR_1_CAL___',\n",
       "   'MCA_IS_2S_PRODUCT',\n",
       "   'MCA_IS_2__LTCYREP',\n",
       "   'MCA_IS_1A_ENGL1A_',\n",
       "   'MCA_IS_1B_ENGL1B_',\n",
       "   'MCA_IS_1B_ISRFPIF',\n",
       "   'MCA_IS_ME_PRODUCT',\n",
       "   'MCA_IS_1C_ENGL1C_',\n",
       "   'MCA_IS_2__ENGL2__',\n",
       "   'MCA_IS_2L_PRODUCT',\n",
       "   'MCA_IS_2D_PRODUCT',\n",
       "   'MCA_IS_SP_PRODUCT',\n",
       "   'MCA_IS_1B_ISRF___',\n",
       "   'MCA_IS_1C_PRODUCT',\n",
       "   'MCA_IS_1B_PRODUCT',\n",
       "   'MCA_IS_CA_GICD___',\n",
       "   'MCA_IS_CA_LTCYREP',\n",
       "   'MCA_IS_0__CALIBPP',\n",
       "   'MCA_IS_0__PRODUCT',\n",
       "   'MCA_IS_2F_PRODUCT',\n",
       "   'MCA_IS_CA_GICS___',\n",
       "   'MCA_IS_1A_ISRF___',\n",
       "   'MCA_IS_1A_PRODUCT',\n",
       "   'MCA_IS_1C_LTCYREP',\n",
       "   'MCA_IS_XX_SAVEP12',\n",
       "   'MCA_IS_XX_WRKOR12',\n",
       "   'MCA_IS_1C_RPJL1C_',\n",
       "   'MCA_IS_3__LTCYREP',\n",
       "   'MCA_IS_2__RPJL2__',\n",
       "   'MCA_IS_1A_RPJL1A_',\n",
       "   'MCA_IS_2F_RPJL2F_',\n",
       "   'MCA_IS_2Y_LTCYREP',\n",
       "   'MCA_IS_3A_PRODUCT',\n",
       "   'MCA_IS_3K_PRODUCT',\n",
       "   'MCA_IS_XX_SAVEPCA',\n",
       "   'MCA_IS_XX_XXXXXXX',\n",
       "   'MCA_IS_MC_LWDAML_',\n",
       "   'MCA_IS_MC_LWDASFC',\n",
       "   'MCA_IS_RD_OPERML_',\n",
       "   'MCA_IS_2Y_PRODUCT',\n",
       "   'MCA_IS_XX_WRKORCA',\n",
       "   'MCA_IS_XX_WRKOR3A',\n",
       "   'MCA_IS_XX_WRKOR3K',\n",
       "   'MCA_IS_CA_CNFPROC',\n",
       "   'MCA_IS_MC_OPERML_',\n",
       "   'MCA_IS_MC_OPERSFC',\n",
       "   'MCA_IS_XX_SAVEP3A',\n",
       "   'MCA_IS_XX_SAVEP3K',\n",
       "   'MCA_IS_CA_GICV___',\n",
       "   'MCA_IS_0__RPJL0__',\n",
       "   'MCA_IS_1A_RPJL1B_',\n",
       "   'MCA_IS_3__RPJL3__',\n",
       "   'MCA_IS_XX_WRKOR2D',\n",
       "   'MCA_IS_1A_CNFPROC',\n",
       "   'MCA_IS_1A_GINIDKM',\n",
       "   'MCA_IS_1A_GINIRAD',\n",
       "   'MCA_IS_1A_GINSDKM',\n",
       "   'MCA_IS_1A_GINSDOP',\n",
       "   'MCA_IS_1A_GINSKST',\n",
       "   'MCA_IS_1A_GINSNAT',\n",
       "   'MCA_IS_1A_GINSNCT',\n",
       "   'MCA_IS_1A_GINSPIB',\n",
       "   'MCA_IS_1A_GINSPKD',\n",
       "   'MCA_IS_1A_GINSPKP',\n",
       "   'MCA_IS_1A_GINSRAD',\n",
       "   'MCA_IS_1A_GINSXRD',\n",
       "   'MCA_IS_1A_GITSPCA',\n",
       "   'MCA_IS_1B_CNFPROC',\n",
       "   'MCA_IS_1B_CNFSPLT',\n",
       "   'MCA_IS_1B_GIASFSF',\n",
       "   'MCA_IS_1B_GINIGEO',\n",
       "   'MCA_IS_1B_GINIREC',\n",
       "   'MCA_IS_1B_GINSFIS',\n",
       "   'MCA_IS_1B_GINSFSF',\n",
       "   'MCA_IS_1B_GINSPIF',\n",
       "   'MCA_IS_1B_GINSRFA',\n",
       "   'MCA_IS_1B_GINXGEO',\n",
       "   'MCA_IS_1C_CNFMERG',\n",
       "   'MCA_IS_1C_CNFPROC',\n",
       "   'MCA_IS_1C_CNFSPLT',\n",
       "   'MCA_IS_1C_GIASPIK',\n",
       "   'MCA_IS_1C_GINCSPE',\n",
       "   'MCA_IS_1C_GINGPHY',\n",
       "   'MCA_IS_1C_GINORTC',\n",
       "   'MCA_IS_1C_GINPCLD',\n",
       "   'MCA_IS_1C_GINPGEO',\n",
       "   'MCA_IS_1C_GINPMAP',\n",
       "   'MCA_IS_1C_GINPRAD',\n",
       "   'MCA_IS_1C_GINRSPE',\n",
       "   'MCA_IS_1C_GITSPLR',\n",
       "   'MCA_IS_1C_ISRF___',\n",
       "   'MCA_IS_1__GIAICON',\n",
       "   'MCA_IS_1__GIASCON',\n",
       "   'MCA_IS_1__GIASISR',\n",
       "   'MCA_IS_1__GIASPLR',\n",
       "   'MCA_IS_1__GINSISR',\n",
       "   'MCA_IS_1__GINSMIL',\n",
       "   'MCA_IS_1__GITIGEO',\n",
       "   'MCA_IS_1__GITSCON',\n",
       "   'MCA_IS_1__GITSGEO',\n",
       "   'MCA_IS_2Y_CNFPROC',\n",
       "   'MCA_IS_2Y_LGSL2Y_',\n",
       "   'MCA_IS_2__CNFFILT',\n",
       "   'MCA_IS_2__CNFFLUO',\n",
       "   'MCA_IS_2__CNFMERG',\n",
       "   'MCA_IS_2__CNFPROC',\n",
       "   'MCA_IS_2__GINFLUO',\n",
       "   'MCA_IS_3A_LGSL3A_',\n",
       "   'MCA_IS_3K_TPL3KCO',\n",
       "   'MCA_IS_3__CNFPROC',\n",
       "   'MCA_IS_CA_GIAIEQL',\n",
       "   'MCA_IS_CA_GIASDIF',\n",
       "   'MCA_IS_CA_GIASSUN',\n",
       "   'MCA_IS_CA_GINCDIN',\n",
       "   'MCA_IS_CA_GINCDIS',\n",
       "   'MCA_IS_CA_GINCIAB',\n",
       "   'MCA_IS_CA_GINCIDK',\n",
       "   'MCA_IS_CA_GINCIEQ',\n",
       "   'MCA_IS_CA_GINCIPX',\n",
       "   'MCA_IS_CA_GINCISR',\n",
       "   'MCA_IS_CA_GINCKST',\n",
       "   'MCA_IS_CA_GINCSAB',\n",
       "   'MCA_IS_CA_GINCSEQ',\n",
       "   'MCA_IS_CA_GINCSPX',\n",
       "   'MCA_IS_CA_GINSDRK',\n",
       "   'MCA_IS_CA_GITSSUN',\n",
       "   'MCA_IS_XX_CNFDPU_',\n",
       "   'MCA_IS_XX_GIAIABG',\n",
       "   'MCA_IS_XX_GIAIDRK',\n",
       "   'MCA_IS_XX_GIAIGAI',\n",
       "   'MCA_IS_XX_GIAITRL',\n",
       "   'MCA_IS_XX_GIASDRK',\n",
       "   'MCA_IS_XX_GIASEQL',\n",
       "   'MCA_IS_XX_GIASKST',\n",
       "   'MCA_IS_XX_GIASTRL',\n",
       "   'MCA_IS_XX_GIN4ACF',\n",
       "   'MCA_IS_XX_GINIDCP',\n",
       "   'MCA_IS_XX_GINSDCP',\n",
       "   'MCA_IS_XX_GITSDRK',\n",
       "   'MCA_IS_XX_IERS___',\n",
       "   'MCA_IS_XX_SAVEP2D',\n",
       "   'MCA_IS_0__CNFSPLT',\n",
       "   'MCA_IS_1A_CNFMERG',\n",
       "   'MCA_IS_1A_LGSL1A_',\n",
       "   'MCA_IS_1B_CNFMERG',\n",
       "   'MCA_IS_1__IERS___',\n",
       "   'MCA_IS_2Y_RPJL2Y_',\n",
       "   'MCA_IS_3A_RPSL3A_',\n",
       "   'MCA_IS_3K_LGSL3K_',\n",
       "   'MCA_IS_3K_RPSL3K_',\n",
       "   'MCA_IS_CA_RPJLCA_']},\n",
       " 'dtstart': {'title': 'Temporal Start', 'options': []},\n",
       " 'dtend': {'title': 'Temporal End', 'options': []},\n",
       " 'publication': {'title': 'publication date', 'options': []},\n",
       " 'zone': {'title': 'Equi7grid main continental zone', 'options': []},\n",
       " 't6': {'title': 'Equi7grid 600km tile', 'options': []},\n",
       " 'timeliness': {'title': 'Timeliness', 'options': ['NT', 'NR', 'ST']},\n",
       " 'orbit': {'title': 'Orbit Number, must be a positive integer', 'options': []},\n",
       " 'relorbit': {'title': 'Relative Orbit Number, must be a positive integer',\n",
       "  'options': []},\n",
       " 'cycle': {'title': 'Cycle Number, must be a positive integer', 'options': []},\n",
       " 'fire': {'title': 'Fire Detected', 'options': ['false', 'true']},\n",
       " 'sort': {'title': 'SRU sort keys, see OpenSearch Extension for EO for details',\n",
       "  'options': ['publicationDate', 'start,time']},\n",
       " 'set': {'title': 'element set to return for each hit, default is full',\n",
       "  'options': ['full', 'brief']}}"
      ]
     },
     "execution_count": 5,
     "metadata": {},
     "output_type": "execute_result"
    }
   ],
   "source": [
    "selected_collection.search_options"
   ]
  },
  {
   "cell_type": "markdown",
   "metadata": {},
   "source": [
    "<div class=\"alert alert-info\" role=\"alert\">\n",
    "\n",
    "## <a id='section2'></a>Example 2: Filtering by time\n",
    "[Back to top](#TOC_TOP)\n",
    "\n",
    "</div>"
   ]
  },
  {
   "cell_type": "markdown",
   "metadata": {},
   "source": [
    "To get the latest product in a collection, we can just ask for the `.first()` method, when searching in our selected collection using `.search()`."
   ]
  },
  {
   "cell_type": "code",
   "execution_count": 6,
   "metadata": {},
   "outputs": [
    {
     "name": "stdout",
     "output_type": "stream",
     "text": [
      "S6A_P4_2__LR______20220428T003339_20220428T012952_20220522T193943_3373_054_022_011_EUM__REP_NT_F06.SEN6\n"
     ]
    }
   ],
   "source": [
    "# Get the latest product in a collection\n",
    "selected_collection = datastore.get_collection(collectionID)\n",
    "latest = selected_collection.search().first()\n",
    "print(latest)"
   ]
  },
  {
   "cell_type": "markdown",
   "metadata": {},
   "source": [
    "To filter by time, we can pass python datetime arguments to the **dtstart** and **dtend** arguments of our collection when using the `.search()` method."
   ]
  },
  {
   "cell_type": "code",
   "execution_count": 7,
   "metadata": {},
   "outputs": [
    {
     "name": "stdout",
     "output_type": "stream",
     "text": [
      "S6A_P4_2__LR______20220123T160250_20220123T165903_20220427T034113_3373_044_145_072_EUM__REP_NT_F06.SEN6\n",
      "S6A_P4_2__LR______20220123T150637_20220123T160250_20220427T033742_3373_044_144_072_EUM__REP_NT_F06.SEN6\n"
     ]
    }
   ],
   "source": [
    "# time filter the collection for products\n",
    "start = datetime.datetime(2022, 1, 23, 16, 0)\n",
    "end = datetime.datetime(2022, 1, 23, 16, 15)\n",
    "products = selected_collection.search(dtstart=start, dtend=end)\n",
    "\n",
    "for product in products:\n",
    "    print(product)"
   ]
  },
  {
   "cell_type": "markdown",
   "metadata": {},
   "source": [
    "<div class=\"alert alert-info\" role=\"alert\">\n",
    "\n",
    "## <a id='section3'></a>Example 3: Filtering by space and time\n",
    "[Back to top](#TOC_TOP)\n",
    "\n",
    "</div>"
   ]
  },
  {
   "cell_type": "markdown",
   "metadata": {},
   "source": [
    "We can also add geographical filtering by passing in a <a href=\"https://en.wikipedia.org/wiki/Well-known_text_representation_of_geometry\" target=\"_blank\">Well Known Text</a> (WKT) format region of interest into the **geo** argument of the `.search()` method."
   ]
  },
  {
   "cell_type": "code",
   "execution_count": 8,
   "metadata": {},
   "outputs": [
    {
     "name": "stdout",
     "output_type": "stream",
     "text": [
      "S6A_P4_2__LR______20220123T064041_20220123T073654_20220427T024643_3373_044_135_067_EUM__REP_NT_F06.SEN6\n"
     ]
    }
   ],
   "source": [
    "# space/time filter the collection for products\n",
    "selected_collection = datastore.get_collection(collectionID)\n",
    "start = datetime.datetime(2022, 1, 23)\n",
    "end = datetime.datetime(2022, 1, 24)\n",
    "roi = [[-1.0, -1.0], [4.0, -4.0], [8.0, -2.0], [9.0, 2.0], [6.0, 4.0], [1.0, 5.0], [-1.0, -1.0]]\n",
    "\n",
    "products = selected_collection.search(\n",
    "    geo='POLYGON(({}))'.format(','.join([\"{} {}\".format(*coord) for coord in roi])),\n",
    "    dtstart=start, \n",
    "    dtend=end)\n",
    "\n",
    "for product in products:\n",
    "    print(product)"
   ]
  },
  {
   "cell_type": "markdown",
   "metadata": {},
   "source": [
    "<div class=\"alert alert-info\" role=\"alert\">\n",
    "\n",
    "## <a id='section4'></a>Example 4: Downloading by component\n",
    "[Back to top](#TOC_TOP)\n",
    "\n",
    "</div>"
   ]
  },
  {
   "cell_type": "markdown",
   "metadata": {},
   "source": [
    "It is possible to download any component of a SAFE format file. This can be achieved by using iterating through the `entries` attribute of a product and string matching to your component of interest - in this case the manifest file. \n",
    "\n",
    "*Note: It is not currently possible to download a single variable from **inside** a netCDF file*."
   ]
  },
  {
   "cell_type": "code",
   "execution_count": 9,
   "metadata": {},
   "outputs": [
    {
     "name": "stdout",
     "output_type": "stream",
     "text": [
      "Downloading xfdumanifest.xml.\n",
      "Download of file xfdumanifest.xml finished.\n"
     ]
    }
   ],
   "source": [
    "# Get the latest product in a collection\n",
    "selected_collection = datastore.get_collection(collectionID)\n",
    "latest = selected_collection.search().first()\n",
    "\n",
    "for entry in latest.entries:\n",
    "    if 'xfdumanifest.xml' in entry:\n",
    "        with latest.open(entry=entry) as fsrc, open(os.path.join(os.getcwd(), 'products',fsrc.name),\n",
    "                                                    mode='wb') as fdst:\n",
    "            print(f'Downloading {fsrc.name}.')\n",
    "            shutil.copyfileobj(fsrc, fdst)\n",
    "            print(f'Download of file {fsrc.name} finished.')"
   ]
  },
  {
   "cell_type": "markdown",
   "metadata": {},
   "source": [
    "<div class=\"alert alert-info\" role=\"alert\">\n",
    "\n",
    "## <a id='section5'></a>Example 5: Filtering by orbital parameters\n",
    "[Back to top](#TOC_TOP)\n",
    "\n",
    "</div>"
   ]
  },
  {
   "cell_type": "markdown",
   "metadata": {},
   "source": [
    "We can also filter by orbital parameters as follows;"
   ]
  },
  {
   "cell_type": "code",
   "execution_count": 10,
   "metadata": {},
   "outputs": [],
   "source": [
    "# Use collection ID\n",
    "selected_collection = datastore.get_collection(collectionID)"
   ]
  },
  {
   "cell_type": "markdown",
   "metadata": {},
   "source": [
    "By cycle number (CYC)..."
   ]
  },
  {
   "cell_type": "code",
   "execution_count": 11,
   "metadata": {
    "scrolled": true
   },
   "outputs": [
    {
     "name": "stdout",
     "output_type": "stream",
     "text": [
      "-----------------------------------------------------------------_DURA_CYC_RPN_RON_EUM__REP_NT_F06.SEN6\n",
      "S6A_P4_2__LR______20210106T050744_20210106T060357_20220507T124625_3373_005_254_127_EUM__REP_NT_F06.SEN6\n"
     ]
    }
   ],
   "source": [
    "products = selected_collection.search(cycle=5)\n",
    "for product in products:\n",
    "    print(\"-----------------------------------------------------------------_DURA_CYC_RPN_RON_EUM__REP_NT_F06.SEN6\")\n",
    "    print(str(product))\n",
    "    break"
   ]
  },
  {
   "cell_type": "markdown",
   "metadata": {},
   "source": [
    "By relative orbit number (RON)..."
   ]
  },
  {
   "cell_type": "code",
   "execution_count": 12,
   "metadata": {},
   "outputs": [
    {
     "name": "stdout",
     "output_type": "stream",
     "text": [
      "-----------------------------------------------------------------_DURA_CYC_RPN_RON_EUM__REP_NT_F06.SEN6\n",
      "S6A_P4_2__LR______20220427T045309_20220427T054922_20220522T183703_3373_054_001_127_EUM__REP_NT_F06.SEN6\n"
     ]
    }
   ],
   "source": [
    "products = selected_collection.search(relorbit=127)\n",
    "for product in products:\n",
    "    print(\"-----------------------------------------------------------------_DURA_CYC_RPN_RON_EUM__REP_NT_F06.SEN6\")\n",
    "    print(str(product))\n",
    "    break"
   ]
  },
  {
   "cell_type": "markdown",
   "metadata": {},
   "source": [
    "By absolute orbit number..."
   ]
  },
  {
   "cell_type": "code",
   "execution_count": 13,
   "metadata": {},
   "outputs": [
    {
     "name": "stdout",
     "output_type": "stream",
     "text": [
      "S6A_P4_2__LR______20220410T023107_20220410T032720_20220522T101351_3373_052_071_035_EUM__REP_NT_F06.SEN6\n"
     ]
    }
   ],
   "source": [
    "products = selected_collection.search(orbit=6461)\n",
    "for product in products:\n",
    "    print(str(product))\n",
    "    break"
   ]
  },
  {
   "cell_type": "markdown",
   "metadata": {},
   "source": [
    "By relative pass number..."
   ]
  },
  {
   "cell_type": "code",
   "execution_count": 14,
   "metadata": {},
   "outputs": [
    {
     "name": "stdout",
     "output_type": "stream",
     "text": [
      "-----------------------------------------------------------------_DURA_CYC_RPN_RON_EUM__REP_NT_F06.SEN6\n",
      "S6A_P4_2__LR______20220418T144555_20220418T154208_20220522T132826_3373_053_035_017_EUM__REP_NT_F06.SEN6\n"
     ]
    }
   ],
   "source": [
    "products = selected_collection.search(title=\"*035_???_EUM*\")\n",
    "for product in products:\n",
    "    print(\"-----------------------------------------------------------------_DURA_CYC_RPN_RON_EUM__REP_NT_F06.SEN6\")\n",
    "    print(str(product))\n",
    "    break"
   ]
  },
  {
   "cell_type": "markdown",
   "metadata": {},
   "source": [
    "By absolute pass number. For this we need to convert absolute pass number into relative pass number and cycle number as follows;"
   ]
  },
  {
   "cell_type": "code",
   "execution_count": 15,
   "metadata": {},
   "outputs": [
    {
     "name": "stdout",
     "output_type": "stream",
     "text": [
      "Cycle number is: 52\n",
      "Relative pass number is: 70\n"
     ]
    }
   ],
   "source": [
    "# Absolute pass number\n",
    "absolute_pass_number = 12922\n",
    "\n",
    "# Sentinel-6 pass offset; the number of passes before we begin the initial cycle. A constant.\n",
    "pass_offset = 102\n",
    "\n",
    "# Sentinel-6 passes per cycle\n",
    "passes_per_cycle = 254\n",
    "cycle_number = int((absolute_pass_number + pass_offset + passes_per_cycle) / passes_per_cycle)\n",
    "relative_pass_number = absolute_pass_number - (cycle_number -1)*passes_per_cycle + pass_offset\n",
    "\n",
    "print(f\"Cycle number is: {cycle_number}\")\n",
    "print(f\"Relative pass number is: {relative_pass_number}\")"
   ]
  },
  {
   "cell_type": "markdown",
   "metadata": {},
   "source": [
    "Now we an search by cycle (CYC) and relative pass numbers (RPN)..."
   ]
  },
  {
   "cell_type": "code",
   "execution_count": 17,
   "metadata": {},
   "outputs": [
    {
     "name": "stdout",
     "output_type": "stream",
     "text": [
      "-----------------------------------------------------------------_DURA_CYC_RPN_RON_EUM__REP_NT_F06.SEN6\n",
      "S6A_P4_2__LR______20220410T013454_20220410T023107_20220522T101225_3373_052_070_035_EUM__REP_NT_F06.SEN6\n"
     ]
    }
   ],
   "source": [
    "products = selected_collection.search(cycle=cycle_number, title=f\"*{str(relative_pass_number).zfill(3)}_???_EUM*\")\n",
    "for product in products:\n",
    "    print(\"-----------------------------------------------------------------_DURA_CYC_RPN_RON_EUM__REP_NT_F06.SEN6\")\n",
    "    print(str(product))\n",
    "    break"
   ]
  },
  {
   "cell_type": "markdown",
   "metadata": {},
   "source": [
    "<a href=\"../Index.ipynb\"><< Index</a>\n",
    "<br>\n",
    "<a href=\"./2_2_S6_advanced_data_access_hda.ipynb\">Acquiring a full Poseidon-4 cycle >></a>\n",
    "<hr>\n",
    "<a href=\"https://gitlab.eumetsat.int/eumetlab/ocean\">View on GitLab</a> | <a href=\"https://training.eumetsat.int/\">EUMETSAT Training</a> | <a href=mailto:ops@eumetsat.int>Contact helpdesk for support </a> | <a href=mailto:Copernicus.training@eumetsat.int>Contact our training team to collaborate on and reuse this material</a></span></p>"
   ]
  }
 ],
 "metadata": {
  "author": "Ben Loveday, Hayley Evers-King",
  "description": "This Jupyter Notebook covers how to access Poseidon-4 data via the EUMETSAT Data Store using eumdac.",
  "github": "https://github.com/wekeo/learn-s6/blob/main/2_S6_advanced/2_1_S6_advanced_data_access_eumdac.ipynb",
  "image": "../img/thumbs/2_1_S6_advanced_data_access_eumdac_thumb.png",
  "kernelspec": {
   "display_name": "Python 3 (ipykernel)",
   "language": "python",
   "name": "python3"
  },
  "language_info": {
   "codemirror_mode": {
    "name": "ipython",
    "version": 3
   },
   "file_extension": ".py",
   "mimetype": "text/x-python",
   "name": "python",
   "nbconvert_exporter": "python",
   "pygments_lexer": "ipython3",
   "version": "3.9.13"
  },
  "link": "https://jupyterhub-wekeo.apps.eumetsat.dpi.wekeo.eu/hub/user-redirect/lab/tree/public/ocean/learn-s6/2_S6_advanced/2_1_S6_advanced_data_access_eumdac.ipynb",
  "tags": {
   "domain": "Ocean",
   "platform": "Sentinel-6",
   "sensor": "Poseidon-4",
   "tags": [
    "Sea surface height anomaly",
    "Significant wave height",
    "Wind speed",
    "Waveforms"
   ]
  },
  "title": "Poseidon-4 data access via the EUMETSAT Data Store using eumdac."
 },
 "nbformat": 4,
 "nbformat_minor": 2
}
