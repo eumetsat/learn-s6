{
 "cells": [
  {
   "cell_type": "markdown",
   "metadata": {},
   "source": [
    "<img src='https://gitlab.eumetsat.int/eumetlab/oceans/ocean-training/tools/frameworks/-/raw/main/img/Standard_banner.png' align='right' width='100%'/>"
   ]
  },
  {
   "cell_type": "markdown",
   "metadata": {},
   "source": [
    "<a href=\"../Index.ipynb\"><< Index</a>\n",
    "<br>\n",
    "<a href=\"./2_2_S6_advanced_data_access_hda.ipynb\">Acquiring a full Sentinel-6 cycle >></a>"
   ]
  },
  {
   "cell_type": "markdown",
   "metadata": {},
   "source": [
    "<font color=\"#138D75\">**Copernicus Marine Training Service**</font> <br>\n",
    "**Copyright:** 2024 EUMETSAT <br>\n",
    "**License:** MIT <br>\n",
    "**Authors:** Ben Loveday (EUMETSAT/Innoflair UG), Hayley Evers-King (EUMETSAT), Vinca Rosmorduc (CLS)"
   ]
  },
  {
   "cell_type": "markdown",
   "metadata": {},
   "source": [
    "<div class=\"alert alert-block alert-success\">\n",
    "<h3>Learn Sentinel-6: Advanced</h3></div>"
   ]
  },
  {
   "cell_type": "markdown",
   "metadata": {},
   "source": [
    "<div class=\"alert alert-block alert-warning\">\n",
    "    \n",
    "<b>PREREQUISITES </b>\n",
    "    \n",
    "This notebook has the following prerequisites:\n",
    "- **<a href=\"https://eoportal.eumetsat.int/\" target=\"_blank\">A EUMETSAT Earth Observation Portal account</a>** to use the EUMETSAT Data Store\n",
    "    \n",
    "There are no prerequisite notebooks for this module.\n",
    "</div>\n",
    "<hr>"
   ]
  },
  {
   "cell_type": "markdown",
   "metadata": {},
   "source": [
    "# 2.1 Poseidon-4 advanced data access via the Data Store using eumdac\n",
    "\n",
    "### Data used\n",
    "\n",
    "| Product Description  | Data Store collection ID| Product Navigator | \n",
    "|:--------------------:|:-----------------------:|:-------------:|\n",
    "| Sentinel-6 Poseidon-4 Altimetry level-2 Low Resolution - Reprocessed | EO:EUM:DAT:0239 | <a href=\"https://navigator.eumetsat.int/product/EO:EUM:DAT:0239?query=0239&s=advanced \" target=\"_blank\">link</a> |\n",
    "\n",
    "### Learning outcomes\n",
    "\n",
    "At the end of this notebook you will know;\n",
    "* How to refine your <font color=\"#138D75\">**searches**</font> for Sentinel-6 products in the EUMETSAT Data Store using the `eumdac` API client\n",
    "* How to <font color=\"#138D75\">**download**</font> components of products\n",
    "\n",
    "### Outline\n",
    "\n",
    "The EUMETSAT Data Store offers many ways to interact with data in order to refine searches. Many of these methods are supported by the EUMETSAT Data Access Client (`eumdac`). In this notebook we will showcase some of the possibilities for using `eumdac` to better interact with Sentinel-6 collections.\n",
    "\n",
    "<div class=\"alert alert-info\" role=\"alert\">\n",
    "\n",
    "## <a id='TOC_TOP'></a>Contents\n",
    "\n",
    "</div>\n",
    "    \n",
    "1. [Example 1: Filter by collections](#section1)\n",
    "1. [Example 2: Filter by time](#section2)\n",
    "1. [Example 3: Filter by space and time](#section3)\n",
    "1. [Example 4: Download by component](#section4)\n",
    "1. [Example 4: Filter by orbital parameters](#section5)\n",
    "\n",
    "\n",
    "<hr>"
   ]
  },
  {
   "cell_type": "markdown",
   "metadata": {},
   "source": [
    "We begin by importing all of the libraries that we need to run this notebook. If you have built your python using the environment file provided in this repository, then you should have everything you need. For more information on building environment, please see the repository **<a href=\"../README.md\" target=\"_blank\">README</a>**."
   ]
  },
  {
   "cell_type": "code",
   "execution_count": 1,
   "metadata": {},
   "outputs": [],
   "source": [
    "import shutil            # a library that allows us access to basic operating system commands like copy\n",
    "import os                # a library that allows us access to basic operating system commands like making directories\n",
    "import json              # a library that helps us make JSON format files\n",
    "import eumdac            # a tool that helps us download via the eumetsat/data-store\n",
    "import datetime          # a library that lets us deal with dates\n",
    "from pathlib import Path # a library that helps construct system path objects\n",
    "\n",
    "# Create a download directory for our Sentinel-6 products\n",
    "download_dir = os.path.join(os.getcwd(), \"products\")\n",
    "os.makedirs(download_dir, exist_ok=True)"
   ]
  },
  {
   "cell_type": "markdown",
   "metadata": {},
   "source": [
    "Before we use the Data Store to download data, we must first authenticate our access and retrieve an access token. More information on setting this up can be found in the **<a href=\"../1_S6_introductory/1_1a_S6_data_access_Data_Store.ipynb\">1_1a_S6_data_access_Data_Store.ipynb</a>** notebook."
   ]
  },
  {
   "cell_type": "code",
   "execution_count": 2,
   "metadata": {},
   "outputs": [
    {
     "name": "stdout",
     "output_type": "stream",
     "text": [
      "This token '82193280-313d-3a18-a37f-58b1ab8304d0' expires 2024-03-03 20:20:42.619203\n"
     ]
    }
   ],
   "source": [
    "# load credentials\n",
    "credentials_file = os.path.join(os.path.expanduser(\"~\"),'.eumdac','credentials')\n",
    "credentials = Path(credentials_file).read_text().split(',')\n",
    "token = eumdac.AccessToken((credentials[0], credentials[1]))\n",
    "print(f\"This token '{token}' expires {token.expiration}\")\n",
    "\n",
    "# create data store object\n",
    "datastore = eumdac.DataStore(token)"
   ]
  },
  {
   "cell_type": "markdown",
   "metadata": {},
   "source": [
    "We will work with the Sentinel-6 level-2 low resolution data throughout this notebook. The collection ID for this data type is `EO:EUM:DAT:0239`."
   ]
  },
  {
   "cell_type": "code",
   "execution_count": 3,
   "metadata": {},
   "outputs": [],
   "source": [
    "# set collection ID for Sentinel-6 level-2 LR Reprocessed\n",
    "collectionID = 'EO:EUM:DAT:0239'"
   ]
  },
  {
   "cell_type": "markdown",
   "metadata": {},
   "source": [
    "<div class=\"alert alert-info\" role=\"alert\">\n",
    "\n",
    "## <a id='section1'></a>Example 1: Filtering by collection\n",
    "[Back to top](#TOC_TOP)\n",
    "\n",
    "</div>"
   ]
  },
  {
   "cell_type": "markdown",
   "metadata": {},
   "source": [
    "To filter by collection, we simply provide the collectionID to the `datastore.get_collection` method"
   ]
  },
  {
   "cell_type": "code",
   "execution_count": 4,
   "metadata": {},
   "outputs": [
    {
     "name": "stdout",
     "output_type": "stream",
     "text": [
      "Poseidon-4 Altimetry Level 2 Low Resolution (baseline version F06) - Sentinel-6 - Reprocessed\n"
     ]
    }
   ],
   "source": [
    "# Use collection ID\n",
    "selected_collection = datastore.get_collection(collectionID)\n",
    "print(selected_collection.title)"
   ]
  },
  {
   "cell_type": "markdown",
   "metadata": {},
   "source": [
    "Once we have specified a collection, we can also check available search filtering methods for it as follows"
   ]
  },
  {
   "cell_type": "code",
   "execution_count": 5,
   "metadata": {
    "scrolled": true
   },
   "outputs": [
    {
     "data": {
      "text/plain": [
       "{'bbox': {'title': 'Inventory which has a spatial extent overlapping this bounding box',\n",
       "  'options': []},\n",
       " 'geo': {'title': 'Inventory which has a spatial extent overlapping this Well Known Text geometry',\n",
       "  'options': []},\n",
       " 'title': {'title': 'Can be used to define a wildcard search on the product title (product identifier), use set notation as OR and space as AND operator between multiple search terms',\n",
       "  'options': [None]},\n",
       " 'sat': {'title': 'Mission / Satellite', 'options': ['Sentinel-6A']},\n",
       " 'type': {'title': 'Product Type', 'options': ['P4_2__LR_____']},\n",
       " 'dtstart': {'title': 'Temporal Start', 'options': []},\n",
       " 'dtend': {'title': 'Temporal End', 'options': []},\n",
       " 'publication': {'title': 'publication date', 'options': []},\n",
       " 'zone': {'title': 'Equi7grid main continental zone',\n",
       "  'options': ['AN', 'NA', 'AS', 'OC', 'EU', 'SA', 'AF']},\n",
       " 't6': {'title': 'Equi7grid 600km tile', 'options': []},\n",
       " 'timeliness': {'title': 'Timeliness', 'options': ['NT']},\n",
       " 'orbit': {'title': 'Orbit Number, must be a positive integer', 'options': []},\n",
       " 'relorbit': {'title': 'Relative Orbit Number, must be a positive integer',\n",
       "  'options': []},\n",
       " 'cycle': {'title': 'Cycle Number, must be a positive integer', 'options': []},\n",
       " 'sort': {'title': 'SRU sort keys, see OpenSearch Extension for EO for details',\n",
       "  'options': ['publicationDate', 'start,time']},\n",
       " 'set': {'title': 'element set to return for each hit, default is full',\n",
       "  'options': ['full', 'brief']}}"
      ]
     },
     "execution_count": 5,
     "metadata": {},
     "output_type": "execute_result"
    }
   ],
   "source": [
    "selected_collection.search_options"
   ]
  },
  {
   "cell_type": "markdown",
   "metadata": {},
   "source": [
    "<div class=\"alert alert-info\" role=\"alert\">\n",
    "\n",
    "## <a id='section2'></a>Example 2: Filtering by time\n",
    "[Back to top](#TOC_TOP)\n",
    "\n",
    "</div>"
   ]
  },
  {
   "cell_type": "markdown",
   "metadata": {},
   "source": [
    "To get the latest product in a collection, we can just ask for the `.first()` method, when searching in our selected collection using `.search()`."
   ]
  },
  {
   "cell_type": "code",
   "execution_count": 6,
   "metadata": {},
   "outputs": [
    {
     "name": "stdout",
     "output_type": "stream",
     "text": [
      "S6A_P4_2__LR______20220428T003339_20220428T012952_20220522T193943_3373_054_022_011_EUM__REP_NT_F06.SEN6\n"
     ]
    }
   ],
   "source": [
    "# Get the latest product in a collection\n",
    "selected_collection = datastore.get_collection(collectionID)\n",
    "latest = selected_collection.search().first()\n",
    "print(latest)"
   ]
  },
  {
   "cell_type": "markdown",
   "metadata": {},
   "source": [
    "To filter by time, we can pass python datetime arguments to the **dtstart** and **dtend** arguments of our collection when using the `.search()` method."
   ]
  },
  {
   "cell_type": "code",
   "execution_count": 7,
   "metadata": {},
   "outputs": [
    {
     "name": "stdout",
     "output_type": "stream",
     "text": [
      "S6A_P4_2__LR______20220123T160250_20220123T165903_20220427T034113_3373_044_145_072_EUM__REP_NT_F06.SEN6\n",
      "S6A_P4_2__LR______20220123T150637_20220123T160250_20220427T033742_3373_044_144_072_EUM__REP_NT_F06.SEN6\n"
     ]
    }
   ],
   "source": [
    "# time filter the collection for products\n",
    "start = datetime.datetime(2022, 1, 23, 16, 0)\n",
    "end = datetime.datetime(2022, 1, 23, 16, 15)\n",
    "products = selected_collection.search(dtstart=start, dtend=end)\n",
    "\n",
    "for product in products:\n",
    "    print(product)"
   ]
  },
  {
   "cell_type": "markdown",
   "metadata": {},
   "source": [
    "<div class=\"alert alert-info\" role=\"alert\">\n",
    "\n",
    "## <a id='section3'></a>Example 3: Filtering by space and time\n",
    "[Back to top](#TOC_TOP)\n",
    "\n",
    "</div>"
   ]
  },
  {
   "cell_type": "markdown",
   "metadata": {},
   "source": [
    "We can also add geographical filtering by passing in a <a href=\"https://en.wikipedia.org/wiki/Well-known_text_representation_of_geometry\" target=\"_blank\">Well Known Text</a> (WKT) format region of interest into the **geo** argument of the `.search()` method."
   ]
  },
  {
   "cell_type": "code",
   "execution_count": 8,
   "metadata": {},
   "outputs": [
    {
     "name": "stdout",
     "output_type": "stream",
     "text": [
      "S6A_P4_2__LR______20220123T064041_20220123T073654_20220427T024643_3373_044_135_067_EUM__REP_NT_F06.SEN6\n"
     ]
    }
   ],
   "source": [
    "# space/time filter the collection for products\n",
    "selected_collection = datastore.get_collection(collectionID)\n",
    "start = datetime.datetime(2022, 1, 23)\n",
    "end = datetime.datetime(2022, 1, 24)\n",
    "roi = [[-1.0, -1.0], [4.0, -4.0], [8.0, -2.0], [9.0, 2.0], [6.0, 4.0], [1.0, 5.0], [-1.0, -1.0]]\n",
    "\n",
    "products = selected_collection.search(\n",
    "    geo='POLYGON(({}))'.format(','.join([\"{} {}\".format(*coord) for coord in roi])),\n",
    "    dtstart=start, \n",
    "    dtend=end)\n",
    "\n",
    "for product in products:\n",
    "    print(product)"
   ]
  },
  {
   "cell_type": "markdown",
   "metadata": {},
   "source": [
    "<div class=\"alert alert-info\" role=\"alert\">\n",
    "\n",
    "## <a id='section4'></a>Example 4: Downloading by component\n",
    "[Back to top](#TOC_TOP)\n",
    "\n",
    "</div>"
   ]
  },
  {
   "cell_type": "markdown",
   "metadata": {},
   "source": [
    "It is possible to download any component of a SAFE format file. This can be achieved by using iterating through the `entries` attribute of a product and string matching to your component of interest - in this case the manifest file. \n",
    "\n",
    "*Note: It is not currently possible to download a single variable from **inside** a netCDF file*."
   ]
  },
  {
   "cell_type": "code",
   "execution_count": 9,
   "metadata": {},
   "outputs": [
    {
     "name": "stdout",
     "output_type": "stream",
     "text": [
      "Downloading S6A_P4_2__LR_RED__NT_054_022_20220428T003339_20220428T012952_F06.nc.\n",
      "Download of file S6A_P4_2__LR_RED__NT_054_022_20220428T003339_20220428T012952_F06.nc finished.\n"
     ]
    }
   ],
   "source": [
    "# Get the latest product in a collection\n",
    "selected_collection = datastore.get_collection(collectionID)\n",
    "latest = selected_collection.search().first()\n",
    "\n",
    "for entry in latest.entries:\n",
    "    if 'LR_RED' in entry:\n",
    "        with latest.open(entry=entry) as fsrc, open(os.path.join(os.getcwd(), 'products',fsrc.name),\n",
    "                                                    mode='wb') as fdst:\n",
    "            print(f'Downloading {fsrc.name}.')\n",
    "            shutil.copyfileobj(fsrc, fdst)\n",
    "            print(f'Download of file {fsrc.name} finished.')"
   ]
  },
  {
   "cell_type": "markdown",
   "metadata": {},
   "source": [
    "<div class=\"alert alert-info\" role=\"alert\">\n",
    "\n",
    "## <a id='section5'></a>Example 5: Filtering by orbital parameters\n",
    "[Back to top](#TOC_TOP)\n",
    "\n",
    "</div>"
   ]
  },
  {
   "cell_type": "markdown",
   "metadata": {},
   "source": [
    "We can also filter by orbital parameters as follows;"
   ]
  },
  {
   "cell_type": "code",
   "execution_count": 10,
   "metadata": {},
   "outputs": [],
   "source": [
    "# Use collection ID\n",
    "selected_collection = datastore.get_collection(collectionID)"
   ]
  },
  {
   "cell_type": "markdown",
   "metadata": {},
   "source": [
    "By cycle number (CYC)..."
   ]
  },
  {
   "cell_type": "code",
   "execution_count": 11,
   "metadata": {
    "scrolled": true
   },
   "outputs": [
    {
     "name": "stdout",
     "output_type": "stream",
     "text": [
      "-----------------------------------------------------------------_DURA_CYC_RPN_RON_EUM__REP_NT_F06.SEN6\n",
      "S6A_P4_2__LR______20210106T050744_20210106T060357_20220507T124625_3373_005_254_127_EUM__REP_NT_F06.SEN6\n"
     ]
    }
   ],
   "source": [
    "products = selected_collection.search(cycle=5)\n",
    "for product in products:\n",
    "    print(\"-----------------------------------------------------------------_DURA_CYC_RPN_RON_EUM__REP_NT_F06.SEN6\")\n",
    "    print(str(product))\n",
    "    break"
   ]
  },
  {
   "cell_type": "markdown",
   "metadata": {},
   "source": [
    "By relative orbit number (RON)..."
   ]
  },
  {
   "cell_type": "code",
   "execution_count": 12,
   "metadata": {},
   "outputs": [
    {
     "name": "stdout",
     "output_type": "stream",
     "text": [
      "-----------------------------------------------------------------_DURA_CYC_RPN_RON_EUM__REP_NT_F06.SEN6\n",
      "S6A_P4_2__LR______20220427T045309_20220427T054922_20220522T183703_3373_054_001_127_EUM__REP_NT_F06.SEN6\n"
     ]
    }
   ],
   "source": [
    "products = selected_collection.search(relorbit=127)\n",
    "for product in products:\n",
    "    print(\"-----------------------------------------------------------------_DURA_CYC_RPN_RON_EUM__REP_NT_F06.SEN6\")\n",
    "    print(str(product))\n",
    "    break"
   ]
  },
  {
   "cell_type": "markdown",
   "metadata": {},
   "source": [
    "By absolute orbit number..."
   ]
  },
  {
   "cell_type": "code",
   "execution_count": 13,
   "metadata": {},
   "outputs": [
    {
     "name": "stdout",
     "output_type": "stream",
     "text": [
      "S6A_P4_2__LR______20220410T023107_20220410T032720_20220522T101351_3373_052_071_035_EUM__REP_NT_F06.SEN6\n"
     ]
    }
   ],
   "source": [
    "products = selected_collection.search(orbit=6461)\n",
    "for product in products:\n",
    "    print(str(product))\n",
    "    break"
   ]
  },
  {
   "cell_type": "markdown",
   "metadata": {},
   "source": [
    "By relative pass number..."
   ]
  },
  {
   "cell_type": "code",
   "execution_count": 14,
   "metadata": {},
   "outputs": [
    {
     "name": "stdout",
     "output_type": "stream",
     "text": [
      "-----------------------------------------------------------------_DURA_CYC_RPN_RON_EUM__REP_NT_F06.SEN6\n",
      "S6A_P4_2__LR______20220418T144555_20220418T154208_20220522T132826_3373_053_035_017_EUM__REP_NT_F06.SEN6\n"
     ]
    }
   ],
   "source": [
    "products = selected_collection.search(title=\"*035_???_EUM*\")\n",
    "for product in products:\n",
    "    print(\"-----------------------------------------------------------------_DURA_CYC_RPN_RON_EUM__REP_NT_F06.SEN6\")\n",
    "    print(str(product))\n",
    "    break"
   ]
  },
  {
   "cell_type": "markdown",
   "metadata": {},
   "source": [
    "By absolute pass number. For this we need to convert absolute pass number into relative pass number and cycle number as follows;"
   ]
  },
  {
   "cell_type": "code",
   "execution_count": 15,
   "metadata": {},
   "outputs": [
    {
     "name": "stdout",
     "output_type": "stream",
     "text": [
      "Cycle number is: 52\n",
      "Relative pass number is: 70\n"
     ]
    }
   ],
   "source": [
    "# Absolute pass number\n",
    "absolute_pass_number = 12922\n",
    "\n",
    "# Sentinel-6 pass offset; the number of passes before we begin the initial cycle. A constant.\n",
    "pass_offset = 102\n",
    "\n",
    "# Sentinel-6 passes per cycle\n",
    "passes_per_cycle = 254\n",
    "cycle_number = int((absolute_pass_number + pass_offset + passes_per_cycle) / passes_per_cycle)\n",
    "relative_pass_number = absolute_pass_number - (cycle_number -1)*passes_per_cycle + pass_offset\n",
    "\n",
    "print(f\"Cycle number is: {cycle_number}\")\n",
    "print(f\"Relative pass number is: {relative_pass_number}\")"
   ]
  },
  {
   "cell_type": "markdown",
   "metadata": {},
   "source": [
    "Now we an search by cycle (CYC) and relative pass numbers (RPN)..."
   ]
  },
  {
   "cell_type": "code",
   "execution_count": 16,
   "metadata": {},
   "outputs": [
    {
     "name": "stdout",
     "output_type": "stream",
     "text": [
      "-----------------------------------------------------------------_DURA_CYC_RPN_RON_EUM__REP_NT_F06.SEN6\n",
      "S6A_P4_2__LR______20220410T013454_20220410T023107_20220522T101225_3373_052_070_035_EUM__REP_NT_F06.SEN6\n"
     ]
    }
   ],
   "source": [
    "products = selected_collection.search(cycle=cycle_number, title=f\"*{str(relative_pass_number).zfill(3)}_???_EUM*\")\n",
    "for product in products:\n",
    "    print(\"-----------------------------------------------------------------_DURA_CYC_RPN_RON_EUM__REP_NT_F06.SEN6\")\n",
    "    print(str(product))\n",
    "    break"
   ]
  },
  {
   "cell_type": "markdown",
   "metadata": {},
   "source": [
    "<a href=\"../Index.ipynb\"><< Index</a>\n",
    "<br>\n",
    "<a href=\"./2_2_S6_advanced_data_access_hda.ipynb\">Acquiring a full Poseidon-4 cycle >></a>\n",
    "<hr>\n",
    "<a href=\"https://gitlab.eumetsat.int/eumetlab/ocean\">View on GitLab</a> | <a href=\"https://training.eumetsat.int/\">EUMETSAT Training</a> | <a href=mailto:ops@eumetsat.int>Contact helpdesk for support </a> | <a href=mailto:training@eumetsat.int>Contact our training team to collaborate on and reuse this material</a></span></p>"
   ]
  }
 ],
 "metadata": {
  "author": "Ben Loveday, Hayley Evers-King, Vinca Rosmorduc",
  "description": "This Jupyter Notebook shows advanced methods for accessing Sentinel-6 Poseidon-4 Radar Altimeter data via the EUMETSAT Data Store.",
  "image": "../img/thumbs/2_1_S6_advanced_data_access_eumdac_thumb.png",
  "kernelspec": {
   "display_name": "Python 3 (ipykernel)",
   "language": "python",
   "name": "python3"
  },
  "language_info": {
   "codemirror_mode": {
    "name": "ipython",
    "version": 3
   },
   "file_extension": ".py",
   "mimetype": "text/x-python",
   "name": "python",
   "nbconvert_exporter": "python",
   "pygments_lexer": "ipython3",
   "version": "3.10.13"
  },
  "services": {
   "eumetsat": {
    "binder": {
     "link": "https://mybinder.org/v2/git/https%3A%2F%2Fgitlab.eumetsat.int%2Feumetlab%2Foceans%2Focean-training%2Fsensors%2Flearn-s6/HEAD?urlpath=%2Ftree%2F2_S6_advanced%2F2_1_S6_advanced_data_access_eumdac.ipynb",
     "service_contact": "ops@eumetsat.int",
     "service_provider": "EUMETSAT"
    },
    "git": {
     "link": "https://gitlab.eumetsat.int/eumetlab/oceans/ocean-training/sensors/learn-s6/-/blob/main/2_S6_advanced/2_1_S6_advanced_data_access_eumdac.ipynb",
     "service_contact": "ops@eumetsat.int",
     "service_provider": "EUMETSAT"
    }
   },
   "wekeo": {
    "git": {
     "link": "",
     "service_contact": "ops@eumetsat.int",
     "service_provider": "EUMETSAT"
    },
    "url": {
     "link": "",
     "service_contact": "ops@eumetsat.int",
     "service_provider": "EUMETSAT"
    }
   }
  },
  "tags": {
   "domain": "Marine",
   "platform": [
    "Sentinel-6"
   ],
   "sensor": "Poseidon-4",
   "service": "EUMETSAT",
   "subtheme": [
    "Maritime safety",
    "Ocean dynamics"
   ],
   "tags": [
    "Sea surface height",
    "Significant wave height",
    "Wind speed",
    "Altimetry waveforms"
   ]
  },
  "title": "Accessing Sentinel-6 data via EUMETSAT Data Store: advanced methods"
 },
 "nbformat": 4,
 "nbformat_minor": 4
}
